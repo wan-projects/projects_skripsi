{
 "cells": [
  {
   "cell_type": "markdown",
   "metadata": {},
   "source": [
    "# Setup Environment "
   ]
  },
  {
   "cell_type": "code",
   "execution_count": 1,
   "metadata": {},
   "outputs": [],
   "source": [
    "# pip install opencv-python"
   ]
  },
  {
   "cell_type": "code",
   "execution_count": 2,
   "metadata": {},
   "outputs": [],
   "source": [
    "# pip install matplotlib"
   ]
  },
  {
   "cell_type": "code",
   "execution_count": 3,
   "metadata": {},
   "outputs": [],
   "source": [
    "# pip install tensorflow"
   ]
  },
  {
   "cell_type": "code",
   "execution_count": 4,
   "metadata": {},
   "outputs": [],
   "source": [
    "# pip install scipy"
   ]
  },
  {
   "cell_type": "code",
   "execution_count": 5,
   "metadata": {},
   "outputs": [],
   "source": [
    "# pip install scikit-learn"
   ]
  },
  {
   "cell_type": "markdown",
   "metadata": {},
   "source": [
    "# Import Library"
   ]
  },
  {
   "cell_type": "code",
   "execution_count": 6,
   "metadata": {},
   "outputs": [],
   "source": [
    "import os\n",
    "import cv2\n",
    "import random\n",
    "import shutil\n",
    "import string\n",
    "import numpy as np\n",
    "import matplotlib.pyplot as plt\n",
    "from tensorflow.keras.preprocessing import image\n",
    "from sklearn.model_selection import train_test_split\n",
    "from tensorflow.keras.preprocessing.image import ImageDataGenerator"
   ]
  },
  {
   "cell_type": "markdown",
   "metadata": {},
   "source": [
    "# Preprocessing"
   ]
  },
  {
   "cell_type": "markdown",
   "metadata": {},
   "source": [
    "### Filtering"
   ]
  },
  {
   "cell_type": "code",
   "execution_count": 7,
   "metadata": {},
   "outputs": [
    {
     "name": "stdout",
     "output_type": "stream",
     "text": [
      "Filtering completed and filtered images saved !\n"
     ]
    }
   ],
   "source": [
    "class ImageProcessor:\n",
    "    def __init__(self, dataset_path, output_img_filter, threshold):\n",
    "        self.dataset_path = dataset_path\n",
    "        self.output_img_filter = output_img_filter\n",
    "        self.threshold = threshold\n",
    "\n",
    "    def laplacian_of_gaussian(self, image):\n",
    "        # Gaussian Blur\n",
    "        image_blurred = cv2.GaussianBlur(image, (15, 15), 0)\n",
    "\n",
    "        # Laplacian of Gaussian (LoG) Operator\n",
    "        edges_log = cv2.Laplacian(image_blurred, cv2.CV_64F, ksize=3)\n",
    "\n",
    "        # Thresholding untuk hasil deteksi tepi\n",
    "        detected_edges_log = np.zeros_like(edges_log, dtype=np.uint8)\n",
    "        detected_edges_log[edges_log > self.threshold] = 255\n",
    "\n",
    "        return detected_edges_log\n",
    "\n",
    "    def process_images(self):\n",
    "        # Buat folder untuk menyimpan hasil filter jika belum ada\n",
    "        if not os.path.exists(self.output_img_filter):\n",
    "            os.makedirs(self.output_img_filter)\n",
    "\n",
    "        # Iterasi melalui setiap subfolder\n",
    "        for folder_name in os.listdir(self.dataset_path):\n",
    "            folder_path = os.path.join(self.dataset_path, folder_name)\n",
    "\n",
    "            # Pastikan yang diakses adalah subfolder\n",
    "            if os.path.isdir(folder_path):\n",
    "                # print(f\"Processing images in folder: {folder_name}\")\n",
    "\n",
    "                # Membuat subfolder dalam folder output dengan nama yang sama dengan subfolder di dataset\n",
    "                output_folder_path = os.path.join(self.output_img_filter, folder_name)\n",
    "                if not os.path.exists(output_folder_path):\n",
    "                    os.makedirs(output_folder_path)\n",
    "\n",
    "                # Iterasi melalui setiap gambar dalam subfolder\n",
    "                for image_name in os.listdir(folder_path):\n",
    "                    image_path = os.path.join(folder_path, image_name)\n",
    "\n",
    "                    # Memeriksa apakah file yang diakses adalah file gambar\n",
    "                    if image_name.endswith(('.png', '.jpg', '.jpeg')):\n",
    "                        # Membaca gambar\n",
    "                        image = cv2.imread(image_path, cv2.IMREAD_GRAYSCALE)\n",
    "\n",
    "                        # Memanggil fungsi Laplacian of Gaussian Operator\n",
    "                        result = self.laplacian_of_gaussian(image)\n",
    "\n",
    "                        # Menyimpan hasil filter ke folder output\n",
    "                        output_image_path = os.path.join(output_folder_path, image_name)\n",
    "                        cv2.imwrite(output_image_path, result)\n",
    "\n",
    "        print(\"Filtering completed and filtered images saved !\")\n",
    "\n",
    "# Inisialisasi objek ImageProcessor dan panggil metode process_images\n",
    "dataset_path = \"../data/data_original/javaneseScript_byPhiard/train\"\n",
    "output_img_filter = \"../data/data_preprocessing/v0.4/filtered/\"\n",
    "threshold = 5\n",
    "\n",
    "processor = ImageProcessor(dataset_path, output_img_filter, threshold)\n",
    "processor.process_images()"
   ]
  },
  {
   "cell_type": "markdown",
   "metadata": {},
   "source": [
    "### Augmented Data"
   ]
  },
  {
   "cell_type": "code",
   "execution_count": 8,
   "metadata": {},
   "outputs": [
    {
     "name": "stdout",
     "output_type": "stream",
     "text": [
      "Image Augmentation Complete!\n"
     ]
    }
   ],
   "source": [
    "\n",
    "class ImageAugmentor:\n",
    "    def __init__(self, dataset_dir, output_img_aug):\n",
    "        self.dataset_dir = dataset_dir\n",
    "        self.output_img_aug = output_img_aug\n",
    "\n",
    "    def augment_images(self):\n",
    "        datagen = ImageDataGenerator(\n",
    "            rotation_range=19,\n",
    "            shear_range=0.1,\n",
    "            zoom_range=0.1,\n",
    "            fill_mode='nearest'\n",
    "        )\n",
    "\n",
    "        # Membuat folder baru untuk menyimpan hasil augmentasi\n",
    "        if not os.path.exists(self.output_img_aug):\n",
    "            os.makedirs(self.output_img_aug)\n",
    "\n",
    "        # Loop melalui setiap kelas dalam dataset\n",
    "        for class_name in os.listdir(self.dataset_dir):\n",
    "            class_path = os.path.join(self.dataset_dir, class_name)\n",
    "\n",
    "            # Membuat folder baru untuk setiap kelas di dalam folder output\n",
    "            output_class_path = os.path.join(self.output_img_aug, class_name)\n",
    "            if not os.path.exists(output_class_path):\n",
    "                os.makedirs(output_class_path)\n",
    "\n",
    "            # Mendapatkan list file gambar di setiap kelas\n",
    "            image_files = [os.path.join(class_path, file) for file in os.listdir(class_path) if\n",
    "                           file.endswith(('jpg', 'jpeg', 'png'))]\n",
    "\n",
    "            # Loop melalui setiap file gambar dan augmentasi datanya\n",
    "            for img_path in image_files:\n",
    "                # img = image.load_img(img_path, target_size=(64, 64), color_mode='grayscale')\n",
    "                img = image.load_img(img_path, target_size=(64, 64))\n",
    "                x = image.img_to_array(img)\n",
    "                x = x.reshape((1,) + x.shape)\n",
    "\n",
    "                # Proses augmented images\n",
    "                i = 0\n",
    "                for batch in datagen.flow(x, batch_size=32, save_to_dir=output_class_path,\n",
    "                                          save_prefix=os.path.splitext(os.path.basename(img_path))[0] + '_aug',\n",
    "                                          save_format='png'):\n",
    "                    i += 1\n",
    "                    if i >= 655:\n",
    "                        break\n",
    "                break\n",
    "\n",
    "        print(f\"Image Augmentation Complete!\")\n",
    "\n",
    "# Contoh penggunaan:\n",
    "dataset_dir = output_img_filter\n",
    "output_img_aug = \"../data/data_preprocessing/v0.4/augmented/\"\n",
    "\n",
    "augmentor = ImageAugmentor(dataset_dir, output_img_aug)\n",
    "augmentor.augment_images()"
   ]
  },
  {
   "cell_type": "code",
   "execution_count": 9,
   "metadata": {},
   "outputs": [
    {
     "data": {
      "image/png": "[encoded data removed]",
      "text/plain": [
       "<Figure size 1200x600 with 1 Axes>"
      ]
     },
     "metadata": {},
     "output_type": "display_data"
    }
   ],
   "source": [
    "# Inisialisasi dictionary untuk menyimpan jumlah setiap kelas\n",
    "counter_kelas = {}\n",
    "\n",
    "# Menghitung jumlah setiap kelas\n",
    "for kelas_folder in os.listdir(output_img_aug):\n",
    "    kelas_folder_path = os.path.join(output_img_aug, kelas_folder) \n",
    "    \n",
    "    # Memastikan bahwa yang sedang diiterasi adalah direktori (bukan file)\n",
    "    if os.path.isdir(kelas_folder_path):\n",
    "        # Inisialisasi hitungan untuk kelas tertentu\n",
    "        kelas_counter = 0\n",
    "        \n",
    "        # Menghitung jumlah file PNG di dalam subfolder\n",
    "        for file in os.listdir(kelas_folder_path):\n",
    "            if file.lower().endswith('.png'):\n",
    "                kelas_counter += 1\n",
    "        \n",
    "        # Menyimpan jumlah file PNG untuk kelas tertentu\n",
    "        counter_kelas[kelas_folder] = kelas_counter\n",
    "        \n",
    "# Memisahkan nama kelas dan jumlah\n",
    "kelas = list(counter_kelas.keys())\n",
    "jumlah = list(counter_kelas.values())\n",
    "\n",
    "# Membuat diagram batang dengan label dan warna yang berbeda\n",
    "fig, ax = plt.subplots(figsize=(12, 6))  # Mengatur ukuran figur\n",
    "bars = ax.bar(kelas, jumlah, color='skyblue', edgecolor='black')  # Menyesuaikan warna batang\n",
    "\n",
    "# Menambahkan label dan judul\n",
    "plt.xlabel('Nama Kelas', fontsize=14)  # Menyesuaikan ukuran font dan label sumbu x\n",
    "plt.ylabel('Jumlah Data', fontsize=14)  # Menyesuaikan ukuran font dan label sumbu y\n",
    "plt.title('Jumlah Data di Setiap Kelas', fontsize=16)  # Menyesuaikan ukuran font judul\n",
    "\n",
    "# Menambahkan label pada setiap batang\n",
    "for bar in bars:\n",
    "    yval = bar.get_height()\n",
    "    plt.text(bar.get_x() + bar.get_width()/2, yval, round(yval, 2), ha='center', va='bottom', fontsize=10, color='black')  # Menyesuaikan ukuran font dan warna teks\n",
    "\n",
    "# Menyesuaikan tampilan sumbu x\n",
    "plt.xticks(rotation=45, ha='right', fontsize=10)  # Rotasi label sumbu x, penempatan horizontal, dan ukuran font\n",
    "\n",
    "# Menyesuaikan tampilan sumbu y\n",
    "plt.yticks(fontsize=10)  # Menyesuaikan ukuran font sumbu y\n",
    "\n",
    "# Menambahkan grid\n",
    "plt.grid(axis='y', linestyle='--', alpha=0.7)\n",
    "\n",
    "# Menambahkan garis horizontal pada mean atau median (opsional)\n",
    "plt.axhline(y=np.mean(jumlah), color='red', linestyle='--', label='Mean')  # Atau ganti dengan np.median(jumlah) untuk median\n",
    "plt.legend()\n",
    "\n",
    "# Menampilkan diagram batang\n",
    "plt.show()"
   ]
  },
  {
   "cell_type": "markdown",
   "metadata": {},
   "source": [
    "### Imbalanced Dataset"
   ]
  },
  {
   "cell_type": "code",
   "execution_count": 13,
   "metadata": {},
   "outputs": [
    {
     "name": "stdout",
     "output_type": "stream",
     "text": [
      "Aksara ba jumlah: 642\n",
      "Aksara ca jumlah: 642\n",
      "Aksara da jumlah: 642\n",
      "Aksara dha jumlah: 642\n",
      "Aksara ga jumlah: 642\n",
      "Aksara ha jumlah: 642\n",
      "Aksara ja jumlah: 642\n",
      "Aksara ka jumlah: 642\n",
      "Aksara la jumlah: 642\n",
      "Aksara ma jumlah: 642\n",
      "Aksara na jumlah: 642\n",
      "Aksara nga jumlah: 642\n",
      "Aksara nya jumlah: 642\n",
      "Aksara pa jumlah: 642\n",
      "Aksara ra jumlah: 642\n",
      "Aksara sa jumlah: 642\n",
      "Aksara ta jumlah: 642\n",
      "Aksara tha jumlah: 642\n",
      "Aksara wa jumlah: 642\n",
      "Aksara ya jumlah: 642\n"
     ]
    }
   ],
   "source": [
    "# Path dataset\n",
    "data = output_img_aug\n",
    "\n",
    "# List kelas\n",
    "kelas_aksara = ['ba', 'ca', 'da', 'dha', 'ga', 'ha', 'ja', 'ka', 'la', 'ma', 'na', 'nga', 'nya', 'pa', 'ra', 'sa', 'ta', 'tha', 'wa', 'ya']\n",
    "\n",
    "# Target jumlah gambar per kelas\n",
    "target_jumlah = 642\n",
    "\n",
    "# Loop untuk setiap kelas\n",
    "for kelas in kelas_aksara:\n",
    "    # Path kelas\n",
    "    kelas_path = os.path.join(data, kelas)\n",
    "    \n",
    "    # Jumlah gambar saat ini\n",
    "    jumlah_gambar = len(os.listdir(kelas_path))\n",
    "    \n",
    "    # Selisih gambar yang perlu ditambahkan\n",
    "    selisih = target_jumlah - jumlah_gambar\n",
    "    \n",
    "    # Jika selisih positif, lakukan oversampling\n",
    "    if selisih > 0:\n",
    "        # Ambil sampel acak dari gambar yang sudah ada\n",
    "        gambar_oversampling = random.sample(os.listdir(kelas_path), selisih)\n",
    "        \n",
    "        # Copy gambar oversampling ke dalam kelas\n",
    "        for gambar in gambar_oversampling:\n",
    "            source_path = os.path.join(kelas_path, gambar)\n",
    "            \n",
    "            # Generate sufiks acak\n",
    "            sufiks_acak = ''.join(random.choices(string.ascii_letters + string.digits, k=8))\n",
    "            \n",
    "            # Tentukan path tujuan dengan menambahkan sufiks acak\n",
    "            target_path = os.path.join(kelas_path, f'{os.path.splitext(gambar)[0]}_{sufiks_acak}{os.path.splitext(gambar)[1]}')\n",
    "            \n",
    "            # Salin gambar ke target path\n",
    "            shutil.copy(source_path, target_path)\n",
    "\n",
    "# Cetak ulang jumlah gambar per kelas setelah penyamaan\n",
    "for kelas in kelas_aksara:\n",
    "    kelas_path = os.path.join(data, kelas)\n",
    "    jumlah_gambar = len(os.listdir(kelas_path))\n",
    "    print(f'Aksara {kelas} jumlah: {jumlah_gambar}')"
   ]
  },
  {
   "cell_type": "markdown",
   "metadata": {},
   "source": [
    "### Split Dataset"
   ]
  },
  {
   "cell_type": "code",
   "execution_count": 14,
   "metadata": {},
   "outputs": [
    {
     "name": "stdout",
     "output_type": "stream",
     "text": [
      "Data Splitting Completed !\n"
     ]
    }
   ],
   "source": [
    "# Path ke direktori utama yang berisi sub-direktori untuk masing-masing kelas\n",
    "main_data_dir = output_img_aug\n",
    "\n",
    "# Path ke direktori output untuk train dan test set\n",
    "path_dir = '../data/data_preprocessing/v0.4/data_split'\n",
    "\n",
    "# Membuat sub-direktori train dan test\n",
    "train_dir = os.path.join(path_dir, 'train')\n",
    "test_dir = os.path.join(path_dir, 'test')\n",
    "\n",
    "os.makedirs(train_dir, exist_ok=True)\n",
    "os.makedirs(test_dir, exist_ok=True)\n",
    "\n",
    "# Loop melalui masing-masing kelas (diasumsikan ada 20 kelas)\n",
    "for class_name in os.listdir(main_data_dir):\n",
    "    class_path = os.path.join(main_data_dir, class_name)\n",
    "    \n",
    "    # Mendapatkan list file untuk kelas tertentu\n",
    "    files = os.listdir(class_path)\n",
    "    \n",
    "    # Membagi data menjadi train dan test set\n",
    "    train_files, test_files = train_test_split(files, test_size=0.3, random_state=35)\n",
    "    \n",
    "    # Membuat sub-direktori untuk masing-masing kelas di train dan test set\n",
    "    train_class_dir = os.path.join(train_dir, class_name)\n",
    "    test_class_dir = os.path.join(test_dir, class_name)\n",
    "    \n",
    "    os.makedirs(train_class_dir, exist_ok=True)\n",
    "    os.makedirs(test_class_dir, exist_ok=True)\n",
    "    \n",
    "    # Menyalin file ke dalam masing-masing sub-direktori\n",
    "    for file in train_files:\n",
    "        shutil.copy(os.path.join(class_path, file), os.path.join(train_class_dir, file))\n",
    "    \n",
    "    for file in test_files:\n",
    "        shutil.copy(os.path.join(class_path, file), os.path.join(test_class_dir, file))\n",
    "\n",
    "print(\"Data Splitting Completed !\")"
   ]
  },
  {
   "cell_type": "markdown",
   "metadata": {},
   "source": [
    "### Convert Image to Grayscale"
   ]
  },
  {
   "cell_type": "code",
   "execution_count": 12,
   "metadata": {},
   "outputs": [],
   "source": [
    "# # Fungsi untuk konversi gambar RGB ke grayscale\n",
    "# def rgb_to_gray(input_path, output_path):\n",
    "#     # Baca gambar\n",
    "#     image = cv2.imread(input_path)\n",
    "#     # Konversi ke grayscale\n",
    "#     gray_image = cv2.cvtColor(image, cv2.COLOR_BGR2GRAY)\n",
    "#     # Simpan gambar grayscale\n",
    "#     cv2.imwrite(output_path, gray_image)\n",
    "\n",
    "# # Fungsi untuk melakukan konversi pada semua gambar dalam folder\n",
    "# def convert_images_in_folder(folder_path, output_folder_path):\n",
    "#     # Loop melalui semua file dalam folder\n",
    "#     for filename in os.listdir(folder_path):\n",
    "#         # Buat path lengkap ke file\n",
    "#         file_path = os.path.join(folder_path, filename)\n",
    "#         # Jika file adalah file gambar\n",
    "#         if os.path.isfile(file_path) and any(file_path.endswith(extension) for extension in ['.jpg', '.png', '.jpeg']):\n",
    "#             # Buat nama file untuk gambar grayscale\n",
    "#             output_path = os.path.join(output_folder_path, filename)\n",
    "#             # Konversi gambar RGB ke grayscale\n",
    "#             rgb_to_gray(file_path, output_path)\n",
    "\n",
    "# # Fungsi untuk melakukan konversi pada semua gambar dalam 20 subfolder\n",
    "# def convert_images_in_subfolders(main_folder_path, output_img_convert):\n",
    "#     # Loop melalui semua subfolder\n",
    "#     for subdir_name in os.listdir(main_folder_path):\n",
    "#         subdir_path = os.path.join(main_folder_path, subdir_name)\n",
    "#         # Jika itu adalah subfolder\n",
    "#         if os.path.isdir(subdir_path):\n",
    "#             # print(f\"Image convert in class: {subdir_name}\")\n",
    "#             # Buat subfolder baru di dalam folder output\n",
    "#             output_subfolder_path = os.path.join(output_img_convert, subdir_name)\n",
    "#             os.makedirs(output_subfolder_path, exist_ok=True)\n",
    "#             # Lakukan konversi pada semua gambar dalam subfolder dan simpan dalam folder baru\n",
    "#             convert_images_in_folder(subdir_path, output_subfolder_path)\n",
    "    \n",
    "#     print(\"Image conversion completed !\")\n",
    "\n",
    "# # Path ke folder utama yang berisi 20 subfolder\n",
    "# main_folder_path = \"../data/data_original/javaneseScript_byPhiard/train\"\n",
    "# output_img_convert = \"../data/data_preprocessing/v0.4/grayscale\"\n",
    "# # output_img_convert = \"../data/data_preprocessing/v0.5/grayscale\"\n",
    "\n",
    "# # Panggil fungsi untuk melakukan konversi pada semua gambar dalam 20 subfolder\n",
    "# convert_images_in_subfolders(main_folder_path, output_img_convert)"
   ]
  }
 ],
 "metadata": {
  "kernelspec": {
   "display_name": "Python 3",
   "language": "python",
   "name": "python3"
  },
  "language_info": {
   "codemirror_mode": {
    "name": "ipython",
    "version": 3
   },
   "file_extension": ".py",
   "mimetype": "text/x-python",
   "name": "python",
   "nbconvert_exporter": "python",
   "pygments_lexer": "ipython3",
   "version": "3.12.3"
  }
 },
 "nbformat": 4,
 "nbformat_minor": 2
}
