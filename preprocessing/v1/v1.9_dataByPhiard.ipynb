{
 "cells": [
  {
   "cell_type": "markdown",
   "metadata": {},
   "source": [
    "Note:\n",
    "1. Augmentasi Data menggunakan data byPhiard  \n",
    "2. Dilakukan hari Jum'at, 19 Juli 2024\n",
    "3. Tempat di Kost\n",
    "4. Augmentasi Data dengan: 20 Kelas Aksara Jawa:\n",
    "- Ba, Ca, Da, Dha, Ga, Ha, Ja, Ka, La, Ma, \n",
    "- Na, Nga, Nya, Pa, Ra, Sa, Ta, Tha, Wa, Ya"
   ]
  },
  {
   "cell_type": "code",
   "execution_count": 2,
   "metadata": {},
   "outputs": [
    {
     "name": "stdout",
     "output_type": "stream",
     "text": [
      "Augmented images created at: C:\\Users\\wawn1\\projects_skripsi\\data\\data_preprocessing\\v3.5_dataByPhiard\n"
     ]
    }
   ],
   "source": [
    "import os\n",
    "from tensorflow.keras.preprocessing.image import ImageDataGenerator, img_to_array, load_img, array_to_img, save_img\n",
    "\n",
    "def augment_images(dataset_path, output_path, augment_count=220):\n",
    "    # Create an ImageDataGenerator object with augmentation parameters\n",
    "    datagen = ImageDataGenerator(\n",
    "        rotation_range=16,\n",
    "        shear_range=0.1,\n",
    "        zoom_range=0.1,\n",
    "        fill_mode='nearest'\n",
    "    )\n",
    "\n",
    "    for class_dir in os.listdir(dataset_path):\n",
    "        class_path = os.path.join(dataset_path, class_dir)\n",
    "        if not os.path.isdir(class_path):\n",
    "            continue\n",
    "        \n",
    "        for img_file in os.listdir(class_path):\n",
    "            img_path = os.path.join(class_path, img_file)\n",
    "            if not img_file.endswith(('.jpg', '.jpeg', '.png')):\n",
    "                continue\n",
    "            \n",
    "            img = load_img(img_path)\n",
    "            x = img_to_array(img)\n",
    "            x = x.reshape((1,) + x.shape)\n",
    "            \n",
    "            i = 0\n",
    "            for batch in datagen.flow(x, batch_size=1):\n",
    "                augmented_img = array_to_img(batch[0])\n",
    "                augmented_img_name = f'{os.path.splitext(img_file)[0]}_aug_{i}.png'\n",
    "                augmented_img_path = os.path.join(output_path, class_dir)\n",
    "                if not os.path.exists(augmented_img_path):\n",
    "                    os.makedirs(augmented_img_path)\n",
    "                \n",
    "                save_img(os.path.join(augmented_img_path, augmented_img_name), augmented_img)\n",
    "                i += 1\n",
    "                if i >= augment_count:\n",
    "                    break\n",
    "            break\n",
    "\n",
    "    print(f'Augmented images created at: {output_path}')\n",
    "\n",
    "# Usage\n",
    "dataset_path = \"C:\\\\Users\\\\wawn1\\\\projects_skripsi\\\\data\\\\data_original\\\\javanese_script_byPhiard\\\\train\"\n",
    "output_path = \"C:\\\\Users\\\\wawn1\\\\projects_skripsi\\\\data\\\\data_preprocessing\\\\v3.5_dataByPhiard\"\n",
    "augment_images(dataset_path, output_path)"
   ]
  },
  {
   "cell_type": "code",
   "execution_count": 3,
   "metadata": {},
   "outputs": [
    {
     "name": "stdout",
     "output_type": "stream",
     "text": [
      "Kelas ba: 220 gambar\n",
      "Kelas ca: 220 gambar\n",
      "Kelas da: 220 gambar\n",
      "Kelas dha: 220 gambar\n",
      "Kelas ga: 220 gambar\n",
      "Kelas ha: 220 gambar\n",
      "Kelas ja: 220 gambar\n",
      "Kelas ka: 220 gambar\n",
      "Kelas la: 220 gambar\n",
      "Kelas ma: 220 gambar\n",
      "Kelas na: 220 gambar\n",
      "Kelas nga: 220 gambar\n",
      "Kelas nya: 220 gambar\n",
      "Kelas pa: 220 gambar\n",
      "Kelas ra: 220 gambar\n",
      "Kelas sa: 220 gambar\n",
      "Kelas ta: 220 gambar\n",
      "Kelas tha: 220 gambar\n",
      "Kelas wa: 220 gambar\n",
      "Kelas ya: 220 gambar\n"
     ]
    }
   ],
   "source": [
    "# Dictionary untuk menyimpan jumlah data di setiap kelas\n",
    "kelas_data_count = {}\n",
    "\n",
    "# Loop melalui setiap kelas di dalam folder output\n",
    "for class_name in os.listdir(output_path):\n",
    "    class_path = os.path.join(output_path, class_name)\n",
    "    \n",
    "    # Menghitung jumlah file gambar di setiap kelas\n",
    "    num_images = len([file for file in os.listdir(class_path) if file.endswith(('jpg', 'jpeg', 'png'))])\n",
    "    \n",
    "    # Menyimpan jumlah data di setiap kelas ke dalam dictionary\n",
    "    kelas_data_count[class_name] = num_images\n",
    "\n",
    "# Menampilkan jumlah data di setiap kelas\n",
    "for class_name, count in kelas_data_count.items():\n",
    "    print(f\"Kelas {class_name}: {count} gambar\")"
   ]
  }
 ],
 "metadata": {
  "kernelspec": {
   "display_name": "Python 3",
   "language": "python",
   "name": "python3"
  },
  "language_info": {
   "codemirror_mode": {
    "name": "ipython",
    "version": 3
   },
   "file_extension": ".py",
   "mimetype": "text/x-python",
   "name": "python",
   "nbconvert_exporter": "python",
   "pygments_lexer": "ipython3",
   "version": "3.12.4"
  }
 },
 "nbformat": 4,
 "nbformat_minor": 2
}
