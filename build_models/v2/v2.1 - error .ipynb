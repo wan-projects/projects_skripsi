{
 "cells": [
  {
   "cell_type": "markdown",
   "metadata": {},
   "source": [
    "# Setup Environment "
   ]
  },
  {
   "cell_type": "code",
   "execution_count": 21,
   "metadata": {},
   "outputs": [],
   "source": [
    "# pip install tensorflow"
   ]
  },
  {
   "cell_type": "code",
   "execution_count": 22,
   "metadata": {},
   "outputs": [],
   "source": [
    "# pip install keras"
   ]
  },
  {
   "cell_type": "code",
   "execution_count": 23,
   "metadata": {},
   "outputs": [],
   "source": [
    "# pip install opencv-python"
   ]
  },
  {
   "cell_type": "code",
   "execution_count": 24,
   "metadata": {},
   "outputs": [],
   "source": [
    "# pip install imutils"
   ]
  },
  {
   "cell_type": "code",
   "execution_count": 25,
   "metadata": {},
   "outputs": [],
   "source": [
    "# pip install matplotlib"
   ]
  },
  {
   "cell_type": "code",
   "execution_count": 26,
   "metadata": {},
   "outputs": [],
   "source": [
    "# pip install seaborn"
   ]
  },
  {
   "cell_type": "code",
   "execution_count": 27,
   "metadata": {},
   "outputs": [],
   "source": [
    "# pip install scikit-learn"
   ]
  },
  {
   "cell_type": "markdown",
   "metadata": {},
   "source": [
    "# Import Library"
   ]
  },
  {
   "cell_type": "code",
   "execution_count": 28,
   "metadata": {},
   "outputs": [],
   "source": [
    "# import shutil\n",
    "# from tensorflow.keras.models import Sequential\n",
    "# from tensorflow.keras.callbacks import LearningRateScheduler, EarlyStopping\n",
    "# from tensorflow.keras.preprocessing import image\n",
    "# from tensorflow.keras.regularizers import l2\n",
    "# from tensorflow.keras import regularizers\n",
    "# from matplotlib.image import imread\n",
    "# import matplotlib.image as plt_image\n",
    "# from sklearn.metrics import confusion_matrix, classification_report\n",
    "import os\n",
    "import cv2\n",
    "import math\n",
    "import random\n",
    "import numpy as np\n",
    "import pandas as pd\n",
    "import seaborn as sn\n",
    "import tensorflow as tf\n",
    "import matplotlib.pyplot as plt\n",
    "from sklearn import metrics\n",
    "from keras.preprocessing import image\n",
    "from tensorflow.keras.models import Model\n",
    "from tensorflow.keras.optimizers import Adam\n",
    "from tensorflow.keras.models import load_model\n",
    "from sklearn.preprocessing import label_binarize\n",
    "from tensorflow.keras.callbacks import ModelCheckpoint\n",
    "from sklearn.metrics import roc_curve, auc, roc_auc_score\n",
    "from sklearn.utils.class_weight import compute_sample_weight\n",
    "from tensorflow.keras.preprocessing.image import ImageDataGenerator\n",
    "from tensorflow.keras.layers import Input, Conv2D, MaxPooling2D, Flatten, Dense, Dropout, BatchNormalization"
   ]
  },
  {
   "cell_type": "markdown",
   "metadata": {},
   "source": [
    "# Data Visualization"
   ]
  },
  {
   "cell_type": "code",
   "execution_count": 29,
   "metadata": {},
   "outputs": [
    {
     "name": "stdout",
     "output_type": "stream",
     "text": [
      "Jumlah data pelatihan (X_train): 6902\n",
      "Jumlah data pengujian (X_test): 2958\n"
     ]
    }
   ],
   "source": [
    "import os\n",
    "from sklearn.model_selection import train_test_split\n",
    "\n",
    "# Path ke direktori utama yang berisi sub-direktori untuk masing-masing kelas\n",
    "main_data_dir = '../data/data_preprocessing/v0.8/augmented'\n",
    "\n",
    "# Mendefinisikan list untuk data dan label\n",
    "X, y = [], []\n",
    "\n",
    "# Loop melalui masing-masing kelas (diasumsikan ada 20 kelas)\n",
    "for class_name in os.listdir(main_data_dir):\n",
    "    class_path = os.path.join(main_data_dir, class_name)\n",
    "    \n",
    "    # Mendapatkan list file untuk kelas tertentu\n",
    "    files = os.listdir(class_path)\n",
    "    \n",
    "    # Menambahkan path file dan label ke dalam list X dan y\n",
    "    X.extend([os.path.join(class_path, file) for file in files])\n",
    "    y.extend([class_name] * len(files))\n",
    "\n",
    "# Melakukan pembagian data menjadi train dan test set\n",
    "X_train, X_test, y_train, y_test = train_test_split(X, y, test_size=0.3, random_state=50)\n",
    "\n",
    "# Verifikasi output\n",
    "print(\"Jumlah data pelatihan (X_train):\", len(X_train))\n",
    "print(\"Jumlah data pengujian (X_test):\", len(X_test))"
   ]
  },
  {
   "cell_type": "code",
   "execution_count": 30,
   "metadata": {},
   "outputs": [],
   "source": [
    "# Tentukan konstanta\n",
    "image_size = (64, 64)\n",
    "batch_size = 64\n",
    "num_classes = 20\n",
    "\n",
    "# Class = ['ba', 'ca', 'da', 'dha', 'ga', 'ha', 'ja', 'ka', 'la', 'ma', \n",
    "        #  'na', 'nga', 'nya', 'pa', 'ra', 'sa', 'ta', 'tha', 'wa', 'ya']\n",
    "\n",
    "# train_dir = \"../data/data_preprocessing/v0.7/data_split_a1/train/\"\n",
    "# test_dir = \"../data/data_preprocessing/v0.7/data_split_a1/test/\""
   ]
  },
  {
   "cell_type": "code",
   "execution_count": 31,
   "metadata": {},
   "outputs": [],
   "source": [
    "# import os\n",
    "\n",
    "# # Menghitung jumlah gambar per kelas\n",
    "# file_list = os.listdir(train_dir)\n",
    "\n",
    "# jumlah_gambar_per_kelas = []\n",
    "\n",
    "# for kelas in file_list:\n",
    "#     kelas_path = os.path.join(train_dir, kelas)\n",
    "#     jumlah_gambar = len(os.listdir(kelas_path))\n",
    "#     jumlah_gambar_per_kelas.append(jumlah_gambar)\n",
    "\n",
    "# # Mengecek apakah jumlah data per kelas sudah seimbang\n",
    "# balanced = all(jumlah == jumlah_gambar_per_kelas[0] for jumlah in jumlah_gambar_per_kelas)\n",
    "\n",
    "# # Menampilkan pesan sesuai dengan hasil pemeriksaan\n",
    "# if balanced:\n",
    "#     print(\"Balanced Data !\")\n",
    "# else:\n",
    "#     print(\"Imbalanced Data !!!\\n\")\n",
    "#     # Jika imbalanced, tampilkan jumlah data per kelas\n",
    "#     for kelas, jumlah in zip(file_list, jumlah_gambar_per_kelas):\n",
    "#         print(f'Aksara {kelas} jumlah: {jumlah}')"
   ]
  },
  {
   "cell_type": "code",
   "execution_count": 32,
   "metadata": {},
   "outputs": [],
   "source": [
    "# import cv2\n",
    "# import matplotlib.pyplot as plt\n",
    "# import random\n",
    "\n",
    "# class ImageProcessor:\n",
    "#     def __init__(self, dataset_path):\n",
    "#         self.dataset_path = dataset_path\n",
    "\n",
    "#     def display_random_image(self):\n",
    "#         # Inisialisasi plot\n",
    "#         fig, axes = plt.subplots(4, 5, figsize=(20, 20))\n",
    "\n",
    "#         # Iterasi melalui setiap subfolder\n",
    "#         for i, folder_name in enumerate(os.listdir(self.dataset_path)):\n",
    "#             folder_path = os.path.join(self.dataset_path, folder_name)\n",
    "\n",
    "#             # Pastikan yang diakses adalah subfolder\n",
    "#             if os.path.isdir(folder_path):\n",
    "\n",
    "#                 # Mengambil satu gambar acak dari subfolder\n",
    "#                 image_names = [f for f in os.listdir(folder_path) if f.endswith(('.png', '.jpg', '.jpeg'))]\n",
    "#                 random_image_name = random.choice(image_names)\n",
    "#                 random_image_path = os.path.join(folder_path, random_image_name)\n",
    "\n",
    "#                 # Membaca dan menampilkan gambar menggunakan Matplotlib\n",
    "#                 random_image = cv2.imread(random_image_path, cv2.IMREAD_GRAYSCALE)\n",
    "#                 axes[i % 4, i // 4].imshow(random_image, cmap='gray')\n",
    "#                 axes[i % 4, i // 4].set_title(f\"Class: {folder_name}\", fontsize=25)\n",
    "#                 axes[i % 4, i // 4].axis('on')\n",
    "                \n",
    "#         # Menambahkan Title Class Visualization \n",
    "#         plt.suptitle(\"Laplacian of Gaussian (LoG) Filtered in Images\", fontsize=30)\n",
    "\n",
    "#         # Menampilkan plot\n",
    "#         plt.tight_layout()\n",
    "#         plt.show()\n",
    "\n",
    "# dataset_path = train_dir\n",
    "\n",
    "# # Inisialisasi objek ImageProcessor dan panggil metode display_random_image\n",
    "# processor = ImageProcessor(dataset_path)\n",
    "# processor.display_random_image()"
   ]
  },
  {
   "cell_type": "code",
   "execution_count": 33,
   "metadata": {},
   "outputs": [],
   "source": [
    "# def count_files(dir):\n",
    "#     arr = []\n",
    "#     for root, dirs, files in os.walk(dir):\n",
    "#         count = 0\n",
    "#         for name in files:\n",
    "#             if name.endswith(\".png\"):\n",
    "#               count = count + 1\n",
    "#         if count > 0:\n",
    "#           arr.append(count)\n",
    "#     return arr\n",
    "\n",
    "# def get_all_char_names(dir):\n",
    "#     arr = []\n",
    "#     for root, dirs, files in os.walk(dir):\n",
    "#         # print(dirs)\n",
    "#         arr.append(dirs)\n",
    "#         break\n",
    "#     return arr\n"
   ]
  },
  {
   "cell_type": "code",
   "execution_count": 34,
   "metadata": {},
   "outputs": [],
   "source": [
    "# # Training Class\n",
    "# image_count = count_files(train_dir)\n",
    "# print(len(image_count))\n",
    "# chars = get_all_char_names(train_dir)\n",
    "# print(chars)\n",
    "\n",
    "# fig = plt.figure()\n",
    "# ax = fig.add_axes([0,0,2,1])\n",
    "# ax.bar(chars[0], image_count)\n",
    "# plt.title(\"Training class distribution\")\n",
    "# plt.show()\n",
    "\n",
    "# # Testing Class\n",
    "# image_count = count_files(test_dir)\n",
    "# print(len(image_count))\n",
    "# chars = get_all_char_names(test_dir)\n",
    "# print(chars)\n",
    "\n",
    "# fig = plt.figure()\n",
    "# ax = fig.add_axes([0,0,2,1])\n",
    "# ax.bar(chars[0], image_count)\n",
    "# plt.title(\"Testing class distribution\")\n",
    "# plt.show()"
   ]
  },
  {
   "cell_type": "markdown",
   "metadata": {},
   "source": [
    "# Build the Model"
   ]
  },
  {
   "cell_type": "markdown",
   "metadata": {},
   "source": [
    "### Image Data Generator"
   ]
  },
  {
   "cell_type": "code",
   "execution_count": 35,
   "metadata": {},
   "outputs": [
    {
     "name": "stdout",
     "output_type": "stream",
     "text": [
      "Found 6902 validated image filenames belonging to 20 classes.\n",
      "Found 2958 validated image filenames belonging to 20 classes.\n"
     ]
    }
   ],
   "source": [
    "import pandas as pd\n",
    "from tensorflow.keras.preprocessing.image import ImageDataGenerator\n",
    "\n",
    "# Membuat DataFrame untuk train dan test set\n",
    "train_df = pd.DataFrame({'filename': X_train, 'class': y_train})\n",
    "test_df = pd.DataFrame({'filename': X_test, 'class': y_test})\n",
    "\n",
    "# Inisialisasi generator data untuk data pelatihan dan testing\n",
    "train_datagen = ImageDataGenerator(rescale=1./255)\n",
    "test_datagen = ImageDataGenerator(rescale=1./255)\n",
    "\n",
    "# Membuat generator menggunakan flow_from_dataframe\n",
    "train_generator = train_datagen.flow_from_dataframe(\n",
    "    train_df,\n",
    "    x_col='filename',\n",
    "    y_col='class',\n",
    "    target_size=image_size,  # Ganti dengan ukuran gambar yang sesuai\n",
    "    batch_size=batch_size,  # Ganti dengan ukuran batch yang sesuai\n",
    "    class_mode='categorical',  # Jika Anda memiliki lebih dari 2 kelas, gunakan 'categorical'\n",
    "    color_mode='grayscale'  # Mode warna grayscale\n",
    ")\n",
    "\n",
    "test_generator = test_datagen.flow_from_dataframe(\n",
    "    test_df,\n",
    "    x_col='filename',\n",
    "    y_col='class',\n",
    "    target_size=image_size,  # Ganti dengan ukuran gambar yang sesuai\n",
    "    batch_size=batch_size,  # Ganti dengan ukuran batch yang sesuai\n",
    "    class_mode='categorical',  # Jika Anda memiliki lebih dari 2 kelas, gunakan 'categorical'\n",
    "    color_mode='grayscale'  # Mode warna grayscale\n",
    ")"
   ]
  },
  {
   "cell_type": "code",
   "execution_count": 36,
   "metadata": {},
   "outputs": [],
   "source": [
    "# from sklearn.utils.class_weight import compute_sample_weight\n",
    "\n",
    "# # Mencari class weights untuk mengatasi ketidakseimbangan kelas\n",
    "# class_weights = compute_sample_weight('balanced', train_generator.classes)\n",
    "# class_weight = dict(enumerate(class_weights))"
   ]
  },
  {
   "cell_type": "markdown",
   "metadata": {},
   "source": [
    "### Model - CNN + VGG"
   ]
  },
  {
   "cell_type": "code",
   "execution_count": 37,
   "metadata": {},
   "outputs": [],
   "source": [
    "# from tensorflow.keras.models import Model\n",
    "# from tensorflow.keras.layers import Input, Conv2D, MaxPooling2D, Flatten, Dense, Dropout, BatchNormalization\n",
    "# from tensorflow.keras.optimizers import Adam\n",
    "\n",
    "# def build_vgg16(input_shape=(128, 128, 1), num_classes=num_classes):\n",
    "#     inputs = Input(shape=input_shape)\n",
    "\n",
    "#     # Blok 1\n",
    "#     conv1_1 = Conv2D(filters=64, kernel_size=(3, 3), padding='same', activation='relu')(inputs)\n",
    "#     batchnorm1_1 = BatchNormalization()(conv1_1)\n",
    "#     conv1_2 = Conv2D(filters=64, kernel_size=(3, 3), padding='same', activation='relu')(batchnorm1_1)\n",
    "#     batchnorm1_2 = BatchNormalization()(conv1_2)\n",
    "#     maxpool1 = MaxPooling2D((2, 2), strides=(2, 2))(batchnorm1_2)\n",
    "\n",
    "#     # Blok 2\n",
    "#     conv2_1 = Conv2D(filters=128, kernel_size=(3, 3), padding='same', activation='relu')(maxpool1)\n",
    "#     batchnorm2_1 = BatchNormalization()(conv2_1)\n",
    "#     conv2_2 = Conv2D(filters=128, kernel_size=(3, 3), padding='same', activation='relu')(batchnorm2_1)\n",
    "#     batchnorm2_2 = BatchNormalization()(conv2_2)\n",
    "#     maxpool2 = MaxPooling2D((2, 2), strides=(2, 2))(batchnorm2_2)\n",
    "\n",
    "#     # Blok 3\n",
    "#     conv3_1 = Conv2D(filters=256, kernel_size=(3, 3), padding='same', activation='relu')(maxpool2)\n",
    "#     batchnorm3_1 = BatchNormalization()(conv3_1)\n",
    "#     conv3_2 = Conv2D(filters=256, kernel_size=(3, 3), padding='same', activation='relu')(batchnorm3_1)\n",
    "#     batchnorm3_2 = BatchNormalization()(conv3_2)\n",
    "#     conv3_3 = Conv2D(filters=256, kernel_size=(3, 3), padding='same', activation='relu')(batchnorm3_2)\n",
    "#     batchnorm3_3 = BatchNormalization()(conv3_3)\n",
    "#     maxpool3 = MaxPooling2D((2, 2), strides=(2, 2))(batchnorm3_3)\n",
    "\n",
    "#     # Blok 4\n",
    "#     conv4_1 = Conv2D(filters=512, kernel_size=(3, 3), padding='same', activation='relu')(maxpool3)\n",
    "#     batchnorm4_1 = BatchNormalization()(conv4_1)\n",
    "#     conv4_2 = Conv2D(filters=512, kernel_size=(3, 3), padding='same', activation='relu')(batchnorm4_1)\n",
    "#     batchnorm4_2 = BatchNormalization()(conv4_2)\n",
    "#     conv4_3 = Conv2D(filters=512, kernel_size=(3, 3), padding='same', activation='relu')(batchnorm4_2)\n",
    "#     batchnorm4_3 = BatchNormalization()(conv4_3)\n",
    "#     maxpool4 = MaxPooling2D((2, 2), strides=(2, 2))(batchnorm4_3)\n",
    "\n",
    "#     # Blok 5\n",
    "#     conv5_1 = Conv2D(filters=512, kernel_size=(3, 3), padding='same', activation='relu')(maxpool4)\n",
    "#     batchnorm5_1 = BatchNormalization()(conv5_1)\n",
    "#     conv5_2 = Conv2D(filters=512, kernel_size=(3, 3), padding='same', activation='relu')(batchnorm5_1)\n",
    "#     batchnorm5_2 = BatchNormalization()(conv5_2)\n",
    "#     conv5_3 = Conv2D(filters=512, kernel_size=(3, 3), padding='same', activation='relu')(batchnorm5_2)\n",
    "#     batchnorm5_3 = BatchNormalization()(conv5_3)\n",
    "#     maxpool5 = MaxPooling2D((2, 2), strides=(2, 2))(batchnorm5_3)\n",
    "\n",
    "#     # Fully connected layers\n",
    "#     flatten = Flatten(name='flatten')(maxpool5)\n",
    "\n",
    "#     dense1 = Dense(256, activation='relu')(flatten)\n",
    "#     batchnorm_dense1 = BatchNormalization()(dense1)\n",
    "#     dropout1 = Dropout(0.75)(batchnorm_dense1)\n",
    "\n",
    "#     dense2 = Dense(128, activation='relu')(dropout1)\n",
    "#     batchnorm_dense2 = BatchNormalization()(dense2)\n",
    "#     dropout2 = Dropout(0.75)(batchnorm_dense2)\n",
    "\n",
    "#     outputs = Dense(num_classes, activation='softmax')(dropout2)\n",
    "\n",
    "#     model = Model(inputs=inputs, outputs=outputs)\n",
    "\n",
    "#     return model\n",
    "\n",
    "# # Create the VGG16 model\n",
    "# model = build_vgg16()\n",
    "\n",
    "# # Adam optimizer with learning rate scheduling, Weight Decay, and Gradient Clipping\n",
    "# opt = Adam(learning_rate=0.0001, \n",
    "#            weight_decay=1e-4, \n",
    "#            clipvalue=0.5\n",
    "#            )\n",
    "    \n",
    "# # Compile the model\n",
    "# model.compile(optimizer=opt, loss='categorical_crossentropy', metrics=['accuracy'])\n",
    "\n",
    "# model.summary()"
   ]
  },
  {
   "cell_type": "code",
   "execution_count": 38,
   "metadata": {},
   "outputs": [
    {
     "name": "stderr",
     "output_type": "stream",
     "text": [
      "c:\\Users\\wawn1\\AppData\\Local\\Programs\\Python\\Python312\\Lib\\site-packages\\keras\\src\\layers\\convolutional\\base_conv.py:107: UserWarning: Do not pass an `input_shape`/`input_dim` argument to a layer. When using Sequential models, prefer using an `Input(shape)` object as the first layer in the model instead.\n",
      "  super().__init__(activity_regularizer=activity_regularizer, **kwargs)\n"
     ]
    },
    {
     "data": {
      "text/html": [
       "<pre style=\"white-space:pre;overflow-x:auto;line-height:normal;font-family:Menlo,'DejaVu Sans Mono',consolas,'Courier New',monospace\"><span style=\"font-weight: bold\">Model: \"sequential_1\"</span>\n",
       "</pre>\n"
      ],
      "text/plain": [
       "\u001b[1mModel: \"sequential_1\"\u001b[0m\n"
      ]
     },
     "metadata": {},
     "output_type": "display_data"
    },
    {
     "data": {
      "text/html": [
       "<pre style=\"white-space:pre;overflow-x:auto;line-height:normal;font-family:Menlo,'DejaVu Sans Mono',consolas,'Courier New',monospace\">┏━━━━━━━━━━━━━━━━━━━━━━━━━━━━━━━━━┳━━━━━━━━━━━━━━━━━━━━━━━━┳━━━━━━━━━━━━━━━┓\n",
       "┃<span style=\"font-weight: bold\"> Layer (type)                    </span>┃<span style=\"font-weight: bold\"> Output Shape           </span>┃<span style=\"font-weight: bold\">       Param # </span>┃\n",
       "┡━━━━━━━━━━━━━━━━━━━━━━━━━━━━━━━━━╇━━━━━━━━━━━━━━━━━━━━━━━━╇━━━━━━━━━━━━━━━┩\n",
       "│ conv2d_13 (<span style=\"color: #0087ff; text-decoration-color: #0087ff\">Conv2D</span>)              │ (<span style=\"color: #00d7ff; text-decoration-color: #00d7ff\">None</span>, <span style=\"color: #00af00; text-decoration-color: #00af00\">64</span>, <span style=\"color: #00af00; text-decoration-color: #00af00\">64</span>, <span style=\"color: #00af00; text-decoration-color: #00af00\">64</span>)     │           <span style=\"color: #00af00; text-decoration-color: #00af00\">640</span> │\n",
       "├─────────────────────────────────┼────────────────────────┼───────────────┤\n",
       "│ batch_normalization_14          │ (<span style=\"color: #00d7ff; text-decoration-color: #00d7ff\">None</span>, <span style=\"color: #00af00; text-decoration-color: #00af00\">64</span>, <span style=\"color: #00af00; text-decoration-color: #00af00\">64</span>, <span style=\"color: #00af00; text-decoration-color: #00af00\">64</span>)     │           <span style=\"color: #00af00; text-decoration-color: #00af00\">256</span> │\n",
       "│ (<span style=\"color: #0087ff; text-decoration-color: #0087ff\">BatchNormalization</span>)            │                        │               │\n",
       "├─────────────────────────────────┼────────────────────────┼───────────────┤\n",
       "│ conv2d_14 (<span style=\"color: #0087ff; text-decoration-color: #0087ff\">Conv2D</span>)              │ (<span style=\"color: #00d7ff; text-decoration-color: #00d7ff\">None</span>, <span style=\"color: #00af00; text-decoration-color: #00af00\">64</span>, <span style=\"color: #00af00; text-decoration-color: #00af00\">64</span>, <span style=\"color: #00af00; text-decoration-color: #00af00\">64</span>)     │        <span style=\"color: #00af00; text-decoration-color: #00af00\">36,928</span> │\n",
       "├─────────────────────────────────┼────────────────────────┼───────────────┤\n",
       "│ batch_normalization_15          │ (<span style=\"color: #00d7ff; text-decoration-color: #00d7ff\">None</span>, <span style=\"color: #00af00; text-decoration-color: #00af00\">64</span>, <span style=\"color: #00af00; text-decoration-color: #00af00\">64</span>, <span style=\"color: #00af00; text-decoration-color: #00af00\">64</span>)     │           <span style=\"color: #00af00; text-decoration-color: #00af00\">256</span> │\n",
       "│ (<span style=\"color: #0087ff; text-decoration-color: #0087ff\">BatchNormalization</span>)            │                        │               │\n",
       "├─────────────────────────────────┼────────────────────────┼───────────────┤\n",
       "│ max_pooling2d_5 (<span style=\"color: #0087ff; text-decoration-color: #0087ff\">MaxPooling2D</span>)  │ (<span style=\"color: #00d7ff; text-decoration-color: #00d7ff\">None</span>, <span style=\"color: #00af00; text-decoration-color: #00af00\">32</span>, <span style=\"color: #00af00; text-decoration-color: #00af00\">32</span>, <span style=\"color: #00af00; text-decoration-color: #00af00\">64</span>)     │             <span style=\"color: #00af00; text-decoration-color: #00af00\">0</span> │\n",
       "├─────────────────────────────────┼────────────────────────┼───────────────┤\n",
       "│ dropout_6 (<span style=\"color: #0087ff; text-decoration-color: #0087ff\">Dropout</span>)             │ (<span style=\"color: #00d7ff; text-decoration-color: #00d7ff\">None</span>, <span style=\"color: #00af00; text-decoration-color: #00af00\">32</span>, <span style=\"color: #00af00; text-decoration-color: #00af00\">32</span>, <span style=\"color: #00af00; text-decoration-color: #00af00\">64</span>)     │             <span style=\"color: #00af00; text-decoration-color: #00af00\">0</span> │\n",
       "├─────────────────────────────────┼────────────────────────┼───────────────┤\n",
       "│ conv2d_15 (<span style=\"color: #0087ff; text-decoration-color: #0087ff\">Conv2D</span>)              │ (<span style=\"color: #00d7ff; text-decoration-color: #00d7ff\">None</span>, <span style=\"color: #00af00; text-decoration-color: #00af00\">32</span>, <span style=\"color: #00af00; text-decoration-color: #00af00\">32</span>, <span style=\"color: #00af00; text-decoration-color: #00af00\">128</span>)    │        <span style=\"color: #00af00; text-decoration-color: #00af00\">73,856</span> │\n",
       "├─────────────────────────────────┼────────────────────────┼───────────────┤\n",
       "│ batch_normalization_16          │ (<span style=\"color: #00d7ff; text-decoration-color: #00d7ff\">None</span>, <span style=\"color: #00af00; text-decoration-color: #00af00\">32</span>, <span style=\"color: #00af00; text-decoration-color: #00af00\">32</span>, <span style=\"color: #00af00; text-decoration-color: #00af00\">128</span>)    │           <span style=\"color: #00af00; text-decoration-color: #00af00\">512</span> │\n",
       "│ (<span style=\"color: #0087ff; text-decoration-color: #0087ff\">BatchNormalization</span>)            │                        │               │\n",
       "├─────────────────────────────────┼────────────────────────┼───────────────┤\n",
       "│ conv2d_16 (<span style=\"color: #0087ff; text-decoration-color: #0087ff\">Conv2D</span>)              │ (<span style=\"color: #00d7ff; text-decoration-color: #00d7ff\">None</span>, <span style=\"color: #00af00; text-decoration-color: #00af00\">32</span>, <span style=\"color: #00af00; text-decoration-color: #00af00\">32</span>, <span style=\"color: #00af00; text-decoration-color: #00af00\">128</span>)    │       <span style=\"color: #00af00; text-decoration-color: #00af00\">147,584</span> │\n",
       "├─────────────────────────────────┼────────────────────────┼───────────────┤\n",
       "│ batch_normalization_17          │ (<span style=\"color: #00d7ff; text-decoration-color: #00d7ff\">None</span>, <span style=\"color: #00af00; text-decoration-color: #00af00\">32</span>, <span style=\"color: #00af00; text-decoration-color: #00af00\">32</span>, <span style=\"color: #00af00; text-decoration-color: #00af00\">128</span>)    │           <span style=\"color: #00af00; text-decoration-color: #00af00\">512</span> │\n",
       "│ (<span style=\"color: #0087ff; text-decoration-color: #0087ff\">BatchNormalization</span>)            │                        │               │\n",
       "├─────────────────────────────────┼────────────────────────┼───────────────┤\n",
       "│ max_pooling2d_6 (<span style=\"color: #0087ff; text-decoration-color: #0087ff\">MaxPooling2D</span>)  │ (<span style=\"color: #00d7ff; text-decoration-color: #00d7ff\">None</span>, <span style=\"color: #00af00; text-decoration-color: #00af00\">16</span>, <span style=\"color: #00af00; text-decoration-color: #00af00\">16</span>, <span style=\"color: #00af00; text-decoration-color: #00af00\">128</span>)    │             <span style=\"color: #00af00; text-decoration-color: #00af00\">0</span> │\n",
       "├─────────────────────────────────┼────────────────────────┼───────────────┤\n",
       "│ dropout_7 (<span style=\"color: #0087ff; text-decoration-color: #0087ff\">Dropout</span>)             │ (<span style=\"color: #00d7ff; text-decoration-color: #00d7ff\">None</span>, <span style=\"color: #00af00; text-decoration-color: #00af00\">16</span>, <span style=\"color: #00af00; text-decoration-color: #00af00\">16</span>, <span style=\"color: #00af00; text-decoration-color: #00af00\">128</span>)    │             <span style=\"color: #00af00; text-decoration-color: #00af00\">0</span> │\n",
       "├─────────────────────────────────┼────────────────────────┼───────────────┤\n",
       "│ conv2d_17 (<span style=\"color: #0087ff; text-decoration-color: #0087ff\">Conv2D</span>)              │ (<span style=\"color: #00d7ff; text-decoration-color: #00d7ff\">None</span>, <span style=\"color: #00af00; text-decoration-color: #00af00\">16</span>, <span style=\"color: #00af00; text-decoration-color: #00af00\">16</span>, <span style=\"color: #00af00; text-decoration-color: #00af00\">256</span>)    │       <span style=\"color: #00af00; text-decoration-color: #00af00\">295,168</span> │\n",
       "├─────────────────────────────────┼────────────────────────┼───────────────┤\n",
       "│ batch_normalization_18          │ (<span style=\"color: #00d7ff; text-decoration-color: #00d7ff\">None</span>, <span style=\"color: #00af00; text-decoration-color: #00af00\">16</span>, <span style=\"color: #00af00; text-decoration-color: #00af00\">16</span>, <span style=\"color: #00af00; text-decoration-color: #00af00\">256</span>)    │         <span style=\"color: #00af00; text-decoration-color: #00af00\">1,024</span> │\n",
       "│ (<span style=\"color: #0087ff; text-decoration-color: #0087ff\">BatchNormalization</span>)            │                        │               │\n",
       "├─────────────────────────────────┼────────────────────────┼───────────────┤\n",
       "│ conv2d_18 (<span style=\"color: #0087ff; text-decoration-color: #0087ff\">Conv2D</span>)              │ (<span style=\"color: #00d7ff; text-decoration-color: #00d7ff\">None</span>, <span style=\"color: #00af00; text-decoration-color: #00af00\">16</span>, <span style=\"color: #00af00; text-decoration-color: #00af00\">16</span>, <span style=\"color: #00af00; text-decoration-color: #00af00\">256</span>)    │       <span style=\"color: #00af00; text-decoration-color: #00af00\">590,080</span> │\n",
       "├─────────────────────────────────┼────────────────────────┼───────────────┤\n",
       "│ batch_normalization_19          │ (<span style=\"color: #00d7ff; text-decoration-color: #00d7ff\">None</span>, <span style=\"color: #00af00; text-decoration-color: #00af00\">16</span>, <span style=\"color: #00af00; text-decoration-color: #00af00\">16</span>, <span style=\"color: #00af00; text-decoration-color: #00af00\">256</span>)    │         <span style=\"color: #00af00; text-decoration-color: #00af00\">1,024</span> │\n",
       "│ (<span style=\"color: #0087ff; text-decoration-color: #0087ff\">BatchNormalization</span>)            │                        │               │\n",
       "├─────────────────────────────────┼────────────────────────┼───────────────┤\n",
       "│ conv2d_19 (<span style=\"color: #0087ff; text-decoration-color: #0087ff\">Conv2D</span>)              │ (<span style=\"color: #00d7ff; text-decoration-color: #00d7ff\">None</span>, <span style=\"color: #00af00; text-decoration-color: #00af00\">16</span>, <span style=\"color: #00af00; text-decoration-color: #00af00\">16</span>, <span style=\"color: #00af00; text-decoration-color: #00af00\">256</span>)    │       <span style=\"color: #00af00; text-decoration-color: #00af00\">590,080</span> │\n",
       "├─────────────────────────────────┼────────────────────────┼───────────────┤\n",
       "│ batch_normalization_20          │ (<span style=\"color: #00d7ff; text-decoration-color: #00d7ff\">None</span>, <span style=\"color: #00af00; text-decoration-color: #00af00\">16</span>, <span style=\"color: #00af00; text-decoration-color: #00af00\">16</span>, <span style=\"color: #00af00; text-decoration-color: #00af00\">256</span>)    │         <span style=\"color: #00af00; text-decoration-color: #00af00\">1,024</span> │\n",
       "│ (<span style=\"color: #0087ff; text-decoration-color: #0087ff\">BatchNormalization</span>)            │                        │               │\n",
       "├─────────────────────────────────┼────────────────────────┼───────────────┤\n",
       "│ max_pooling2d_7 (<span style=\"color: #0087ff; text-decoration-color: #0087ff\">MaxPooling2D</span>)  │ (<span style=\"color: #00d7ff; text-decoration-color: #00d7ff\">None</span>, <span style=\"color: #00af00; text-decoration-color: #00af00\">8</span>, <span style=\"color: #00af00; text-decoration-color: #00af00\">8</span>, <span style=\"color: #00af00; text-decoration-color: #00af00\">256</span>)      │             <span style=\"color: #00af00; text-decoration-color: #00af00\">0</span> │\n",
       "├─────────────────────────────────┼────────────────────────┼───────────────┤\n",
       "│ dropout_8 (<span style=\"color: #0087ff; text-decoration-color: #0087ff\">Dropout</span>)             │ (<span style=\"color: #00d7ff; text-decoration-color: #00d7ff\">None</span>, <span style=\"color: #00af00; text-decoration-color: #00af00\">8</span>, <span style=\"color: #00af00; text-decoration-color: #00af00\">8</span>, <span style=\"color: #00af00; text-decoration-color: #00af00\">256</span>)      │             <span style=\"color: #00af00; text-decoration-color: #00af00\">0</span> │\n",
       "├─────────────────────────────────┼────────────────────────┼───────────────┤\n",
       "│ conv2d_20 (<span style=\"color: #0087ff; text-decoration-color: #0087ff\">Conv2D</span>)              │ (<span style=\"color: #00d7ff; text-decoration-color: #00d7ff\">None</span>, <span style=\"color: #00af00; text-decoration-color: #00af00\">8</span>, <span style=\"color: #00af00; text-decoration-color: #00af00\">8</span>, <span style=\"color: #00af00; text-decoration-color: #00af00\">512</span>)      │     <span style=\"color: #00af00; text-decoration-color: #00af00\">1,180,160</span> │\n",
       "├─────────────────────────────────┼────────────────────────┼───────────────┤\n",
       "│ batch_normalization_21          │ (<span style=\"color: #00d7ff; text-decoration-color: #00d7ff\">None</span>, <span style=\"color: #00af00; text-decoration-color: #00af00\">8</span>, <span style=\"color: #00af00; text-decoration-color: #00af00\">8</span>, <span style=\"color: #00af00; text-decoration-color: #00af00\">512</span>)      │         <span style=\"color: #00af00; text-decoration-color: #00af00\">2,048</span> │\n",
       "│ (<span style=\"color: #0087ff; text-decoration-color: #0087ff\">BatchNormalization</span>)            │                        │               │\n",
       "├─────────────────────────────────┼────────────────────────┼───────────────┤\n",
       "│ conv2d_21 (<span style=\"color: #0087ff; text-decoration-color: #0087ff\">Conv2D</span>)              │ (<span style=\"color: #00d7ff; text-decoration-color: #00d7ff\">None</span>, <span style=\"color: #00af00; text-decoration-color: #00af00\">8</span>, <span style=\"color: #00af00; text-decoration-color: #00af00\">8</span>, <span style=\"color: #00af00; text-decoration-color: #00af00\">512</span>)      │     <span style=\"color: #00af00; text-decoration-color: #00af00\">2,359,808</span> │\n",
       "├─────────────────────────────────┼────────────────────────┼───────────────┤\n",
       "│ batch_normalization_22          │ (<span style=\"color: #00d7ff; text-decoration-color: #00d7ff\">None</span>, <span style=\"color: #00af00; text-decoration-color: #00af00\">8</span>, <span style=\"color: #00af00; text-decoration-color: #00af00\">8</span>, <span style=\"color: #00af00; text-decoration-color: #00af00\">512</span>)      │         <span style=\"color: #00af00; text-decoration-color: #00af00\">2,048</span> │\n",
       "│ (<span style=\"color: #0087ff; text-decoration-color: #0087ff\">BatchNormalization</span>)            │                        │               │\n",
       "├─────────────────────────────────┼────────────────────────┼───────────────┤\n",
       "│ conv2d_22 (<span style=\"color: #0087ff; text-decoration-color: #0087ff\">Conv2D</span>)              │ (<span style=\"color: #00d7ff; text-decoration-color: #00d7ff\">None</span>, <span style=\"color: #00af00; text-decoration-color: #00af00\">8</span>, <span style=\"color: #00af00; text-decoration-color: #00af00\">8</span>, <span style=\"color: #00af00; text-decoration-color: #00af00\">512</span>)      │     <span style=\"color: #00af00; text-decoration-color: #00af00\">2,359,808</span> │\n",
       "├─────────────────────────────────┼────────────────────────┼───────────────┤\n",
       "│ batch_normalization_23          │ (<span style=\"color: #00d7ff; text-decoration-color: #00d7ff\">None</span>, <span style=\"color: #00af00; text-decoration-color: #00af00\">8</span>, <span style=\"color: #00af00; text-decoration-color: #00af00\">8</span>, <span style=\"color: #00af00; text-decoration-color: #00af00\">512</span>)      │         <span style=\"color: #00af00; text-decoration-color: #00af00\">2,048</span> │\n",
       "│ (<span style=\"color: #0087ff; text-decoration-color: #0087ff\">BatchNormalization</span>)            │                        │               │\n",
       "├─────────────────────────────────┼────────────────────────┼───────────────┤\n",
       "│ max_pooling2d_8 (<span style=\"color: #0087ff; text-decoration-color: #0087ff\">MaxPooling2D</span>)  │ (<span style=\"color: #00d7ff; text-decoration-color: #00d7ff\">None</span>, <span style=\"color: #00af00; text-decoration-color: #00af00\">4</span>, <span style=\"color: #00af00; text-decoration-color: #00af00\">4</span>, <span style=\"color: #00af00; text-decoration-color: #00af00\">512</span>)      │             <span style=\"color: #00af00; text-decoration-color: #00af00\">0</span> │\n",
       "├─────────────────────────────────┼────────────────────────┼───────────────┤\n",
       "│ dropout_9 (<span style=\"color: #0087ff; text-decoration-color: #0087ff\">Dropout</span>)             │ (<span style=\"color: #00d7ff; text-decoration-color: #00d7ff\">None</span>, <span style=\"color: #00af00; text-decoration-color: #00af00\">4</span>, <span style=\"color: #00af00; text-decoration-color: #00af00\">4</span>, <span style=\"color: #00af00; text-decoration-color: #00af00\">512</span>)      │             <span style=\"color: #00af00; text-decoration-color: #00af00\">0</span> │\n",
       "├─────────────────────────────────┼────────────────────────┼───────────────┤\n",
       "│ conv2d_23 (<span style=\"color: #0087ff; text-decoration-color: #0087ff\">Conv2D</span>)              │ (<span style=\"color: #00d7ff; text-decoration-color: #00d7ff\">None</span>, <span style=\"color: #00af00; text-decoration-color: #00af00\">4</span>, <span style=\"color: #00af00; text-decoration-color: #00af00\">4</span>, <span style=\"color: #00af00; text-decoration-color: #00af00\">512</span>)      │     <span style=\"color: #00af00; text-decoration-color: #00af00\">2,359,808</span> │\n",
       "├─────────────────────────────────┼────────────────────────┼───────────────┤\n",
       "│ batch_normalization_24          │ (<span style=\"color: #00d7ff; text-decoration-color: #00d7ff\">None</span>, <span style=\"color: #00af00; text-decoration-color: #00af00\">4</span>, <span style=\"color: #00af00; text-decoration-color: #00af00\">4</span>, <span style=\"color: #00af00; text-decoration-color: #00af00\">512</span>)      │         <span style=\"color: #00af00; text-decoration-color: #00af00\">2,048</span> │\n",
       "│ (<span style=\"color: #0087ff; text-decoration-color: #0087ff\">BatchNormalization</span>)            │                        │               │\n",
       "├─────────────────────────────────┼────────────────────────┼───────────────┤\n",
       "│ conv2d_24 (<span style=\"color: #0087ff; text-decoration-color: #0087ff\">Conv2D</span>)              │ (<span style=\"color: #00d7ff; text-decoration-color: #00d7ff\">None</span>, <span style=\"color: #00af00; text-decoration-color: #00af00\">4</span>, <span style=\"color: #00af00; text-decoration-color: #00af00\">4</span>, <span style=\"color: #00af00; text-decoration-color: #00af00\">512</span>)      │     <span style=\"color: #00af00; text-decoration-color: #00af00\">2,359,808</span> │\n",
       "├─────────────────────────────────┼────────────────────────┼───────────────┤\n",
       "│ batch_normalization_25          │ (<span style=\"color: #00d7ff; text-decoration-color: #00d7ff\">None</span>, <span style=\"color: #00af00; text-decoration-color: #00af00\">4</span>, <span style=\"color: #00af00; text-decoration-color: #00af00\">4</span>, <span style=\"color: #00af00; text-decoration-color: #00af00\">512</span>)      │         <span style=\"color: #00af00; text-decoration-color: #00af00\">2,048</span> │\n",
       "│ (<span style=\"color: #0087ff; text-decoration-color: #0087ff\">BatchNormalization</span>)            │                        │               │\n",
       "├─────────────────────────────────┼────────────────────────┼───────────────┤\n",
       "│ conv2d_25 (<span style=\"color: #0087ff; text-decoration-color: #0087ff\">Conv2D</span>)              │ (<span style=\"color: #00d7ff; text-decoration-color: #00d7ff\">None</span>, <span style=\"color: #00af00; text-decoration-color: #00af00\">4</span>, <span style=\"color: #00af00; text-decoration-color: #00af00\">4</span>, <span style=\"color: #00af00; text-decoration-color: #00af00\">512</span>)      │     <span style=\"color: #00af00; text-decoration-color: #00af00\">2,359,808</span> │\n",
       "├─────────────────────────────────┼────────────────────────┼───────────────┤\n",
       "│ batch_normalization_26          │ (<span style=\"color: #00d7ff; text-decoration-color: #00d7ff\">None</span>, <span style=\"color: #00af00; text-decoration-color: #00af00\">4</span>, <span style=\"color: #00af00; text-decoration-color: #00af00\">4</span>, <span style=\"color: #00af00; text-decoration-color: #00af00\">512</span>)      │         <span style=\"color: #00af00; text-decoration-color: #00af00\">2,048</span> │\n",
       "│ (<span style=\"color: #0087ff; text-decoration-color: #0087ff\">BatchNormalization</span>)            │                        │               │\n",
       "├─────────────────────────────────┼────────────────────────┼───────────────┤\n",
       "│ max_pooling2d_9 (<span style=\"color: #0087ff; text-decoration-color: #0087ff\">MaxPooling2D</span>)  │ (<span style=\"color: #00d7ff; text-decoration-color: #00d7ff\">None</span>, <span style=\"color: #00af00; text-decoration-color: #00af00\">2</span>, <span style=\"color: #00af00; text-decoration-color: #00af00\">2</span>, <span style=\"color: #00af00; text-decoration-color: #00af00\">512</span>)      │             <span style=\"color: #00af00; text-decoration-color: #00af00\">0</span> │\n",
       "├─────────────────────────────────┼────────────────────────┼───────────────┤\n",
       "│ dropout_10 (<span style=\"color: #0087ff; text-decoration-color: #0087ff\">Dropout</span>)            │ (<span style=\"color: #00d7ff; text-decoration-color: #00d7ff\">None</span>, <span style=\"color: #00af00; text-decoration-color: #00af00\">2</span>, <span style=\"color: #00af00; text-decoration-color: #00af00\">2</span>, <span style=\"color: #00af00; text-decoration-color: #00af00\">512</span>)      │             <span style=\"color: #00af00; text-decoration-color: #00af00\">0</span> │\n",
       "├─────────────────────────────────┼────────────────────────┼───────────────┤\n",
       "│ flatten_1 (<span style=\"color: #0087ff; text-decoration-color: #0087ff\">Flatten</span>)             │ (<span style=\"color: #00d7ff; text-decoration-color: #00d7ff\">None</span>, <span style=\"color: #00af00; text-decoration-color: #00af00\">2048</span>)           │             <span style=\"color: #00af00; text-decoration-color: #00af00\">0</span> │\n",
       "├─────────────────────────────────┼────────────────────────┼───────────────┤\n",
       "│ dense_2 (<span style=\"color: #0087ff; text-decoration-color: #0087ff\">Dense</span>)                 │ (<span style=\"color: #00d7ff; text-decoration-color: #00d7ff\">None</span>, <span style=\"color: #00af00; text-decoration-color: #00af00\">256</span>)            │       <span style=\"color: #00af00; text-decoration-color: #00af00\">524,544</span> │\n",
       "├─────────────────────────────────┼────────────────────────┼───────────────┤\n",
       "│ batch_normalization_27          │ (<span style=\"color: #00d7ff; text-decoration-color: #00d7ff\">None</span>, <span style=\"color: #00af00; text-decoration-color: #00af00\">256</span>)            │         <span style=\"color: #00af00; text-decoration-color: #00af00\">1,024</span> │\n",
       "│ (<span style=\"color: #0087ff; text-decoration-color: #0087ff\">BatchNormalization</span>)            │                        │               │\n",
       "├─────────────────────────────────┼────────────────────────┼───────────────┤\n",
       "│ dropout_11 (<span style=\"color: #0087ff; text-decoration-color: #0087ff\">Dropout</span>)            │ (<span style=\"color: #00d7ff; text-decoration-color: #00d7ff\">None</span>, <span style=\"color: #00af00; text-decoration-color: #00af00\">256</span>)            │             <span style=\"color: #00af00; text-decoration-color: #00af00\">0</span> │\n",
       "├─────────────────────────────────┼────────────────────────┼───────────────┤\n",
       "│ dense_3 (<span style=\"color: #0087ff; text-decoration-color: #0087ff\">Dense</span>)                 │ (<span style=\"color: #00d7ff; text-decoration-color: #00d7ff\">None</span>, <span style=\"color: #00af00; text-decoration-color: #00af00\">20</span>)             │         <span style=\"color: #00af00; text-decoration-color: #00af00\">5,140</span> │\n",
       "└─────────────────────────────────┴────────────────────────┴───────────────┘\n",
       "</pre>\n"
      ],
      "text/plain": [
       "┏━━━━━━━━━━━━━━━━━━━━━━━━━━━━━━━━━┳━━━━━━━━━━━━━━━━━━━━━━━━┳━━━━━━━━━━━━━━━┓\n",
       "┃\u001b[1m \u001b[0m\u001b[1mLayer (type)                   \u001b[0m\u001b[1m \u001b[0m┃\u001b[1m \u001b[0m\u001b[1mOutput Shape          \u001b[0m\u001b[1m \u001b[0m┃\u001b[1m \u001b[0m\u001b[1m      Param #\u001b[0m\u001b[1m \u001b[0m┃\n",
       "┡━━━━━━━━━━━━━━━━━━━━━━━━━━━━━━━━━╇━━━━━━━━━━━━━━━━━━━━━━━━╇━━━━━━━━━━━━━━━┩\n",
       "│ conv2d_13 (\u001b[38;5;33mConv2D\u001b[0m)              │ (\u001b[38;5;45mNone\u001b[0m, \u001b[38;5;34m64\u001b[0m, \u001b[38;5;34m64\u001b[0m, \u001b[38;5;34m64\u001b[0m)     │           \u001b[38;5;34m640\u001b[0m │\n",
       "├─────────────────────────────────┼────────────────────────┼───────────────┤\n",
       "│ batch_normalization_14          │ (\u001b[38;5;45mNone\u001b[0m, \u001b[38;5;34m64\u001b[0m, \u001b[38;5;34m64\u001b[0m, \u001b[38;5;34m64\u001b[0m)     │           \u001b[38;5;34m256\u001b[0m │\n",
       "│ (\u001b[38;5;33mBatchNormalization\u001b[0m)            │                        │               │\n",
       "├─────────────────────────────────┼────────────────────────┼───────────────┤\n",
       "│ conv2d_14 (\u001b[38;5;33mConv2D\u001b[0m)              │ (\u001b[38;5;45mNone\u001b[0m, \u001b[38;5;34m64\u001b[0m, \u001b[38;5;34m64\u001b[0m, \u001b[38;5;34m64\u001b[0m)     │        \u001b[38;5;34m36,928\u001b[0m │\n",
       "├─────────────────────────────────┼────────────────────────┼───────────────┤\n",
       "│ batch_normalization_15          │ (\u001b[38;5;45mNone\u001b[0m, \u001b[38;5;34m64\u001b[0m, \u001b[38;5;34m64\u001b[0m, \u001b[38;5;34m64\u001b[0m)     │           \u001b[38;5;34m256\u001b[0m │\n",
       "│ (\u001b[38;5;33mBatchNormalization\u001b[0m)            │                        │               │\n",
       "├─────────────────────────────────┼────────────────────────┼───────────────┤\n",
       "│ max_pooling2d_5 (\u001b[38;5;33mMaxPooling2D\u001b[0m)  │ (\u001b[38;5;45mNone\u001b[0m, \u001b[38;5;34m32\u001b[0m, \u001b[38;5;34m32\u001b[0m, \u001b[38;5;34m64\u001b[0m)     │             \u001b[38;5;34m0\u001b[0m │\n",
       "├─────────────────────────────────┼────────────────────────┼───────────────┤\n",
       "│ dropout_6 (\u001b[38;5;33mDropout\u001b[0m)             │ (\u001b[38;5;45mNone\u001b[0m, \u001b[38;5;34m32\u001b[0m, \u001b[38;5;34m32\u001b[0m, \u001b[38;5;34m64\u001b[0m)     │             \u001b[38;5;34m0\u001b[0m │\n",
       "├─────────────────────────────────┼────────────────────────┼───────────────┤\n",
       "│ conv2d_15 (\u001b[38;5;33mConv2D\u001b[0m)              │ (\u001b[38;5;45mNone\u001b[0m, \u001b[38;5;34m32\u001b[0m, \u001b[38;5;34m32\u001b[0m, \u001b[38;5;34m128\u001b[0m)    │        \u001b[38;5;34m73,856\u001b[0m │\n",
       "├─────────────────────────────────┼────────────────────────┼───────────────┤\n",
       "│ batch_normalization_16          │ (\u001b[38;5;45mNone\u001b[0m, \u001b[38;5;34m32\u001b[0m, \u001b[38;5;34m32\u001b[0m, \u001b[38;5;34m128\u001b[0m)    │           \u001b[38;5;34m512\u001b[0m │\n",
       "│ (\u001b[38;5;33mBatchNormalization\u001b[0m)            │                        │               │\n",
       "├─────────────────────────────────┼────────────────────────┼───────────────┤\n",
       "│ conv2d_16 (\u001b[38;5;33mConv2D\u001b[0m)              │ (\u001b[38;5;45mNone\u001b[0m, \u001b[38;5;34m32\u001b[0m, \u001b[38;5;34m32\u001b[0m, \u001b[38;5;34m128\u001b[0m)    │       \u001b[38;5;34m147,584\u001b[0m │\n",
       "├─────────────────────────────────┼────────────────────────┼───────────────┤\n",
       "│ batch_normalization_17          │ (\u001b[38;5;45mNone\u001b[0m, \u001b[38;5;34m32\u001b[0m, \u001b[38;5;34m32\u001b[0m, \u001b[38;5;34m128\u001b[0m)    │           \u001b[38;5;34m512\u001b[0m │\n",
       "│ (\u001b[38;5;33mBatchNormalization\u001b[0m)            │                        │               │\n",
       "├─────────────────────────────────┼────────────────────────┼───────────────┤\n",
       "│ max_pooling2d_6 (\u001b[38;5;33mMaxPooling2D\u001b[0m)  │ (\u001b[38;5;45mNone\u001b[0m, \u001b[38;5;34m16\u001b[0m, \u001b[38;5;34m16\u001b[0m, \u001b[38;5;34m128\u001b[0m)    │             \u001b[38;5;34m0\u001b[0m │\n",
       "├─────────────────────────────────┼────────────────────────┼───────────────┤\n",
       "│ dropout_7 (\u001b[38;5;33mDropout\u001b[0m)             │ (\u001b[38;5;45mNone\u001b[0m, \u001b[38;5;34m16\u001b[0m, \u001b[38;5;34m16\u001b[0m, \u001b[38;5;34m128\u001b[0m)    │             \u001b[38;5;34m0\u001b[0m │\n",
       "├─────────────────────────────────┼────────────────────────┼───────────────┤\n",
       "│ conv2d_17 (\u001b[38;5;33mConv2D\u001b[0m)              │ (\u001b[38;5;45mNone\u001b[0m, \u001b[38;5;34m16\u001b[0m, \u001b[38;5;34m16\u001b[0m, \u001b[38;5;34m256\u001b[0m)    │       \u001b[38;5;34m295,168\u001b[0m │\n",
       "├─────────────────────────────────┼────────────────────────┼───────────────┤\n",
       "│ batch_normalization_18          │ (\u001b[38;5;45mNone\u001b[0m, \u001b[38;5;34m16\u001b[0m, \u001b[38;5;34m16\u001b[0m, \u001b[38;5;34m256\u001b[0m)    │         \u001b[38;5;34m1,024\u001b[0m │\n",
       "│ (\u001b[38;5;33mBatchNormalization\u001b[0m)            │                        │               │\n",
       "├─────────────────────────────────┼────────────────────────┼───────────────┤\n",
       "│ conv2d_18 (\u001b[38;5;33mConv2D\u001b[0m)              │ (\u001b[38;5;45mNone\u001b[0m, \u001b[38;5;34m16\u001b[0m, \u001b[38;5;34m16\u001b[0m, \u001b[38;5;34m256\u001b[0m)    │       \u001b[38;5;34m590,080\u001b[0m │\n",
       "├─────────────────────────────────┼────────────────────────┼───────────────┤\n",
       "│ batch_normalization_19          │ (\u001b[38;5;45mNone\u001b[0m, \u001b[38;5;34m16\u001b[0m, \u001b[38;5;34m16\u001b[0m, \u001b[38;5;34m256\u001b[0m)    │         \u001b[38;5;34m1,024\u001b[0m │\n",
       "│ (\u001b[38;5;33mBatchNormalization\u001b[0m)            │                        │               │\n",
       "├─────────────────────────────────┼────────────────────────┼───────────────┤\n",
       "│ conv2d_19 (\u001b[38;5;33mConv2D\u001b[0m)              │ (\u001b[38;5;45mNone\u001b[0m, \u001b[38;5;34m16\u001b[0m, \u001b[38;5;34m16\u001b[0m, \u001b[38;5;34m256\u001b[0m)    │       \u001b[38;5;34m590,080\u001b[0m │\n",
       "├─────────────────────────────────┼────────────────────────┼───────────────┤\n",
       "│ batch_normalization_20          │ (\u001b[38;5;45mNone\u001b[0m, \u001b[38;5;34m16\u001b[0m, \u001b[38;5;34m16\u001b[0m, \u001b[38;5;34m256\u001b[0m)    │         \u001b[38;5;34m1,024\u001b[0m │\n",
       "│ (\u001b[38;5;33mBatchNormalization\u001b[0m)            │                        │               │\n",
       "├─────────────────────────────────┼────────────────────────┼───────────────┤\n",
       "│ max_pooling2d_7 (\u001b[38;5;33mMaxPooling2D\u001b[0m)  │ (\u001b[38;5;45mNone\u001b[0m, \u001b[38;5;34m8\u001b[0m, \u001b[38;5;34m8\u001b[0m, \u001b[38;5;34m256\u001b[0m)      │             \u001b[38;5;34m0\u001b[0m │\n",
       "├─────────────────────────────────┼────────────────────────┼───────────────┤\n",
       "│ dropout_8 (\u001b[38;5;33mDropout\u001b[0m)             │ (\u001b[38;5;45mNone\u001b[0m, \u001b[38;5;34m8\u001b[0m, \u001b[38;5;34m8\u001b[0m, \u001b[38;5;34m256\u001b[0m)      │             \u001b[38;5;34m0\u001b[0m │\n",
       "├─────────────────────────────────┼────────────────────────┼───────────────┤\n",
       "│ conv2d_20 (\u001b[38;5;33mConv2D\u001b[0m)              │ (\u001b[38;5;45mNone\u001b[0m, \u001b[38;5;34m8\u001b[0m, \u001b[38;5;34m8\u001b[0m, \u001b[38;5;34m512\u001b[0m)      │     \u001b[38;5;34m1,180,160\u001b[0m │\n",
       "├─────────────────────────────────┼────────────────────────┼───────────────┤\n",
       "│ batch_normalization_21          │ (\u001b[38;5;45mNone\u001b[0m, \u001b[38;5;34m8\u001b[0m, \u001b[38;5;34m8\u001b[0m, \u001b[38;5;34m512\u001b[0m)      │         \u001b[38;5;34m2,048\u001b[0m │\n",
       "│ (\u001b[38;5;33mBatchNormalization\u001b[0m)            │                        │               │\n",
       "├─────────────────────────────────┼────────────────────────┼───────────────┤\n",
       "│ conv2d_21 (\u001b[38;5;33mConv2D\u001b[0m)              │ (\u001b[38;5;45mNone\u001b[0m, \u001b[38;5;34m8\u001b[0m, \u001b[38;5;34m8\u001b[0m, \u001b[38;5;34m512\u001b[0m)      │     \u001b[38;5;34m2,359,808\u001b[0m │\n",
       "├─────────────────────────────────┼────────────────────────┼───────────────┤\n",
       "│ batch_normalization_22          │ (\u001b[38;5;45mNone\u001b[0m, \u001b[38;5;34m8\u001b[0m, \u001b[38;5;34m8\u001b[0m, \u001b[38;5;34m512\u001b[0m)      │         \u001b[38;5;34m2,048\u001b[0m │\n",
       "│ (\u001b[38;5;33mBatchNormalization\u001b[0m)            │                        │               │\n",
       "├─────────────────────────────────┼────────────────────────┼───────────────┤\n",
       "│ conv2d_22 (\u001b[38;5;33mConv2D\u001b[0m)              │ (\u001b[38;5;45mNone\u001b[0m, \u001b[38;5;34m8\u001b[0m, \u001b[38;5;34m8\u001b[0m, \u001b[38;5;34m512\u001b[0m)      │     \u001b[38;5;34m2,359,808\u001b[0m │\n",
       "├─────────────────────────────────┼────────────────────────┼───────────────┤\n",
       "│ batch_normalization_23          │ (\u001b[38;5;45mNone\u001b[0m, \u001b[38;5;34m8\u001b[0m, \u001b[38;5;34m8\u001b[0m, \u001b[38;5;34m512\u001b[0m)      │         \u001b[38;5;34m2,048\u001b[0m │\n",
       "│ (\u001b[38;5;33mBatchNormalization\u001b[0m)            │                        │               │\n",
       "├─────────────────────────────────┼────────────────────────┼───────────────┤\n",
       "│ max_pooling2d_8 (\u001b[38;5;33mMaxPooling2D\u001b[0m)  │ (\u001b[38;5;45mNone\u001b[0m, \u001b[38;5;34m4\u001b[0m, \u001b[38;5;34m4\u001b[0m, \u001b[38;5;34m512\u001b[0m)      │             \u001b[38;5;34m0\u001b[0m │\n",
       "├─────────────────────────────────┼────────────────────────┼───────────────┤\n",
       "│ dropout_9 (\u001b[38;5;33mDropout\u001b[0m)             │ (\u001b[38;5;45mNone\u001b[0m, \u001b[38;5;34m4\u001b[0m, \u001b[38;5;34m4\u001b[0m, \u001b[38;5;34m512\u001b[0m)      │             \u001b[38;5;34m0\u001b[0m │\n",
       "├─────────────────────────────────┼────────────────────────┼───────────────┤\n",
       "│ conv2d_23 (\u001b[38;5;33mConv2D\u001b[0m)              │ (\u001b[38;5;45mNone\u001b[0m, \u001b[38;5;34m4\u001b[0m, \u001b[38;5;34m4\u001b[0m, \u001b[38;5;34m512\u001b[0m)      │     \u001b[38;5;34m2,359,808\u001b[0m │\n",
       "├─────────────────────────────────┼────────────────────────┼───────────────┤\n",
       "│ batch_normalization_24          │ (\u001b[38;5;45mNone\u001b[0m, \u001b[38;5;34m4\u001b[0m, \u001b[38;5;34m4\u001b[0m, \u001b[38;5;34m512\u001b[0m)      │         \u001b[38;5;34m2,048\u001b[0m │\n",
       "│ (\u001b[38;5;33mBatchNormalization\u001b[0m)            │                        │               │\n",
       "├─────────────────────────────────┼────────────────────────┼───────────────┤\n",
       "│ conv2d_24 (\u001b[38;5;33mConv2D\u001b[0m)              │ (\u001b[38;5;45mNone\u001b[0m, \u001b[38;5;34m4\u001b[0m, \u001b[38;5;34m4\u001b[0m, \u001b[38;5;34m512\u001b[0m)      │     \u001b[38;5;34m2,359,808\u001b[0m │\n",
       "├─────────────────────────────────┼────────────────────────┼───────────────┤\n",
       "│ batch_normalization_25          │ (\u001b[38;5;45mNone\u001b[0m, \u001b[38;5;34m4\u001b[0m, \u001b[38;5;34m4\u001b[0m, \u001b[38;5;34m512\u001b[0m)      │         \u001b[38;5;34m2,048\u001b[0m │\n",
       "│ (\u001b[38;5;33mBatchNormalization\u001b[0m)            │                        │               │\n",
       "├─────────────────────────────────┼────────────────────────┼───────────────┤\n",
       "│ conv2d_25 (\u001b[38;5;33mConv2D\u001b[0m)              │ (\u001b[38;5;45mNone\u001b[0m, \u001b[38;5;34m4\u001b[0m, \u001b[38;5;34m4\u001b[0m, \u001b[38;5;34m512\u001b[0m)      │     \u001b[38;5;34m2,359,808\u001b[0m │\n",
       "├─────────────────────────────────┼────────────────────────┼───────────────┤\n",
       "│ batch_normalization_26          │ (\u001b[38;5;45mNone\u001b[0m, \u001b[38;5;34m4\u001b[0m, \u001b[38;5;34m4\u001b[0m, \u001b[38;5;34m512\u001b[0m)      │         \u001b[38;5;34m2,048\u001b[0m │\n",
       "│ (\u001b[38;5;33mBatchNormalization\u001b[0m)            │                        │               │\n",
       "├─────────────────────────────────┼────────────────────────┼───────────────┤\n",
       "│ max_pooling2d_9 (\u001b[38;5;33mMaxPooling2D\u001b[0m)  │ (\u001b[38;5;45mNone\u001b[0m, \u001b[38;5;34m2\u001b[0m, \u001b[38;5;34m2\u001b[0m, \u001b[38;5;34m512\u001b[0m)      │             \u001b[38;5;34m0\u001b[0m │\n",
       "├─────────────────────────────────┼────────────────────────┼───────────────┤\n",
       "│ dropout_10 (\u001b[38;5;33mDropout\u001b[0m)            │ (\u001b[38;5;45mNone\u001b[0m, \u001b[38;5;34m2\u001b[0m, \u001b[38;5;34m2\u001b[0m, \u001b[38;5;34m512\u001b[0m)      │             \u001b[38;5;34m0\u001b[0m │\n",
       "├─────────────────────────────────┼────────────────────────┼───────────────┤\n",
       "│ flatten_1 (\u001b[38;5;33mFlatten\u001b[0m)             │ (\u001b[38;5;45mNone\u001b[0m, \u001b[38;5;34m2048\u001b[0m)           │             \u001b[38;5;34m0\u001b[0m │\n",
       "├─────────────────────────────────┼────────────────────────┼───────────────┤\n",
       "│ dense_2 (\u001b[38;5;33mDense\u001b[0m)                 │ (\u001b[38;5;45mNone\u001b[0m, \u001b[38;5;34m256\u001b[0m)            │       \u001b[38;5;34m524,544\u001b[0m │\n",
       "├─────────────────────────────────┼────────────────────────┼───────────────┤\n",
       "│ batch_normalization_27          │ (\u001b[38;5;45mNone\u001b[0m, \u001b[38;5;34m256\u001b[0m)            │         \u001b[38;5;34m1,024\u001b[0m │\n",
       "│ (\u001b[38;5;33mBatchNormalization\u001b[0m)            │                        │               │\n",
       "├─────────────────────────────────┼────────────────────────┼───────────────┤\n",
       "│ dropout_11 (\u001b[38;5;33mDropout\u001b[0m)            │ (\u001b[38;5;45mNone\u001b[0m, \u001b[38;5;34m256\u001b[0m)            │             \u001b[38;5;34m0\u001b[0m │\n",
       "├─────────────────────────────────┼────────────────────────┼───────────────┤\n",
       "│ dense_3 (\u001b[38;5;33mDense\u001b[0m)                 │ (\u001b[38;5;45mNone\u001b[0m, \u001b[38;5;34m20\u001b[0m)             │         \u001b[38;5;34m5,140\u001b[0m │\n",
       "└─────────────────────────────────┴────────────────────────┴───────────────┘\n"
      ]
     },
     "metadata": {},
     "output_type": "display_data"
    },
    {
     "data": {
      "text/html": [
       "<pre style=\"white-space:pre;overflow-x:auto;line-height:normal;font-family:Menlo,'DejaVu Sans Mono',consolas,'Courier New',monospace\"><span style=\"font-weight: bold\"> Total params: </span><span style=\"color: #00af00; text-decoration-color: #00af00\">15,261,140</span> (58.22 MB)\n",
       "</pre>\n"
      ],
      "text/plain": [
       "\u001b[1m Total params: \u001b[0m\u001b[38;5;34m15,261,140\u001b[0m (58.22 MB)\n"
      ]
     },
     "metadata": {},
     "output_type": "display_data"
    },
    {
     "data": {
      "text/html": [
       "<pre style=\"white-space:pre;overflow-x:auto;line-height:normal;font-family:Menlo,'DejaVu Sans Mono',consolas,'Courier New',monospace\"><span style=\"font-weight: bold\"> Trainable params: </span><span style=\"color: #00af00; text-decoration-color: #00af00\">15,252,180</span> (58.18 MB)\n",
       "</pre>\n"
      ],
      "text/plain": [
       "\u001b[1m Trainable params: \u001b[0m\u001b[38;5;34m15,252,180\u001b[0m (58.18 MB)\n"
      ]
     },
     "metadata": {},
     "output_type": "display_data"
    },
    {
     "data": {
      "text/html": [
       "<pre style=\"white-space:pre;overflow-x:auto;line-height:normal;font-family:Menlo,'DejaVu Sans Mono',consolas,'Courier New',monospace\"><span style=\"font-weight: bold\"> Non-trainable params: </span><span style=\"color: #00af00; text-decoration-color: #00af00\">8,960</span> (35.00 KB)\n",
       "</pre>\n"
      ],
      "text/plain": [
       "\u001b[1m Non-trainable params: \u001b[0m\u001b[38;5;34m8,960\u001b[0m (35.00 KB)\n"
      ]
     },
     "metadata": {},
     "output_type": "display_data"
    }
   ],
   "source": [
    "from tensorflow.keras.models import Sequential\n",
    "from tensorflow.keras.layers import Conv2D, MaxPooling2D, Flatten, Dense, Dropout, BatchNormalization\n",
    "from tensorflow.keras.optimizers import Adam\n",
    "\n",
    "def build_vgg16(input_shape=(64, 64, 1), num_classes=num_classes):\n",
    "    model = Sequential()\n",
    "\n",
    "    # Blok 1\n",
    "    model.add(Conv2D(64, (3, 3), activation='relu', padding='same', input_shape=input_shape))\n",
    "    model.add(BatchNormalization())\n",
    "    model.add(Conv2D(64, (3, 3), activation='relu', padding='same'))\n",
    "    model.add(BatchNormalization())\n",
    "    model.add(MaxPooling2D((2, 2), strides=(2, 2)))\n",
    "    model.add(Dropout(0.75))\n",
    "\n",
    "    # Blok 2\n",
    "    model.add(Conv2D(128, (3, 3), activation='relu', padding='same'))\n",
    "    model.add(BatchNormalization())\n",
    "    model.add(Conv2D(128, (3, 3), activation='relu', padding='same'))\n",
    "    model.add(BatchNormalization())\n",
    "    model.add(MaxPooling2D((2, 2), strides=(2, 2)))\n",
    "    model.add(Dropout(0.75))\n",
    "\n",
    "    # Blok 3\n",
    "    model.add(Conv2D(256, (3, 3), activation='relu', padding='same'))\n",
    "    model.add(BatchNormalization())\n",
    "    model.add(Conv2D(256, (3, 3), activation='relu', padding='same'))\n",
    "    model.add(BatchNormalization())\n",
    "    model.add(Conv2D(256, (3, 3), activation='relu', padding='same'))\n",
    "    model.add(BatchNormalization())\n",
    "    model.add(MaxPooling2D((2, 2), strides=(2, 2)))\n",
    "    model.add(Dropout(0.75))\n",
    "\n",
    "    # Blok 4\n",
    "    model.add(Conv2D(512, (3, 3), activation='relu', padding='same'))\n",
    "    model.add(BatchNormalization())\n",
    "    model.add(Conv2D(512, (3, 3), activation='relu', padding='same'))\n",
    "    model.add(BatchNormalization())\n",
    "    model.add(Conv2D(512, (3, 3), activation='relu', padding='same'))\n",
    "    model.add(BatchNormalization())\n",
    "    model.add(MaxPooling2D((2, 2), strides=(2, 2)))\n",
    "    model.add(Dropout(0.75))\n",
    "    \n",
    "    # Blok 5\n",
    "    model.add(Conv2D(512, (3, 3), activation='relu', padding='same'))\n",
    "    model.add(BatchNormalization())\n",
    "    model.add(Conv2D(512, (3, 3), activation='relu', padding='same'))\n",
    "    model.add(BatchNormalization())\n",
    "    model.add(Conv2D(512, (3, 3), activation='relu', padding='same'))\n",
    "    model.add(BatchNormalization())\n",
    "    model.add(MaxPooling2D((2, 2), strides=(2, 2)))\n",
    "    model.add(Dropout(0.75))\n",
    "    \n",
    "    # Fully connected layers\n",
    "    model.add(Flatten())\n",
    "    model.add(Dense(256, activation='relu'))\n",
    "    model.add(BatchNormalization())\n",
    "    model.add(Dropout(0.75))\n",
    "    \n",
    "    # model.add(Dense(256, activation='relu'))\n",
    "    # model.add(BatchNormalization())\n",
    "    # model.add(Dropout(0.5))\n",
    "    \n",
    "    model.add(Dense(num_classes, activation='softmax'))\n",
    "\n",
    "    return model\n",
    "\n",
    "# Create the VGG16 model\n",
    "model = build_vgg16()\n",
    "\n",
    "# # Adam optimizer with learning rate scheduling, Weight Decay, and Gradient Clipping\n",
    "opt = Adam(learning_rate=0.0001, weight_decay=1e-4, clipvalue=0.1)\n",
    "    \n",
    "# Compile the model\n",
    "model.compile(optimizer=opt, loss='categorical_crossentropy', metrics=['accuracy'])\n",
    "\n",
    "model.summary()"
   ]
  },
  {
   "cell_type": "markdown",
   "metadata": {},
   "source": [
    "### Training Model"
   ]
  },
  {
   "cell_type": "code",
   "execution_count": 39,
   "metadata": {},
   "outputs": [],
   "source": [
    "from tensorflow.keras.callbacks import ModelCheckpoint\n",
    "\n",
    "# Fungsi untuk menetapkan learning rate secara dinamis\n",
    "# def lr_scheduler(epoch, lr):\n",
    "#     if epoch % 50 == 0 and epoch > 0:\n",
    "#         lr = lr * 0.9  # Mengurangi learning rate setiap 50 epoch\n",
    "#     return lr\n",
    "\n",
    "# lr_schedule = LearningRateScheduler(lr_scheduler)\n",
    "\n",
    "# Define the filepath where you want to save the model\n",
    "checkpoint_filepath = \"../save_models/aksarajawa_v0.4.keras\"\n",
    "\n",
    "# Define the ModelCheckpoint callback\n",
    "checkpoint = ModelCheckpoint(filepath=checkpoint_filepath, \n",
    "                             monitor='val_accuracy', \n",
    "                             verbose=1, \n",
    "                             save_best_only=True, \n",
    "                             mode='max')\n",
    "\n",
    "callbacks_list = [checkpoint]"
   ]
  },
  {
   "cell_type": "code",
   "execution_count": 40,
   "metadata": {},
   "outputs": [
    {
     "name": "stdout",
     "output_type": "stream",
     "text": [
      "Epoch 1/10\n"
     ]
    },
    {
     "name": "stderr",
     "output_type": "stream",
     "text": [
      "c:\\Users\\wawn1\\AppData\\Local\\Programs\\Python\\Python312\\Lib\\site-packages\\keras\\src\\trainers\\data_adapters\\py_dataset_adapter.py:122: UserWarning: Your `PyDataset` class should call `super().__init__(**kwargs)` in its constructor. `**kwargs` can include `workers`, `use_multiprocessing`, `max_queue_size`. Do not pass these arguments to `fit()`, as they will be ignored.\n",
      "  self._warn_if_super_not_called()\n"
     ]
    },
    {
     "name": "stdout",
     "output_type": "stream",
     "text": [
      "\u001b[1m108/108\u001b[0m \u001b[32m━━━━━━━━━━━━━━━━━━━━\u001b[0m\u001b[37m\u001b[0m \u001b[1m1343s\u001b[0m 12s/step - accuracy: 0.0536 - loss: 5.5681 - val_accuracy: 0.0521 - val_loss: 3.5264\n",
      "Epoch 2/10\n",
      "\u001b[1m108/108\u001b[0m \u001b[32m━━━━━━━━━━━━━━━━━━━━\u001b[0m\u001b[37m\u001b[0m \u001b[1m1307s\u001b[0m 12s/step - accuracy: 0.0770 - loss: 5.0098 - val_accuracy: 0.0521 - val_loss: 7.2623\n",
      "Epoch 3/10\n",
      "\u001b[1m108/108\u001b[0m \u001b[32m━━━━━━━━━━━━━━━━━━━━\u001b[0m\u001b[37m\u001b[0m \u001b[1m1656s\u001b[0m 15s/step - accuracy: 0.1238 - loss: 4.2005 - val_accuracy: 0.0521 - val_loss: 12.8553\n",
      "Epoch 4/10\n",
      "\u001b[1m108/108\u001b[0m \u001b[32m━━━━━━━━━━━━━━━━━━━━\u001b[0m\u001b[37m\u001b[0m \u001b[1m1657s\u001b[0m 15s/step - accuracy: 0.2147 - loss: 3.3334 - val_accuracy: 0.0521 - val_loss: 20.7248\n",
      "Epoch 5/10\n",
      "\u001b[1m108/108\u001b[0m \u001b[32m━━━━━━━━━━━━━━━━━━━━\u001b[0m\u001b[37m\u001b[0m \u001b[1m2316s\u001b[0m 21s/step - accuracy: 0.2988 - loss: 2.6682 - val_accuracy: 0.0521 - val_loss: 26.9526\n",
      "Epoch 6/10\n",
      "\u001b[1m108/108\u001b[0m \u001b[32m━━━━━━━━━━━━━━━━━━━━\u001b[0m\u001b[37m\u001b[0m \u001b[1m2821s\u001b[0m 26s/step - accuracy: 0.3916 - loss: 2.1280 - val_accuracy: 0.0521 - val_loss: 29.3216\n",
      "Epoch 7/10\n",
      "\u001b[1m108/108\u001b[0m \u001b[32m━━━━━━━━━━━━━━━━━━━━\u001b[0m\u001b[37m\u001b[0m \u001b[1m2529s\u001b[0m 23s/step - accuracy: 0.4895 - loss: 1.6299 - val_accuracy: 0.0521 - val_loss: 31.1277\n",
      "Epoch 8/10\n",
      "\u001b[1m108/108\u001b[0m \u001b[32m━━━━━━━━━━━━━━━━━━━━\u001b[0m\u001b[37m\u001b[0m \u001b[1m2498s\u001b[0m 23s/step - accuracy: 0.5596 - loss: 1.3440 - val_accuracy: 0.0521 - val_loss: 30.8432\n",
      "Epoch 9/10\n",
      "\u001b[1m108/108\u001b[0m \u001b[32m━━━━━━━━━━━━━━━━━━━━\u001b[0m\u001b[37m\u001b[0m \u001b[1m2477s\u001b[0m 23s/step - accuracy: 0.6354 - loss: 1.0948 - val_accuracy: 0.0521 - val_loss: 32.0187\n",
      "Epoch 10/10\n",
      "\u001b[1m108/108\u001b[0m \u001b[32m━━━━━━━━━━━━━━━━━━━━\u001b[0m\u001b[37m\u001b[0m \u001b[1m2478s\u001b[0m 23s/step - accuracy: 0.6932 - loss: 0.8857 - val_accuracy: 0.0521 - val_loss: 33.0024\n"
     ]
    }
   ],
   "source": [
    "# Melakukan pelatihan model\n",
    "history = model.fit(\n",
    "    train_generator,\n",
    "    batch_size=batch_size,\n",
    "    epochs=10,\n",
    "    validation_data=test_generator)\n",
    "    # steps_per_epoch=len(train_generator),\n",
    "    # validation_steps=len(test_generator))\n",
    "    # callbacks=callbacks_list,  # Uncomment jika Anda memiliki callbacks\n",
    "    # class_weight=class_weight, # Uncomment jika Anda memiliki class weight"
   ]
  },
  {
   "cell_type": "markdown",
   "metadata": {},
   "source": [
    "### Model Graph"
   ]
  },
  {
   "cell_type": "code",
   "execution_count": 48,
   "metadata": {},
   "outputs": [
    {
     "data": {
      "image/png": "[encoded data removed]",
      "text/plain": [
       "<Figure size 640x480 with 1 Axes>"
      ]
     },
     "metadata": {},
     "output_type": "display_data"
    }
   ],
   "source": [
    "import matplotlib.pyplot as plt\n",
    "plt.plot(history.history[\"accuracy\"])\n",
    "plt.plot(history.history['val_accuracy'])\n",
    "plt.plot(history.history['loss'])\n",
    "plt.plot(history.history['val_loss'])\n",
    "plt.title(\"Model Accuracy\")\n",
    "plt.ylabel(\"Accuracy\")\n",
    "plt.xlabel(\"Epoch\")\n",
    "plt.legend([\"Accuracy\",\"Validation Accuracy\",\"Loss\",\"Validation Loss\"])\n",
    "plt.show()"
   ]
  },
  {
   "cell_type": "code",
   "execution_count": 42,
   "metadata": {},
   "outputs": [],
   "source": [
    "# acc = history.history['accuracy']\n",
    "# loss = history.history['loss']\n",
    "# epochs_range = range(len(acc))\n",
    "\n",
    "# plt.figure(figsize=(12, 4))\n",
    "\n",
    "# plt.subplot(1, 2, 1)\n",
    "# plt.plot(epochs_range, acc, label='Training Accuracy')\n",
    "# plt.title('Training Accuracy')\n",
    "# plt.xlabel('Epoch')\n",
    "# plt.ylabel('Accuracy')\n",
    "# plt.legend(loc='lower right')\n",
    "\n",
    "# plt.subplot(1, 2, 2)\n",
    "# plt.plot(epochs_range, loss, label='Training Loss')\n",
    "# plt.title('Training Loss')\n",
    "# plt.xlabel('Epoch')\n",
    "# plt.ylabel('Loss')\n",
    "# plt.legend(loc='upper right')\n",
    "\n",
    "# plt.tight_layout()\n",
    "# plt.show()"
   ]
  },
  {
   "cell_type": "code",
   "execution_count": 43,
   "metadata": {},
   "outputs": [],
   "source": [
    "# import matplotlib.pyplot as plt\n",
    "\n",
    "# def plot_training_history(history):\n",
    "#     # Mengambil data loss dan akurasi dari history\n",
    "#     loss = history.history['loss']\n",
    "#     val_loss = history.history['val_loss']\n",
    "#     accuracy = history.history['accuracy']\n",
    "#     val_accuracy = history.history['val_accuracy']\n",
    "\n",
    "#     # Menampilkan grafik loss\n",
    "#     plt.figure(figsize=(10, 5))\n",
    "#     plt.plot(loss, label='Training Loss')\n",
    "#     plt.plot(val_loss, label='Validation Loss')\n",
    "#     plt.title('Training and Validation Loss')\n",
    "#     plt.xlabel('Epoch')\n",
    "#     plt.ylabel('Loss')\n",
    "#     plt.legend()\n",
    "#     plt.show()\n",
    "\n",
    "#     # Menampilkan grafik akurasi\n",
    "#     plt.figure(figsize=(10, 5))\n",
    "#     plt.plot(accuracy, label='Training Accuracy')\n",
    "#     plt.plot(val_accuracy, label='Validation Accuracy')\n",
    "#     plt.title('Training and Validation Accuracy')\n",
    "#     plt.xlabel('Epoch')\n",
    "#     plt.ylabel('Accuracy')\n",
    "#     plt.legend()\n",
    "#     plt.show()\n",
    "\n",
    "# # Panggil fungsi plot_training_history dengan history dari pelatihan model\n",
    "# plot_training_history(history)"
   ]
  },
  {
   "cell_type": "code",
   "execution_count": 49,
   "metadata": {
    "id": "S8In9hHv-Wwr"
   },
   "outputs": [
    {
     "data": {
      "image/png": "[encoded data removed]",
      "text/plain": [
       "<Figure size 1200x400 with 2 Axes>"
      ]
     },
     "metadata": {},
     "output_type": "display_data"
    }
   ],
   "source": [
    "# Menampilkan grafik training dan validation accuracy\n",
    "\n",
    "acc = history.history['accuracy']\n",
    "val_acc = history.history['val_accuracy']\n",
    "\n",
    "loss = history.history['loss']\n",
    "\n",
    "val_loss = history.history['val_loss']\n",
    "\n",
    "epochs_range = range(len(acc))\n",
    "\n",
    "plt.figure(figsize=(12, 4))\n",
    "\n",
    "plt.subplot(1, 2, 1)\n",
    "plt.plot(epochs_range, acc, label='Training Accuracy')\n",
    "plt.plot(epochs_range, val_acc, label='Validation Accuracy')\n",
    "plt.title('Training and Validation Accuracy')\n",
    "plt.xlabel('Epoch')\n",
    "plt.ylabel('Accuracy')\n",
    "plt.legend(loc='lower right')\n",
    "\n",
    "plt.subplot(1, 2, 2)\n",
    "plt.plot(epochs_range, loss, label='Training Loss')\n",
    "plt.plot(epochs_range, val_loss, label='Validation Loss')\n",
    "plt.title('Training and Validation Loss')\n",
    "plt.xlabel('Epoch')\n",
    "plt.ylabel('Loss')\n",
    "plt.legend(loc='upper right')\n",
    "\n",
    "plt.tight_layout()\n",
    "plt.show()"
   ]
  },
  {
   "cell_type": "markdown",
   "metadata": {},
   "source": [
    "# Try Predict"
   ]
  },
  {
   "cell_type": "code",
   "execution_count": 50,
   "metadata": {
    "id": "ysYBOgwI-mBs"
   },
   "outputs": [
    {
     "name": "stdout",
     "output_type": "stream",
     "text": [
      "\u001b[1m47/47\u001b[0m \u001b[32m━━━━━━━━━━━━━━━━━━━━\u001b[0m\u001b[37m\u001b[0m \u001b[1m202s\u001b[0m 4s/step - accuracy: 0.0501 - loss: 32.8923\n",
      "Loss: 33.00238800048828\n",
      "Accuracy: 0.05206220597028732\n"
     ]
    }
   ],
   "source": [
    "from tensorflow.keras.models import load_model\n",
    "\n",
    "# Saved Model\n",
    "saved_model_path = checkpoint_filepath\n",
    "model.save(saved_model_path)\n",
    "\n",
    "# Memuat model dari file yang disimpan\n",
    "loaded_model = load_model(saved_model_path)\n",
    "\n",
    "# Evaluasi model menggunakan data uji\n",
    "loss, accuracy = loaded_model.evaluate(test_generator)\n",
    "\n",
    "# Print hasil evaluasi\n",
    "print(\"Loss:\", loss)\n",
    "print(\"Accuracy:\", accuracy)\n"
   ]
  },
  {
   "cell_type": "code",
   "execution_count": 46,
   "metadata": {
    "id": "7DZyrd5x9Q-h"
   },
   "outputs": [
    {
     "name": "stdout",
     "output_type": "stream",
     "text": [
      "\u001b[1m47/47\u001b[0m \u001b[32m━━━━━━━━━━━━━━━━━━━━\u001b[0m\u001b[37m\u001b[0m \u001b[1m245s\u001b[0m 5s/step\n",
      "              precision    recall  f1-score   support\n",
      "\n",
      "          ba       0.00      0.00      0.00       136\n",
      "          ca       0.00      0.00      0.00       153\n",
      "          da       0.00      0.00      0.00       131\n",
      "         dha       0.00      0.00      0.00       148\n",
      "          ga       0.00      0.00      0.00       169\n",
      "          ha       0.00      0.00      0.00       132\n",
      "          ja       0.00      0.00      0.00       150\n",
      "          ka       0.00      0.00      0.00       152\n",
      "          la       0.00      0.00      0.00       169\n",
      "          ma       0.00      0.00      0.00       137\n",
      "          na       0.00      0.00      0.00       151\n",
      "         nga       0.00      0.00      0.00       138\n",
      "         nya       0.00      0.00      0.00       148\n",
      "          pa       0.00      0.00      0.00       140\n",
      "          ra       0.05      1.00      0.10       154\n",
      "          sa       0.00      0.00      0.00       142\n",
      "          ta       0.00      0.00      0.00       146\n",
      "         tha       0.00      0.00      0.00       159\n",
      "          wa       0.00      0.00      0.00       156\n",
      "          ya       0.00      0.00      0.00       147\n",
      "\n",
      "    accuracy                           0.05      2958\n",
      "   macro avg       0.00      0.05      0.00      2958\n",
      "weighted avg       0.00      0.05      0.01      2958\n",
      "\n"
     ]
    },
    {
     "name": "stderr",
     "output_type": "stream",
     "text": [
      "c:\\Users\\wawn1\\AppData\\Local\\Programs\\Python\\Python312\\Lib\\site-packages\\sklearn\\metrics\\_classification.py:1509: UndefinedMetricWarning: Precision is ill-defined and being set to 0.0 in labels with no predicted samples. Use `zero_division` parameter to control this behavior.\n",
      "  _warn_prf(average, modifier, f\"{metric.capitalize()} is\", len(result))\n",
      "c:\\Users\\wawn1\\AppData\\Local\\Programs\\Python\\Python312\\Lib\\site-packages\\sklearn\\metrics\\_classification.py:1509: UndefinedMetricWarning: Precision is ill-defined and being set to 0.0 in labels with no predicted samples. Use `zero_division` parameter to control this behavior.\n",
      "  _warn_prf(average, modifier, f\"{metric.capitalize()} is\", len(result))\n",
      "c:\\Users\\wawn1\\AppData\\Local\\Programs\\Python\\Python312\\Lib\\site-packages\\sklearn\\metrics\\_classification.py:1509: UndefinedMetricWarning: Precision is ill-defined and being set to 0.0 in labels with no predicted samples. Use `zero_division` parameter to control this behavior.\n",
      "  _warn_prf(average, modifier, f\"{metric.capitalize()} is\", len(result))\n"
     ]
    }
   ],
   "source": [
    "# Import the necessary modules\n",
    "from sklearn import metrics\n",
    "import math\n",
    "\n",
    "test_steps_per_epoch = math.ceil(test_generator.samples / test_generator.batch_size)\n",
    "predictions = model.predict(test_generator, steps=test_steps_per_epoch)\n",
    "predicted_classes = np.argmax(predictions, axis=1)\n",
    "\n",
    "true_classes = test_generator.classes\n",
    "class_labels = list(test_generator.class_indices.keys())\n",
    "\n",
    "# Hitung dan tampilkan classification report\n",
    "report = metrics.classification_report(true_classes,\n",
    "                                       predicted_classes,\n",
    "                                       target_names = class_labels)\n",
    "print(report)"
   ]
  },
  {
   "cell_type": "code",
   "execution_count": 47,
   "metadata": {
    "id": "JEGcRkBkTDRN"
   },
   "outputs": [
    {
     "ename": "NameError",
     "evalue": "name 'confusion_matrix' is not defined",
     "output_type": "error",
     "traceback": [
      "\u001b[1;31m---------------------------------------------------------------------------\u001b[0m",
      "\u001b[1;31mNameError\u001b[0m                                 Traceback (most recent call last)",
      "Cell \u001b[1;32mIn[47], line 5\u001b[0m\n\u001b[0;32m      2\u001b[0m \u001b[38;5;28;01mimport\u001b[39;00m \u001b[38;5;21;01mseaborn\u001b[39;00m \u001b[38;5;28;01mas\u001b[39;00m \u001b[38;5;21;01msn\u001b[39;00m\n\u001b[0;32m      4\u001b[0m \u001b[38;5;66;03m# Buat DataFrame untuk confusion matrix\u001b[39;00m\n\u001b[1;32m----> 5\u001b[0m df_cm \u001b[38;5;241m=\u001b[39m pd\u001b[38;5;241m.\u001b[39mDataFrame(\u001b[43mconfusion_matrix\u001b[49m,\n\u001b[0;32m      6\u001b[0m                      index\u001b[38;5;241m=\u001b[39m[i \u001b[38;5;28;01mfor\u001b[39;00m i \u001b[38;5;129;01min\u001b[39;00m (\u001b[38;5;124m\"\u001b[39m\u001b[38;5;124mba\u001b[39m\u001b[38;5;124m\"\u001b[39m, \u001b[38;5;124m\"\u001b[39m\u001b[38;5;124mca\u001b[39m\u001b[38;5;124m\"\u001b[39m, \u001b[38;5;124m\"\u001b[39m\u001b[38;5;124mda\u001b[39m\u001b[38;5;124m\"\u001b[39m, \u001b[38;5;124m\"\u001b[39m\u001b[38;5;124mdha\u001b[39m\u001b[38;5;124m\"\u001b[39m, \u001b[38;5;124m\"\u001b[39m\u001b[38;5;124mga\u001b[39m\u001b[38;5;124m\"\u001b[39m, \u001b[38;5;124m\"\u001b[39m\u001b[38;5;124mha\u001b[39m\u001b[38;5;124m\"\u001b[39m, \u001b[38;5;124m\"\u001b[39m\u001b[38;5;124mja\u001b[39m\u001b[38;5;124m\"\u001b[39m, \u001b[38;5;124m\"\u001b[39m\u001b[38;5;124mka\u001b[39m\u001b[38;5;124m\"\u001b[39m, \u001b[38;5;124m\"\u001b[39m\u001b[38;5;124mla\u001b[39m\u001b[38;5;124m\"\u001b[39m, \u001b[38;5;124m\"\u001b[39m\u001b[38;5;124mma\u001b[39m\u001b[38;5;124m\"\u001b[39m,\n\u001b[0;32m      7\u001b[0m                                         \u001b[38;5;124m\"\u001b[39m\u001b[38;5;124mna\u001b[39m\u001b[38;5;124m\"\u001b[39m, \u001b[38;5;124m\"\u001b[39m\u001b[38;5;124mnga\u001b[39m\u001b[38;5;124m\"\u001b[39m, \u001b[38;5;124m\"\u001b[39m\u001b[38;5;124mnya\u001b[39m\u001b[38;5;124m\"\u001b[39m, \u001b[38;5;124m\"\u001b[39m\u001b[38;5;124mpa\u001b[39m\u001b[38;5;124m\"\u001b[39m, \u001b[38;5;124m\"\u001b[39m\u001b[38;5;124mra\u001b[39m\u001b[38;5;124m\"\u001b[39m, \u001b[38;5;124m\"\u001b[39m\u001b[38;5;124msa\u001b[39m\u001b[38;5;124m\"\u001b[39m, \u001b[38;5;124m\"\u001b[39m\u001b[38;5;124mta\u001b[39m\u001b[38;5;124m\"\u001b[39m, \u001b[38;5;124m\"\u001b[39m\u001b[38;5;124mtha\u001b[39m\u001b[38;5;124m\"\u001b[39m, \u001b[38;5;124m\"\u001b[39m\u001b[38;5;124mwa\u001b[39m\u001b[38;5;124m\"\u001b[39m, \u001b[38;5;124m\"\u001b[39m\u001b[38;5;124mya\u001b[39m\u001b[38;5;124m\"\u001b[39m)],\n\u001b[0;32m      8\u001b[0m \n\u001b[0;32m      9\u001b[0m                      columns\u001b[38;5;241m=\u001b[39m[i \u001b[38;5;28;01mfor\u001b[39;00m i \u001b[38;5;129;01min\u001b[39;00m (\u001b[38;5;124m\"\u001b[39m\u001b[38;5;124mba\u001b[39m\u001b[38;5;124m\"\u001b[39m, \u001b[38;5;124m\"\u001b[39m\u001b[38;5;124mca\u001b[39m\u001b[38;5;124m\"\u001b[39m, \u001b[38;5;124m\"\u001b[39m\u001b[38;5;124mda\u001b[39m\u001b[38;5;124m\"\u001b[39m, \u001b[38;5;124m\"\u001b[39m\u001b[38;5;124mdha\u001b[39m\u001b[38;5;124m\"\u001b[39m, \u001b[38;5;124m\"\u001b[39m\u001b[38;5;124mga\u001b[39m\u001b[38;5;124m\"\u001b[39m, \u001b[38;5;124m\"\u001b[39m\u001b[38;5;124mha\u001b[39m\u001b[38;5;124m\"\u001b[39m, \u001b[38;5;124m\"\u001b[39m\u001b[38;5;124mja\u001b[39m\u001b[38;5;124m\"\u001b[39m, \u001b[38;5;124m\"\u001b[39m\u001b[38;5;124mka\u001b[39m\u001b[38;5;124m\"\u001b[39m, \u001b[38;5;124m\"\u001b[39m\u001b[38;5;124mla\u001b[39m\u001b[38;5;124m\"\u001b[39m, \u001b[38;5;124m\"\u001b[39m\u001b[38;5;124mma\u001b[39m\u001b[38;5;124m\"\u001b[39m,\n\u001b[0;32m     10\u001b[0m                                           \u001b[38;5;124m\"\u001b[39m\u001b[38;5;124mna\u001b[39m\u001b[38;5;124m\"\u001b[39m, \u001b[38;5;124m\"\u001b[39m\u001b[38;5;124mnga\u001b[39m\u001b[38;5;124m\"\u001b[39m, \u001b[38;5;124m\"\u001b[39m\u001b[38;5;124mnya\u001b[39m\u001b[38;5;124m\"\u001b[39m, \u001b[38;5;124m\"\u001b[39m\u001b[38;5;124mpa\u001b[39m\u001b[38;5;124m\"\u001b[39m, \u001b[38;5;124m\"\u001b[39m\u001b[38;5;124mra\u001b[39m\u001b[38;5;124m\"\u001b[39m, \u001b[38;5;124m\"\u001b[39m\u001b[38;5;124msa\u001b[39m\u001b[38;5;124m\"\u001b[39m, \u001b[38;5;124m\"\u001b[39m\u001b[38;5;124mta\u001b[39m\u001b[38;5;124m\"\u001b[39m, \u001b[38;5;124m\"\u001b[39m\u001b[38;5;124mtha\u001b[39m\u001b[38;5;124m\"\u001b[39m, \u001b[38;5;124m\"\u001b[39m\u001b[38;5;124mwa\u001b[39m\u001b[38;5;124m\"\u001b[39m, \u001b[38;5;124m\"\u001b[39m\u001b[38;5;124mya\u001b[39m\u001b[38;5;124m\"\u001b[39m)])\n\u001b[0;32m     11\u001b[0m \u001b[38;5;66;03m# Tampilkan heatmap\u001b[39;00m\n\u001b[0;32m     12\u001b[0m plt\u001b[38;5;241m.\u001b[39mfigure(figsize\u001b[38;5;241m=\u001b[39m(\u001b[38;5;241m15\u001b[39m, \u001b[38;5;241m15\u001b[39m))\n",
      "\u001b[1;31mNameError\u001b[0m: name 'confusion_matrix' is not defined"
     ]
    }
   ],
   "source": [
    "import pandas as pd\n",
    "import seaborn as sn\n",
    "\n",
    "# Buat DataFrame untuk confusion matrix\n",
    "df_cm = pd.DataFrame(confusion_matrix,\n",
    "                     index=[i for i in (\"ba\", \"ca\", \"da\", \"dha\", \"ga\", \"ha\", \"ja\", \"ka\", \"la\", \"ma\",\n",
    "                                        \"na\", \"nga\", \"nya\", \"pa\", \"ra\", \"sa\", \"ta\", \"tha\", \"wa\", \"ya\")],\n",
    "\n",
    "                     columns=[i for i in (\"ba\", \"ca\", \"da\", \"dha\", \"ga\", \"ha\", \"ja\", \"ka\", \"la\", \"ma\",\n",
    "                                          \"na\", \"nga\", \"nya\", \"pa\", \"ra\", \"sa\", \"ta\", \"tha\", \"wa\", \"ya\")])\n",
    "# Tampilkan heatmap\n",
    "plt.figure(figsize=(15, 15))\n",
    "sn.heatmap(df_cm, annot=True)"
   ]
  },
  {
   "cell_type": "code",
   "execution_count": null,
   "metadata": {},
   "outputs": [],
   "source": [
    "# from sklearn.preprocessing import label_binarize\n",
    "# from sklearn.metrics import roc_curve, auc, roc_auc_score\n",
    "# import numpy as np\n",
    "\n",
    "\n",
    "# # Make predictions\n",
    "# pred = model.predict(test_generator)\n",
    "\n",
    "# # Extract true labels from generator\n",
    "# true_labels = true_classes  \n",
    "\n",
    "# # One-hot encode true labels\n",
    "# true_labels_one_hot = label_binarize(true_labels, classes=np.arange(num_classes))\n",
    "\n",
    "# # Compute ROC curve and ROC AUC for each class\n",
    "# fpr = dict()\n",
    "# tpr = dict()\n",
    "# roc_auc = dict()\n",
    "# for i in range(num_classes):\n",
    "#     fpr[i], tpr[i], _ = roc_curve(true_labels_one_hot[:, i], pred[:, i])\n",
    "#     roc_auc[i] = auc(fpr[i], tpr[i])\n",
    "\n",
    "# # Compute micro-average ROC curve and ROC AUC score\n",
    "# fpr[\"micro\"], tpr[\"micro\"], _ = roc_curve(true_labels_one_hot.ravel(), pred.ravel())\n",
    "# roc_auc[\"micro\"] = auc(fpr[\"micro\"], tpr[\"micro\"])\n",
    "\n",
    "# colors = ['cornflowerblue', 'darkorange', 'forestgreen', 'red', 'purple', 'gray', 'black', 'pink',\n",
    "#           'cyan', 'magenta', 'yellow', 'orange', 'lime', 'blue', 'green', 'brown', 'indigo', 'violet', 'olive', 'teal']\n",
    "\n",
    "# # Plot the ROC curves for each class and the micro-average ROC curve\n",
    "# plt.figure(figsize=(8, 6))\n",
    "# lw = 2\n",
    "\n",
    "# plt.plot(fpr[\"micro\"], tpr[\"micro\"], lw=lw, label='micro-average ROC curve (AUC = {0:0.2f})'\n",
    "#                                                    ''.format(roc_auc[\"micro\"]))\n",
    "\n",
    "# for i, color in zip(range(num_classes), colors):  \n",
    "#     plt.plot(fpr[i], tpr[i], color=color, lw=lw,\n",
    "#              label='ROC curve of class {0} (AUC = {1:0.2f})'.format(i, roc_auc[i]))\n",
    "    \n",
    "# plt.plot([0, 1], [0, 1], color='gray', lw=lw, linestyle='--')\n",
    "# plt.xlim([0.0, 1.0])\n",
    "# plt.ylim([0.0, 1.05])\n",
    "# plt.xlabel('False Positive Rate', fontsize=14)\n",
    "# plt.ylabel('True Positive Rate', fontsize=14)\n",
    "# plt.title('Receiver Operating Characteristic (ROC) Curve', fontsize=16)\n",
    "# plt.legend(loc=\"lower right\", fontsize=12)\n",
    "# plt.show()"
   ]
  },
  {
   "cell_type": "markdown",
   "metadata": {},
   "source": [
    "# Try Test"
   ]
  },
  {
   "cell_type": "code",
   "execution_count": null,
   "metadata": {},
   "outputs": [],
   "source": [
    "# from keras.preprocessing import image\n",
    "# import numpy as np\n",
    "\n",
    "# # Muat model kembali dari variabel\n",
    "# loaded_model = load_model(saved_model_path)\n",
    "\n",
    "# # Load the grayscale image\n",
    "# # test_image_path1 = '../data/data_original/javaneseScript_byPhiard/prediction/ba17.png'\n",
    "# test_image_path1 = '../data/data_preprocessing/v0.3/data_split/test/ba/grayscale_ba116.pred3.b_aug_0_80.png'\n",
    "# img = image.load_img(test_image_path1, color_mode='grayscale', target_size=(128, 128))\n",
    "\n",
    "# # Convert the image to array\n",
    "# img_array = image.img_to_array(img)\n",
    "\n",
    "# # Expand the dimensions to match the input shape of the model\n",
    "# img_array = np.expand_dims(img_array, axis=0)\n",
    "\n",
    "# # Perform the prediction\n",
    "# predictions = model.predict(img_array)\n",
    "\n",
    "# # Get the predicted class index\n",
    "# predicted_class_index = np.argmax(predictions)\n",
    "# class_labels = list(train_generator.class_indices.keys())\n",
    "# predicted_class_name = class_labels[predicted_class_index]\n",
    "\n",
    "# # Print the result\n",
    "# print(\"Predicted class:\", predicted_class_name)"
   ]
  },
  {
   "cell_type": "code",
   "execution_count": null,
   "metadata": {
    "id": "g1gXV9Smwiij"
   },
   "outputs": [],
   "source": [
    "# # Muat model kembali dari variabel\n",
    "# loaded_model = load_model(saved_model_path)\n",
    "\n",
    "# # Menguji Model\n",
    "# test_image_path1 = '../data/data_original/javaneseScript_byPhiard/prediction/ba17.png'\n",
    "# img = image.load_img(test_image_path1, target_size=(64, 64))\n",
    "# img_array = image.img_to_array(img)\n",
    "# img_array = np.expand_dims(img_array, axis=0)\n",
    "# img_array /= 255.0\n",
    "\n",
    "# img = imread(test_image_path1)\n",
    "# plt.imshow(img)\n",
    "\n",
    "# # Perform the prediction\n",
    "# predictions = model.predict(img_array)\n",
    "# # predictions = loaded_model.predict(img_array)\n",
    "# predicted_class_index = np.argmax(predictions)\n",
    "# class_labels = list(train_generator.class_indices.keys())\n",
    "# predicted_class_name = class_labels[predicted_class_index]\n",
    "\n",
    "# # Print the result\n",
    "# print(\"Predicted class:\", predicted_class_name)"
   ]
  },
  {
   "cell_type": "code",
   "execution_count": null,
   "metadata": {
    "id": "ypgcwar5NUQo"
   },
   "outputs": [],
   "source": [
    "# # Menguji Model\n",
    "# test_image_path2 = '../data/databyPhiard_original/prediction/ba49.mine2.png'\n",
    "# img = image.load_img(test_image_path2, target_size=(150, 150))\n",
    "# img_array = image.img_to_array(img)\n",
    "# img_array = np.expand_dims(img_array, axis=0)\n",
    "# img_array /= 255.0\n",
    "\n",
    "# img = imread(test_image_path2)\n",
    "# plt.imshow(img)\n",
    "\n",
    "# # Perform the prediction\n",
    "# predictions = model.predict(img_array)\n",
    "# predicted_class_index = np.argmax(predictions)\n",
    "# class_labels = list(train_generator.class_indices.keys())\n",
    "# predicted_class_name = class_labels[predicted_class_index]\n",
    "\n",
    "# # Print the result\n",
    "# print(\"Predicted class:\", predicted_class_name)"
   ]
  },
  {
   "cell_type": "code",
   "execution_count": null,
   "metadata": {
    "id": "sGDStm9STzAw"
   },
   "outputs": [],
   "source": [
    "# # Menguji Model\n",
    "# test_image_path3 = '../data/databyPhiard_original/prediction/ca2.png'\n",
    "# img = image.load_img(test_image_path3, target_size=(150, 150))\n",
    "# img_array = image.img_to_array(img)\n",
    "# img_array = np.expand_dims(img_array, axis=0)\n",
    "# img_array /= 255.0\n",
    "\n",
    "# img = imread(test_image_path3)\n",
    "# plt.imshow(img)\n",
    "\n",
    "# # Perform the prediction\n",
    "# predictions = model.predict(img_array)\n",
    "# predicted_class_index = np.argmax(predictions)\n",
    "# class_labels = list(train_generator.class_indices.keys())\n",
    "# predicted_class_name = class_labels[predicted_class_index]\n",
    "\n",
    "# # Print the result\n",
    "# print(\"Predicted class:\", predicted_class_name)"
   ]
  },
  {
   "cell_type": "code",
   "execution_count": null,
   "metadata": {
    "id": "mpnMnSwu0bVk"
   },
   "outputs": [],
   "source": [
    "# # Menguji Model\n",
    "# test_image_path4 = '../data/databyPhiard_original/prediction/da5.png'\n",
    "# img = image.load_img(test_image_path4, target_size=(150, 150))\n",
    "# img_array = image.img_to_array(img)\n",
    "# img_array = np.expand_dims(img_array, axis=0)\n",
    "# img_array /= 255.0\n",
    "\n",
    "# img = imread(test_image_path4)\n",
    "# plt.imshow(img)\n",
    "\n",
    "# # Perform the prediction\n",
    "# predictions = model.predict(img_array)\n",
    "# predicted_class_index = np.argmax(predictions)\n",
    "# class_labels = list(train_generator.class_indices.keys())\n",
    "# predicted_class_name = class_labels[predicted_class_index]\n",
    "\n",
    "# # Print the result\n",
    "# print(\"Predicted class:\", predicted_class_name)"
   ]
  },
  {
   "cell_type": "code",
   "execution_count": null,
   "metadata": {
    "id": "fHpe7eSe0mq2"
   },
   "outputs": [],
   "source": [
    "# # Menguji Model\n",
    "# test_image_path5 = '../data/databyPhiard_original/prediction/dha11.png'\n",
    "# img = image.load_img(test_image_path5, target_size=(150, 150))\n",
    "# img_array = image.img_to_array(img)\n",
    "# img_array = np.expand_dims(img_array, axis=0)\n",
    "# img_array /= 255.0\n",
    "\n",
    "# img = imread(test_image_path5)\n",
    "# plt.imshow(img)\n",
    "\n",
    "# # Perform the prediction\n",
    "# predictions = model.predict(img_array)\n",
    "# predicted_class_index = np.argmax(predictions)\n",
    "# class_labels = list(train_generator.class_indices.keys())\n",
    "# predicted_class_name = class_labels[predicted_class_index]\n",
    "\n",
    "# # Print the result\n",
    "# print(\"Predicted class:\", predicted_class_name)"
   ]
  },
  {
   "cell_type": "code",
   "execution_count": null,
   "metadata": {
    "id": "GhKIubrh2G8Y"
   },
   "outputs": [],
   "source": [
    "# # Menguji Model\n",
    "# test_image_path6 = '../data/databyPhiard_original/prediction/ga16.png'\n",
    "# img = image.load_img(test_image_path6, target_size=(150, 150))\n",
    "# img_array = image.img_to_array(img)\n",
    "# img_array = np.expand_dims(img_array, axis=0)\n",
    "# img_array /= 255.0\n",
    "\n",
    "# img = imread(test_image_path6)\n",
    "# plt.imshow(img)\n",
    "\n",
    "# # Perform the prediction\n",
    "# predictions = model.predict(img_array)\n",
    "# predicted_class_index = np.argmax(predictions)\n",
    "# class_labels = list(train_generator.class_indices.keys())\n",
    "# predicted_class_name = class_labels[predicted_class_index]\n",
    "\n",
    "# # Print the result\n",
    "# print(\"Predicted class:\", predicted_class_name)"
   ]
  },
  {
   "cell_type": "code",
   "execution_count": null,
   "metadata": {
    "id": "UBHQ1s4O3y8D"
   },
   "outputs": [],
   "source": [
    "# # Menguji Model\n",
    "# test_image_path7 = '../data/databyPhiard_original/prediction/ha0.png'\n",
    "# img = image.load_img(test_image_path7, target_size=(150, 150))\n",
    "# img_array = image.img_to_array(img)\n",
    "# img_array = np.expand_dims(img_array, axis=0)\n",
    "# img_array /= 255.0\n",
    "\n",
    "# img = imread(test_image_path7)\n",
    "# plt.imshow(img)\n",
    "\n",
    "# # Perform the prediction\n",
    "# predictions = model.predict(img_array)\n",
    "# predicted_class_index = np.argmax(predictions)\n",
    "# class_labels = list(train_generator.class_indices.keys())\n",
    "# predicted_class_name = class_labels[predicted_class_index]\n",
    "\n",
    "# # Print the result\n",
    "# print(\"Predicted class:\", predicted_class_name)"
   ]
  },
  {
   "cell_type": "code",
   "execution_count": null,
   "metadata": {
    "id": "H-7YZ8gA4A3n"
   },
   "outputs": [],
   "source": [
    "# # Menguji Model\n",
    "# test_image_path8 = '../data/databyPhiard_original/prediction/ja12.png'\n",
    "# img = image.load_img(test_image_path8, target_size=(150, 150))\n",
    "# img_array = image.img_to_array(img)\n",
    "# img_array = np.expand_dims(img_array, axis=0)\n",
    "# img_array /= 255.0\n",
    "\n",
    "# img = imread(test_image_path8)\n",
    "# plt.imshow(img)\n",
    "\n",
    "# # Perform the prediction\n",
    "# predictions = model.predict(img_array)\n",
    "# predicted_class_index = np.argmax(predictions)\n",
    "# class_labels = list(train_generator.class_indices.keys())\n",
    "# predicted_class_name = class_labels[predicted_class_index]\n",
    "\n",
    "# # Print the result\n",
    "# print(\"Predicted class:\", predicted_class_name)"
   ]
  },
  {
   "cell_type": "code",
   "execution_count": null,
   "metadata": {
    "id": "HuDNDVmw4ODw"
   },
   "outputs": [],
   "source": [
    "# # Menguji Model\n",
    "# test_image_path9 = '../data/databyPhiard_original/prediction/ka4.png'\n",
    "# img = image.load_img(test_image_path9, target_size=(150, 150))\n",
    "# img_array = image.img_to_array(img)\n",
    "# img_array = np.expand_dims(img_array, axis=0)\n",
    "# img_array /= 255.0\n",
    "\n",
    "# img = imread(test_image_path9)\n",
    "# plt.imshow(img)\n",
    "\n",
    "# # Perform the prediction\n",
    "# predictions = model.predict(img_array)\n",
    "# predicted_class_index = np.argmax(predictions)\n",
    "# class_labels = list(train_generator.class_indices.keys())\n",
    "# predicted_class_name = class_labels[predicted_class_index]\n",
    "\n",
    "# # Print the result\n",
    "# print(\"Predicted class:\", predicted_class_name)"
   ]
  },
  {
   "cell_type": "code",
   "execution_count": null,
   "metadata": {
    "id": "6bCuWl1k4WpV"
   },
   "outputs": [],
   "source": [
    "# # Menguji Model\n",
    "# test_image_path10 = '../data/databyPhiard_original/prediction/la9.png'\n",
    "# img = image.load_img(test_image_path10, target_size=(150, 150))\n",
    "# img_array = image.img_to_array(img)\n",
    "# img_array = np.expand_dims(img_array, axis=0)\n",
    "# img_array /= 255.0\n",
    "\n",
    "# img = imread(test_image_path10)\n",
    "# plt.imshow(img)\n",
    "\n",
    "# # Perform the prediction\n",
    "# predictions = model.predict(img_array)\n",
    "# predicted_class_index = np.argmax(predictions)\n",
    "# class_labels = list(train_generator.class_indices.keys())\n",
    "# predicted_class_name = class_labels[predicted_class_index]\n",
    "\n",
    "# # Print the result\n",
    "# print(\"Predicted class:\", predicted_class_name)"
   ]
  },
  {
   "cell_type": "code",
   "execution_count": null,
   "metadata": {
    "id": "c1Z3NyR34m2x"
   },
   "outputs": [],
   "source": [
    "# # Menguji Model\n",
    "# test_image_path11 = '../data/databyPhiard_original/prediction/ma.0.jpg'\n",
    "# img = image.load_img(test_image_path11, target_size=(150, 150))\n",
    "# img_array = image.img_to_array(img)\n",
    "# img_array = np.expand_dims(img_array, axis=0)\n",
    "# img_array /= 255.0\n",
    "\n",
    "# img = imread(test_image_path11)\n",
    "# plt.imshow(img)\n",
    "\n",
    "# # Perform the prediction\n",
    "# predictions = model.predict(img_array)\n",
    "# predicted_class_index = np.argmax(predictions)\n",
    "# class_labels = list(train_generator.class_indices.keys())\n",
    "# predicted_class_name = class_labels[predicted_class_index]\n",
    "\n",
    "# # Print the result\n",
    "# print(\"Predicted class:\", predicted_class_name)"
   ]
  },
  {
   "cell_type": "code",
   "execution_count": null,
   "metadata": {
    "id": "q-dQA6XH4wRB"
   },
   "outputs": [],
   "source": [
    "# # Menguji Model\n",
    "# test_image_path12 = '../data/databyPhiard_original/prediction/ma.1.jpg'\n",
    "# img = image.load_img(test_image_path12, target_size=(150, 150))\n",
    "# img_array = image.img_to_array(img)\n",
    "# img_array = np.expand_dims(img_array, axis=0)\n",
    "# img_array /= 255.0\n",
    "\n",
    "# img = imread(test_image_path12)\n",
    "# plt.imshow(img)\n",
    "\n",
    "# # Perform the prediction\n",
    "# predictions = model.predict(img_array)\n",
    "# predicted_class_index = np.argmax(predictions)\n",
    "# class_labels = list(train_generator.class_indices.keys())\n",
    "# predicted_class_name = class_labels[predicted_class_index]\n",
    "\n",
    "# # Print the result\n",
    "# print(\"Predicted class:\", predicted_class_name)"
   ]
  },
  {
   "cell_type": "code",
   "execution_count": null,
   "metadata": {
    "id": "Cxdo2m3V49Fq"
   },
   "outputs": [],
   "source": [
    "# # Menguji Model\n",
    "# test_image_path13 = '../data/databyPhiard_original/prediction/ma15.png'\n",
    "# img = image.load_img(test_image_path13, target_size=(150, 150))\n",
    "# img_array = image.img_to_array(img)\n",
    "# img_array = np.expand_dims(img_array, axis=0)\n",
    "# img_array /= 255.0\n",
    "\n",
    "# img = imread(test_image_path13)\n",
    "# plt.imshow(img)\n",
    "\n",
    "# # Perform the prediction\n",
    "# predictions = model.predict(img_array)\n",
    "# predicted_class_index = np.argmax(predictions)\n",
    "# class_labels = list(train_generator.class_indices.keys())\n",
    "# predicted_class_name = class_labels[predicted_class_index]\n",
    "\n",
    "# # Print the result\n",
    "# print(\"Predicted class:\", predicted_class_name)"
   ]
  },
  {
   "cell_type": "code",
   "execution_count": null,
   "metadata": {
    "id": "GMdJy8sz5GWr"
   },
   "outputs": [],
   "source": [
    "# # Menguji Model\n",
    "# test_image_path14 = '../data/databyPhiard_original/prediction/na1.png'\n",
    "# img = image.load_img(test_image_path14, target_size=(150, 150))\n",
    "# img_array = image.img_to_array(img)\n",
    "# img_array = np.expand_dims(img_array, axis=0)\n",
    "# img_array /= 255.0\n",
    "\n",
    "# img = imread(test_image_path14)\n",
    "# plt.imshow(img)\n",
    "\n",
    "# # Perform the prediction\n",
    "# predictions = model.predict(img_array)\n",
    "# predicted_class_index = np.argmax(predictions)\n",
    "# class_labels = list(train_generator.class_indices.keys())\n",
    "# predicted_class_name = class_labels[predicted_class_index]\n",
    "\n",
    "# # Print the result\n",
    "# print(\"Predicted class:\", predicted_class_name)"
   ]
  },
  {
   "cell_type": "code",
   "execution_count": null,
   "metadata": {
    "id": "quqSHie75eVT"
   },
   "outputs": [],
   "source": [
    "# # Menguji Model\n",
    "# test_image_path15 = '../data/databyPhiard_original/prediction/nga19.png'\n",
    "# img = image.load_img(test_image_path15, target_size=(150, 150))\n",
    "# img_array = image.img_to_array(img)\n",
    "# img_array = np.expand_dims(img_array, axis=0)\n",
    "# img_array /= 255.0\n",
    "\n",
    "# img = imread(test_image_path15)\n",
    "# plt.imshow(img)\n",
    "\n",
    "# # Perform the prediction\n",
    "# predictions = model.predict(img_array)\n",
    "# predicted_class_index = np.argmax(predictions)\n",
    "# class_labels = list(train_generator.class_indices.keys())\n",
    "# predicted_class_name = class_labels[predicted_class_index]\n",
    "\n",
    "# # Print the result\n",
    "# print(\"Predicted class:\", predicted_class_name)"
   ]
  },
  {
   "cell_type": "code",
   "execution_count": null,
   "metadata": {
    "id": "eZmpNQu15j0i"
   },
   "outputs": [],
   "source": [
    "# # Menguji Model\n",
    "# test_image_path16 = '../data/databyPhiard_original/prediction/nga220.pred.png'\n",
    "# img = image.load_img(test_image_path16, target_size=(150, 150))\n",
    "# img_array = image.img_to_array(img)\n",
    "# img_array = np.expand_dims(img_array, axis=0)\n",
    "# img_array /= 255.0\n",
    "\n",
    "# img = imread(test_image_path16)\n",
    "# plt.imshow(img)\n",
    "\n",
    "# # Perform the prediction\n",
    "# predictions = model.predict(img_array)\n",
    "# predicted_class_index = np.argmax(predictions)\n",
    "# class_labels = list(train_generator.class_indices.keys())\n",
    "# predicted_class_name = class_labels[predicted_class_index]\n",
    "\n",
    "# # Print the result\n",
    "# print(\"Predicted class:\", predicted_class_name)"
   ]
  },
  {
   "cell_type": "code",
   "execution_count": null,
   "metadata": {
    "id": "xahjGy_J5rIo"
   },
   "outputs": [],
   "source": [
    "# # Menguji Model\n",
    "# test_image_path17 = '../data/databyPhiard_original/prediction/nya14.png'\n",
    "# img = image.load_img(test_image_path17, target_size=(150, 150))\n",
    "# img_array = image.img_to_array(img)\n",
    "# img_array = np.expand_dims(img_array, axis=0)\n",
    "# img_array /= 255.0\n",
    "\n",
    "# img = imread(test_image_path17)\n",
    "# plt.imshow(img)\n",
    "\n",
    "# # Perform the prediction\n",
    "# predictions = model.predict(img_array)\n",
    "# predicted_class_index = np.argmax(predictions)\n",
    "# class_labels = list(train_generator.class_indices.keys())\n",
    "# predicted_class_name = class_labels[predicted_class_index]\n",
    "\n",
    "# # Print the result\n",
    "# print(\"Predicted class:\", predicted_class_name)"
   ]
  },
  {
   "cell_type": "code",
   "execution_count": null,
   "metadata": {
    "id": "VKEOuiN95yyG"
   },
   "outputs": [],
   "source": [
    "# # Menguji Model\n",
    "# test_image_path18 = '../data/databyPhiard_original/prediction/pa10.png'\n",
    "# img = image.load_img(test_image_path18, target_size=(150, 150))\n",
    "# img_array = image.img_to_array(img)\n",
    "# img_array = np.expand_dims(img_array, axis=0)\n",
    "# img_array /= 255.0\n",
    "\n",
    "# img = imread(test_image_path18)\n",
    "# plt.imshow(img)\n",
    "\n",
    "# # Perform the prediction\n",
    "# predictions = model.predict(img_array)\n",
    "# predicted_class_index = np.argmax(predictions)\n",
    "# class_labels = list(train_generator.class_indices.keys())\n",
    "# predicted_class_name = class_labels[predicted_class_index]\n",
    "\n",
    "# # Print the result\n",
    "# print(\"Predicted class:\", predicted_class_name)"
   ]
  },
  {
   "cell_type": "code",
   "execution_count": null,
   "metadata": {
    "id": "WpoShXpj56rD"
   },
   "outputs": [],
   "source": [
    "# # Menguji Model\n",
    "# test_image_path19 = '../data/databyPhiard_original/prediction/ra164.pred.png'\n",
    "# img = image.load_img(test_image_path19, target_size=(150, 150))\n",
    "# img_array = image.img_to_array(img)\n",
    "# img_array = np.expand_dims(img_array, axis=0)\n",
    "# img_array /= 255.0\n",
    "\n",
    "# img = imread(test_image_path19)\n",
    "# plt.imshow(img)\n",
    "\n",
    "# # Perform the prediction\n",
    "# predictions = model.predict(img_array)\n",
    "# predicted_class_index = np.argmax(predictions)\n",
    "# class_labels = list(train_generator.class_indices.keys())\n",
    "# predicted_class_name = class_labels[predicted_class_index]\n",
    "\n",
    "# # Print the result\n",
    "# print(\"Predicted class:\", predicted_class_name)"
   ]
  },
  {
   "cell_type": "code",
   "execution_count": null,
   "metadata": {
    "id": "cfP7uyAV6FoZ"
   },
   "outputs": [],
   "source": [
    "# # Menguji Model\n",
    "# test_image_path20 = '../data/databyPhiard_original/prediction/ra3.png'\n",
    "# img = image.load_img(test_image_path20, target_size=(150, 150))\n",
    "# img_array = image.img_to_array(img)\n",
    "# img_array = np.expand_dims(img_array, axis=0)\n",
    "# img_array /= 255.0\n",
    "\n",
    "# img = imread(test_image_path20)\n",
    "# plt.imshow(img)\n",
    "\n",
    "# # Perform the prediction\n",
    "# predictions = model.predict(img_array)\n",
    "# predicted_class_index = np.argmax(predictions)\n",
    "# class_labels = list(train_generator.class_indices.keys())\n",
    "# predicted_class_name = class_labels[predicted_class_index]\n",
    "\n",
    "# # Print the result\n",
    "# print(\"Predicted class:\", predicted_class_name)"
   ]
  },
  {
   "cell_type": "code",
   "execution_count": null,
   "metadata": {
    "id": "-LltVPlt6O9p"
   },
   "outputs": [],
   "source": [
    "# # Menguji Model\n",
    "# test_image_path21 = '../data/databyPhiard_original/prediction/sa7.png'\n",
    "# img = image.load_img(test_image_path21, target_size=(150, 150))\n",
    "# img_array = image.img_to_array(img)\n",
    "# img_array = np.expand_dims(img_array, axis=0)\n",
    "# img_array /= 255.0\n",
    "\n",
    "# img = imread(test_image_path21)\n",
    "# plt.imshow(img)\n",
    "\n",
    "# # Perform the prediction\n",
    "# predictions = model.predict(img_array)\n",
    "# predicted_class_index = np.argmax(predictions)\n",
    "# class_labels = list(train_generator.class_indices.keys())\n",
    "# predicted_class_name = class_labels[predicted_class_index]\n",
    "\n",
    "# # Print the result\n",
    "# print(\"Predicted class:\", predicted_class_name)"
   ]
  },
  {
   "cell_type": "code",
   "execution_count": null,
   "metadata": {
    "id": "UYI5ipbv6aG-"
   },
   "outputs": [],
   "source": [
    "# # Menguji Model\n",
    "# test_image_path22 = '../data/databyPhiard_original/prediction/ta6.png'\n",
    "# img = image.load_img(test_image_path22, target_size=(150, 150))\n",
    "# img_array = image.img_to_array(img)\n",
    "# img_array = np.expand_dims(img_array, axis=0)\n",
    "# img_array /= 255.0\n",
    "\n",
    "# img = imread(test_image_path22)\n",
    "# plt.imshow(img)\n",
    "\n",
    "# # Perform the prediction\n",
    "# predictions = model.predict(img_array)\n",
    "# predicted_class_index = np.argmax(predictions)\n",
    "# class_labels = list(train_generator.class_indices.keys())\n",
    "# predicted_class_name = class_labels[predicted_class_index]\n",
    "\n",
    "# # Print the result\n",
    "# print(\"Predicted class:\", predicted_class_name)"
   ]
  },
  {
   "cell_type": "code",
   "execution_count": null,
   "metadata": {
    "id": "_CNJB2gq6ljo"
   },
   "outputs": [],
   "source": [
    "# # Menguji Model\n",
    "# test_image_path23 = '../data/databyPhiard_original/prediction/tha18.png'\n",
    "# img = image.load_img(test_image_path23, target_size=(150, 150))\n",
    "# img_array = image.img_to_array(img)\n",
    "# img_array = np.expand_dims(img_array, axis=0)\n",
    "# img_array /= 255.0\n",
    "\n",
    "# img = imread(test_image_path23)\n",
    "# plt.imshow(img)\n",
    "\n",
    "# # Perform the prediction\n",
    "# predictions = model.predict(img_array)\n",
    "# predicted_class_index = np.argmax(predictions)\n",
    "# class_labels = list(train_generator.class_indices.keys())\n",
    "# predicted_class_name = class_labels[predicted_class_index]\n",
    "\n",
    "# # Print the result\n",
    "# print(\"Predicted class:\", predicted_class_name)"
   ]
  },
  {
   "cell_type": "code",
   "execution_count": null,
   "metadata": {
    "id": "-hnrPRy06xYd"
   },
   "outputs": [],
   "source": [
    "# # Menguji Model\n",
    "# test_image_path24 = '../data/databyPhiard_original/prediction/wa8.png'\n",
    "# img = image.load_img(test_image_path24, target_size=(150, 150))\n",
    "# img_array = image.img_to_array(img)\n",
    "# img_array = np.expand_dims(img_array, axis=0)\n",
    "# img_array /= 255.0\n",
    "\n",
    "# img = imread(test_image_path24)\n",
    "# plt.imshow(img)\n",
    "\n",
    "# # Perform the prediction\n",
    "# predictions = model.predict(img_array)\n",
    "# predicted_class_index = np.argmax(predictions)\n",
    "# class_labels = list(train_generator.class_indices.keys())\n",
    "# predicted_class_name = class_labels[predicted_class_index]\n",
    "\n",
    "# # Print the result\n",
    "# print(\"Predicted class:\", predicted_class_name)"
   ]
  },
  {
   "cell_type": "code",
   "execution_count": null,
   "metadata": {
    "id": "gPHeTGID6248"
   },
   "outputs": [],
   "source": [
    "# # Menguji Model\n",
    "# test_image_path25 = '../data/databyPhiard_original/prediction/ya13.png'\n",
    "# img = image.load_img(test_image_path25, target_size=(150, 150))\n",
    "# img_array = image.img_to_array(img)\n",
    "# img_array = np.expand_dims(img_array, axis=0)\n",
    "# img_array /= 255.0\n",
    "\n",
    "# img = imread(test_image_path25)\n",
    "# plt.imshow(img)\n",
    "\n",
    "# # Perform the prediction\n",
    "# predictions = model.predict(img_array)\n",
    "# predicted_class_index = np.argmax(predictions)\n",
    "# class_labels = list(train_generator.class_indices.keys())\n",
    "# predicted_class_name = class_labels[predicted_class_index]\n",
    "\n",
    "# # Print the result\n",
    "# print(\"Predicted class:\", predicted_class_name)"
   ]
  },
  {
   "cell_type": "code",
   "execution_count": null,
   "metadata": {},
   "outputs": [],
   "source": [
    "# # Menguji Model\n",
    "# test_image_path26 = '../data/databyPhiard_original/prediction/nya_01.png'\n",
    "# img = image.load_img(test_image_path26, target_size=(150, 150))\n",
    "# img_array = image.img_to_array(img)\n",
    "# img_array = np.expand_dims(img_array, axis=0)\n",
    "# img_array /= 255.0\n",
    "\n",
    "# img = imread(test_image_path26)\n",
    "# plt.imshow(img)\n",
    "\n",
    "# # Perform the prediction\n",
    "# predictions = model.predict(img_array)\n",
    "# predicted_class_index = np.argmax(predictions)\n",
    "# class_labels = list(train_generator.class_indices.keys())\n",
    "# predicted_class_name = class_labels[predicted_class_index]\n",
    "\n",
    "# # Print the result\n",
    "# print(\"Predicted class:\", predicted_class_name)"
   ]
  },
  {
   "cell_type": "code",
   "execution_count": null,
   "metadata": {},
   "outputs": [],
   "source": [
    "# # Menguji Model\n",
    "# test_image_path26 = '../data/databyPhiard_original/prediction/sa_01.png'\n",
    "# img = image.load_img(test_image_path26, target_size=(150, 150))\n",
    "# img_array = image.img_to_array(img)\n",
    "# img_array = np.expand_dims(img_array, axis=0)\n",
    "# img_array /= 255.0\n",
    "\n",
    "# img = imread(test_image_path26)\n",
    "# plt.imshow(img)\n",
    "\n",
    "# # Perform the prediction\n",
    "# predictions = model.predict(img_array)\n",
    "# predicted_class_index = np.argmax(predictions)\n",
    "# class_labels = list(train_generator.class_indices.keys())\n",
    "# predicted_class_name = class_labels[predicted_class_index]\n",
    "\n",
    "# # Print the result\n",
    "# print(\"Predicted class:\", predicted_class_name)"
   ]
  },
  {
   "cell_type": "code",
   "execution_count": null,
   "metadata": {},
   "outputs": [],
   "source": [
    "# # Menguji Model\n",
    "# test_image_path26 = '../data/databyPhiard_original/prediction/ha201.png'\n",
    "# img = image.load_img(test_image_path26, target_size=(150, 150))\n",
    "# img_array = image.img_to_array(img)\n",
    "# img_array = np.expand_dims(img_array, axis=0)\n",
    "# img_array /= 255.0\n",
    "\n",
    "# img = imread(test_image_path26)\n",
    "# plt.imshow(img)\n",
    "\n",
    "# # Perform the prediction\n",
    "# predictions = model.predict(img_array)\n",
    "# predicted_class_index = np.argmax(predictions)\n",
    "# class_labels = list(train_generator.class_indices.keys())\n",
    "# predicted_class_name = class_labels[predicted_class_index]\n",
    "\n",
    "# # Print the result\n",
    "# print(\"Predicted class:\", predicted_class_name)"
   ]
  }
 ],
 "metadata": {
  "colab": {
   "provenance": []
  },
  "kernelspec": {
   "display_name": "Python 3 (ipykernel)",
   "language": "python",
   "name": "python3"
  },
  "language_info": {
   "codemirror_mode": {
    "name": "ipython",
    "version": 3
   },
   "file_extension": ".py",
   "mimetype": "text/x-python",
   "name": "python",
   "nbconvert_exporter": "python",
   "pygments_lexer": "ipython3",
   "version": "3.12.3"
  }
 },
 "nbformat": 4,
 "nbformat_minor": 4
}
