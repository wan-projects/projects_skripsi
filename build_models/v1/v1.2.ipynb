{
 "cells": [
  {
   "cell_type": "code",
   "execution_count": 2,
   "metadata": {},
   "outputs": [],
   "source": [
    "import os\n",
    "import shutil\n",
    "import tensorflow as tf\n",
    "from tensorflow.keras.models import Sequential\n",
    "from tensorflow.keras.layers import Conv2D, MaxPooling2D, Flatten, Dense, Dropout, BatchNormalization\n",
    "from tensorflow.keras.callbacks import LearningRateScheduler, EarlyStopping\n",
    "from tensorflow.keras.preprocessing.image import ImageDataGenerator\n",
    "from tensorflow.keras.preprocessing import image\n",
    "from tensorflow.keras.models import load_model\n",
    "from tensorflow.keras.optimizers import Adam\n",
    "from tensorflow.keras.regularizers import l2\n",
    "from tensorflow.keras import regularizers\n",
    "import numpy as np\n",
    "import seaborn as sns\n",
    "import matplotlib.pyplot as plt\n",
    "from matplotlib.image import imread\n",
    "import matplotlib.image as plt_image\n",
    "from sklearn.model_selection import train_test_split\n",
    "from sklearn.utils.class_weight import compute_sample_weight\n",
    "from sklearn.metrics import confusion_matrix, classification_report"
   ]
  },
  {
   "cell_type": "code",
   "execution_count": 31,
   "metadata": {},
   "outputs": [
    {
     "name": "stdout",
     "output_type": "stream",
     "text": [
      "\n",
      "Augmentasi Selesai!\n"
     ]
    }
   ],
   "source": [
    "# Path ke direktori dataset\n",
    "dataset_dir = '../data/javaneseScript_byPhiard/train'\n",
    "output_dir = '../data_pre/byPhiard_aug_v3'\n",
    "\n",
    "datagen = ImageDataGenerator(\n",
    "    rotation_range=18,\n",
    "    width_shift_range=0.1,\n",
    "    height_shift_range=0.1,\n",
    "    shear_range=0.1,\n",
    "    zoom_range=0.1,\n",
    "    fill_mode='nearest'\n",
    ")\n",
    "\n",
    "# Membuat folder baru untuk menyimpan hasil augmentasi\n",
    "if not os.path.exists(output_dir):\n",
    "    os.makedirs(output_dir)\n",
    "\n",
    "# Loop melalui setiap kelas dalam dataset\n",
    "for class_name in os.listdir(dataset_dir):\n",
    "    class_path = os.path.join(dataset_dir, class_name)\n",
    "\n",
    "    # Membuat folder baru untuk setiap kelas di dalam folder output\n",
    "    output_class_path = os.path.join(output_dir, class_name)\n",
    "    if not os.path.exists(output_class_path):\n",
    "        os.makedirs(output_class_path)\n",
    "\n",
    "    # Mendapatkan list file gambar di setiap kelas\n",
    "    image_files = [os.path.join(class_path, file) for file in os.listdir(class_path) if file.endswith(('jpg', 'jpeg', 'png'))]\n",
    "\n",
    "    # Loop melalui setiap file gambar dan augmentasi datanya\n",
    "    for img_path in image_files:\n",
    "        img = image.load_img(img_path, target_size=(100, 100))\n",
    "        x = image.img_to_array(img)\n",
    "        x = x.reshape((1,) + x.shape)\n",
    "\n",
    "        # Proses augmented images\n",
    "        i = 0\n",
    "        for batch in datagen.flow(x, batch_size=1, save_to_dir=output_class_path,\n",
    "                                  save_prefix=os.path.splitext(os.path.basename(img_path))[0] + '_aug', save_format='png'):\n",
    "            i += 1\n",
    "            if i >= 560:  \n",
    "                break\n",
    "        break\n",
    "            \n",
    "print(f\"\\nAugmentasi Selesai!\")"
   ]
  },
  {
   "cell_type": "code",
   "execution_count": 32,
   "metadata": {},
   "outputs": [
    {
     "name": "stdout",
     "output_type": "stream",
     "text": [
      "Kelas ba: 548 gambar\n",
      "Kelas ca: 541 gambar\n",
      "Kelas da: 538 gambar\n",
      "Kelas dha: 546 gambar\n",
      "Kelas ga: 544 gambar\n",
      "Kelas ha: 550 gambar\n",
      "Kelas ja: 538 gambar\n",
      "Kelas ka: 543 gambar\n",
      "Kelas la: 543 gambar\n",
      "Kelas ma: 543 gambar\n",
      "Kelas na: 542 gambar\n",
      "Kelas nga: 544 gambar\n",
      "Kelas nya: 545 gambar\n",
      "Kelas pa: 539 gambar\n",
      "Kelas ra: 547 gambar\n",
      "Kelas sa: 542 gambar\n",
      "Kelas ta: 550 gambar\n",
      "Kelas tha: 548 gambar\n",
      "Kelas wa: 538 gambar\n",
      "Kelas ya: 547 gambar\n"
     ]
    }
   ],
   "source": [
    "# Dictionary untuk menyimpan jumlah data di setiap kelas\n",
    "kelas_data_count = {}\n",
    "\n",
    "# Loop melalui setiap kelas di dalam folder output\n",
    "for class_name in os.listdir(output_dir):\n",
    "    class_path = os.path.join(output_dir, class_name)\n",
    "    \n",
    "    # Menghitung jumlah file gambar di setiap kelas\n",
    "    num_images = len([file for file in os.listdir(class_path) if file.endswith(('jpg', 'jpeg', 'png'))])\n",
    "    \n",
    "    # Menyimpan jumlah data di setiap kelas ke dalam dictionary\n",
    "    kelas_data_count[class_name] = num_images\n",
    "\n",
    "# Menampilkan jumlah data di setiap kelas\n",
    "for class_name, count in kelas_data_count.items():\n",
    "    print(f\"Kelas {class_name}: {count} gambar\")"
   ]
  },
  {
   "cell_type": "code",
   "execution_count": 33,
   "metadata": {},
   "outputs": [
    {
     "name": "stdout",
     "output_type": "stream",
     "text": [
      "Aksara ba jumlah: 550\n",
      "Aksara ca jumlah: 550\n",
      "Aksara da jumlah: 550\n",
      "Aksara dha jumlah: 550\n",
      "Aksara ga jumlah: 550\n",
      "Aksara ha jumlah: 550\n",
      "Aksara ja jumlah: 550\n",
      "Aksara ka jumlah: 550\n",
      "Aksara la jumlah: 550\n",
      "Aksara ma jumlah: 550\n",
      "Aksara na jumlah: 550\n",
      "Aksara nga jumlah: 550\n",
      "Aksara nya jumlah: 550\n",
      "Aksara pa jumlah: 550\n",
      "Aksara ra jumlah: 550\n",
      "Aksara sa jumlah: 550\n",
      "Aksara ta jumlah: 550\n",
      "Aksara tha jumlah: 550\n",
      "Aksara wa jumlah: 550\n",
      "Aksara ya jumlah: 550\n"
     ]
    }
   ],
   "source": [
    "import random\n",
    "import string\n",
    "\n",
    "# Path dataset\n",
    "data = output_dir\n",
    "\n",
    "# List kelas\n",
    "kelas_aksara = ['ba', 'ca', 'da', 'dha', 'ga', 'ha', 'ja', 'ka', 'la', 'ma', 'na', 'nga', 'nya', 'pa', 'ra', 'sa', 'ta', 'tha', 'wa', 'ya']\n",
    "\n",
    "# Target jumlah gambar per kelas\n",
    "target_jumlah = 550\n",
    "\n",
    "# Loop untuk setiap kelas\n",
    "for kelas in kelas_aksara:\n",
    "    # Path kelas\n",
    "    kelas_path = os.path.join(data, kelas)\n",
    "    \n",
    "    # Jumlah gambar saat ini\n",
    "    jumlah_gambar = len(os.listdir(kelas_path))\n",
    "    \n",
    "    # Selisih gambar yang perlu ditambahkan\n",
    "    selisih = target_jumlah - jumlah_gambar\n",
    "    \n",
    "    # Jika selisih positif, lakukan oversampling\n",
    "    if selisih > 0:\n",
    "        # Ambil sampel acak dari gambar yang sudah ada\n",
    "        gambar_oversampling = random.sample(os.listdir(kelas_path), selisih)\n",
    "        \n",
    "        # Copy gambar oversampling ke dalam kelas\n",
    "        for gambar in gambar_oversampling:\n",
    "            source_path = os.path.join(kelas_path, gambar)\n",
    "            \n",
    "            # Generate sufiks acak\n",
    "            sufiks_acak = ''.join(random.choices(string.ascii_letters + string.digits, k=8))\n",
    "            \n",
    "            # Tentukan path tujuan dengan menambahkan sufiks acak\n",
    "            target_path = os.path.join(kelas_path, f'{os.path.splitext(gambar)[0]}_{sufiks_acak}{os.path.splitext(gambar)[1]}')\n",
    "            \n",
    "            # Salin gambar ke target path\n",
    "            shutil.copy(source_path, target_path)\n",
    "\n",
    "# Cetak ulang jumlah gambar per kelas setelah penyamaan\n",
    "for kelas in kelas_aksara:\n",
    "    kelas_path = os.path.join(data, kelas)\n",
    "    jumlah_gambar = len(os.listdir(kelas_path))\n",
    "    print(f'Aksara {kelas} jumlah: {jumlah_gambar}')"
   ]
  },
  {
   "cell_type": "code",
   "execution_count": 34,
   "metadata": {},
   "outputs": [],
   "source": [
    "import shutil\n",
    "from sklearn.model_selection import train_test_split\n",
    "\n",
    "# Path ke direktori utama yang berisi sub-direktori untuk masing-masing kelas\n",
    "main_data_dir = output_dir\n",
    "\n",
    "# Path ke direktori output untuk train dan test set\n",
    "path_dir = '../data_split/javaneseScript_v6/'\n",
    "\n",
    "# Membuat sub-direktori train dan test\n",
    "train_dir = os.path.join(path_dir, 'train')\n",
    "test_dir = os.path.join(path_dir, 'test')\n",
    "\n",
    "os.makedirs(train_dir, exist_ok=True)\n",
    "os.makedirs(test_dir, exist_ok=True)\n",
    "\n",
    "# Loop melalui masing-masing kelas (diasumsikan ada 20 kelas)\n",
    "for class_name in os.listdir(main_data_dir):\n",
    "    class_path = os.path.join(main_data_dir, class_name)\n",
    "    \n",
    "    # Mendapatkan list file untuk kelas tertentu\n",
    "    files = os.listdir(class_path)\n",
    "    \n",
    "    # Membagi data menjadi train dan test set\n",
    "    train_files, test_files = train_test_split(files, test_size=0.3, random_state=42)\n",
    "    \n",
    "    # Membuat sub-direktori untuk masing-masing kelas di train dan test set\n",
    "    train_class_dir = os.path.join(train_dir, class_name)\n",
    "    test_class_dir = os.path.join(test_dir, class_name)\n",
    "    \n",
    "    os.makedirs(train_class_dir, exist_ok=True)\n",
    "    os.makedirs(test_class_dir, exist_ok=True)\n",
    "    \n",
    "    # Menyalin file ke dalam masing-masing sub-direktori\n",
    "    for file in train_files:\n",
    "        shutil.copy(os.path.join(class_path, file), os.path.join(train_class_dir, file))\n",
    "    \n",
    "    for file in test_files:\n",
    "        shutil.copy(os.path.join(class_path, file), os.path.join(test_class_dir, file))\n"
   ]
  },
  {
   "cell_type": "code",
   "execution_count": 76,
   "metadata": {
    "id": "OuMZmoyHrusB",
    "tags": []
   },
   "outputs": [],
   "source": [
    "# Tentukan konstanta\n",
    "IMAGE_SIZE = (64, 64)\n",
    "BATCH_SIZE = 32\n",
    "NUM_CLASSES = 20\n",
    "Class = ['ba', 'ca', 'da', 'dha', 'ga', 'ha', 'ja', 'ka', 'la', 'ma', 'na', 'nga', 'nya', 'pa', 'ra', 'sa', 'ta', 'tha', 'wa', 'ya']\n",
    "\n",
    "train_dir = \"../data_split/javaneseScript_v6/train\" \n",
    "test_dir = \"../data_split/javaneseScript_v6/test\""
   ]
  },
  {
   "cell_type": "code",
   "execution_count": 77,
   "metadata": {},
   "outputs": [
    {
     "data": {
      "image/png": "[encoded data removed]",
      "text/plain": [
       "<Figure size 500x500 with 20 Axes>"
      ]
     },
     "metadata": {},
     "output_type": "display_data"
    }
   ],
   "source": [
    "import os\n",
    "import numpy as np\n",
    "import matplotlib.pyplot as plt\n",
    "import matplotlib.image as plt_image\n",
    "\n",
    "def show_random_images(directory, num_images_per_class=1):\n",
    "    num_classes = len(os.listdir(directory))\n",
    "    num_images = num_images_per_class * num_classes\n",
    "    plt.figure(figsize=(5, 5))\n",
    "    \n",
    "    # Iterate over each class directory\n",
    "    class_directories = os.listdir(directory)\n",
    "    for i, class_dir in enumerate(class_directories):\n",
    "        class_path = os.path.join(directory, class_dir)\n",
    "        class_images = [os.path.join(class_path, name) for name in os.listdir(class_path)]\n",
    "        \n",
    "        # Randomly select num_images_per_class images from the current class\n",
    "        selected_images = np.random.choice(class_images, num_images_per_class, replace=False)\n",
    "        \n",
    "        # Display the selected images\n",
    "        for j, image_path in enumerate(selected_images):\n",
    "            plt.subplot(4, 5, i*num_images_per_class + j + 1)\n",
    "            plt.axis('off')\n",
    "            plt.title(class_dir)\n",
    "            img = plt_image.imread(image_path)\n",
    "            plt.imshow(img)\n",
    "\n",
    "# Panggil fungsi untuk menampilkan gambar\n",
    "show_random_images(train_dir, num_images_per_class=1)\n",
    "plt.show()\n"
   ]
  },
  {
   "cell_type": "code",
   "execution_count": 78,
   "metadata": {
    "id": "wvU5B3_d8Hm8",
    "tags": []
   },
   "outputs": [],
   "source": [
    "def count_files(dir):\n",
    "    arr = []\n",
    "    for root, dirs, files in os.walk(dir):\n",
    "        count = 0\n",
    "        for name in files:\n",
    "            if name.endswith(\".png\"):\n",
    "              count = count + 1\n",
    "        if count > 0:\n",
    "          arr.append(count)\n",
    "    return arr\n",
    "\n",
    "def get_all_char_names(dir):\n",
    "    arr = []\n",
    "    for root, dirs, files in os.walk(dir):\n",
    "        # print(dirs)\n",
    "        arr.append(dirs)\n",
    "        break\n",
    "    return arr"
   ]
  },
  {
   "cell_type": "code",
   "execution_count": 79,
   "metadata": {
    "colab": {
     "base_uri": "https://localhost:8080/",
     "height": 379
    },
    "id": "2herlad48N01",
    "outputId": "f884cefa-4f20-4557-9001-64b5db8a57c5",
    "tags": []
   },
   "outputs": [
    {
     "name": "stdout",
     "output_type": "stream",
     "text": [
      "20\n",
      "[['ba', 'ca', 'da', 'dha', 'ga', 'ha', 'ja', 'ka', 'la', 'ma', 'na', 'nga', 'nya', 'pa', 'ra', 'sa', 'ta', 'tha', 'wa', 'ya']]\n"
     ]
    },
    {
     "data": {
      "image/png": "[encoded data removed]",
      "text/plain": [
       "<Figure size 640x480 with 1 Axes>"
      ]
     },
     "metadata": {},
     "output_type": "display_data"
    }
   ],
   "source": [
    "image_count = count_files(train_dir)\n",
    "print(len(image_count))\n",
    "chars = get_all_char_names(train_dir)\n",
    "print(chars)\n",
    "\n",
    "fig = plt.figure()\n",
    "ax = fig.add_axes([0,0,2,1])\n",
    "ax.bar(chars[0], image_count)\n",
    "plt.title(\"Training class distribution\")\n",
    "plt.show()"
   ]
  },
  {
   "cell_type": "code",
   "execution_count": 80,
   "metadata": {
    "colab": {
     "base_uri": "https://localhost:8080/"
    },
    "id": "Cc6a41YTGe_O",
    "outputId": "f9f422cb-9c34-4ebd-d5aa-3f5a190e5f9c",
    "tags": []
   },
   "outputs": [
    {
     "name": "stdout",
     "output_type": "stream",
     "text": [
      "Balanced Data !\n"
     ]
    }
   ],
   "source": [
    "# Menghitung jumlah gambar per kelas\n",
    "file_list = os.listdir(train_dir)\n",
    "\n",
    "jumlah_gambar_per_kelas = []\n",
    "\n",
    "for kelas in file_list:\n",
    "    kelas_path = os.path.join(train_dir, kelas)\n",
    "    jumlah_gambar = len(os.listdir(kelas_path))\n",
    "    jumlah_gambar_per_kelas.append(jumlah_gambar)\n",
    "\n",
    "# Mengecek apakah jumlah data per kelas sudah seimbang\n",
    "balanced = all(jumlah == jumlah_gambar_per_kelas[0] for jumlah in jumlah_gambar_per_kelas)\n",
    "\n",
    "# Menampilkan pesan sesuai dengan hasil pemeriksaan\n",
    "if balanced:\n",
    "    print(\"Balanced Data !\")\n",
    "else:\n",
    "    print(\"Imbalanced Data !!!\\n\")\n",
    "    # Jika imbalanced, tampilkan jumlah data per kelas\n",
    "    for kelas, jumlah in zip(file_list, jumlah_gambar_per_kelas):\n",
    "        print(f'Aksara {kelas} jumlah: {jumlah}')"
   ]
  },
  {
   "cell_type": "code",
   "execution_count": 81,
   "metadata": {
    "colab": {
     "base_uri": "https://localhost:8080/",
     "height": 381
    },
    "id": "sOhQ2sga8Rj1",
    "outputId": "4b765950-ffe0-4b8f-de94-f0a73adcfb31",
    "tags": []
   },
   "outputs": [
    {
     "name": "stdout",
     "output_type": "stream",
     "text": [
      "20\n",
      "[['ba', 'ca', 'da', 'dha', 'ga', 'ha', 'ja', 'ka', 'la', 'ma', 'na', 'nga', 'nya', 'pa', 'ra', 'sa', 'ta', 'tha', 'wa', 'ya']]\n"
     ]
    },
    {
     "data": {
      "image/png": "[encoded data removed]",
      "text/plain": [
       "<Figure size 640x480 with 1 Axes>"
      ]
     },
     "metadata": {},
     "output_type": "display_data"
    }
   ],
   "source": [
    "image_count = count_files(test_dir)\n",
    "print(len(image_count))\n",
    "chars = get_all_char_names(test_dir)\n",
    "print(chars)\n",
    "\n",
    "fig = plt.figure()\n",
    "ax = fig.add_axes([0,0,2,1])\n",
    "ax.bar(chars[0], image_count)\n",
    "plt.title(\"Testing class distribution\")\n",
    "plt.show()"
   ]
  },
  {
   "cell_type": "code",
   "execution_count": 82,
   "metadata": {
    "colab": {
     "base_uri": "https://localhost:8080/"
    },
    "id": "muMFcHhksM2k",
    "outputId": "7d081e4a-d6bd-4d35-9822-a7b27ec758c7",
    "tags": []
   },
   "outputs": [
    {
     "name": "stdout",
     "output_type": "stream",
     "text": [
      "Found 7700 images belonging to 20 classes.\n",
      "Found 3300 images belonging to 20 classes.\n"
     ]
    }
   ],
   "source": [
    "# Buat generator data dengan augmentasi data untuk data pelatihan\n",
    "train_datagen = ImageDataGenerator(\n",
    "    rescale=1./255\n",
    ")\n",
    "\n",
    "test_datagen = ImageDataGenerator(\n",
    "    rescale=1./255\n",
    ")\n",
    "\n",
    "train_generator = train_datagen.flow_from_directory(\n",
    "    train_dir,\n",
    "    target_size=IMAGE_SIZE,\n",
    "    batch_size=BATCH_SIZE,\n",
    "    class_mode='categorical',\n",
    "    classes=Class\n",
    ")\n",
    "\n",
    "test_generator = test_datagen.flow_from_directory(\n",
    "    test_dir,\n",
    "    target_size=IMAGE_SIZE,\n",
    "    batch_size=BATCH_SIZE,\n",
    "    class_mode='categorical',\n",
    "    classes=Class\n",
    ")"
   ]
  },
  {
   "cell_type": "code",
   "execution_count": 83,
   "metadata": {
    "id": "9eph3OWcvGzW",
    "tags": []
   },
   "outputs": [],
   "source": [
    "# Mencari class weights untuk mengatasi ketidakseimbangan kelas\n",
    "class_weights = compute_sample_weight('balanced', train_generator.classes)\n",
    "class_weight = dict(enumerate(class_weights))"
   ]
  },
  {
   "cell_type": "code",
   "execution_count": 90,
   "metadata": {
    "colab": {
     "base_uri": "https://localhost:8080/"
    },
    "id": "QoRCIddkvW50",
    "outputId": "81029936-9ef4-4802-de94-465f9b6c7cde",
    "tags": []
   },
   "outputs": [
    {
     "name": "stdout",
     "output_type": "stream",
     "text": [
      "Model: \"sequential_6\"\n",
      "_________________________________________________________________\n",
      " Layer (type)                Output Shape              Param #   \n",
      "=================================================================\n",
      " conv2d_78 (Conv2D)          (None, 64, 64, 64)        1792      \n",
      "                                                                 \n",
      " batch_normalization_90 (Ba  (None, 64, 64, 64)        256       \n",
      " tchNormalization)                                               \n",
      "                                                                 \n",
      " conv2d_79 (Conv2D)          (None, 64, 64, 64)        36928     \n",
      "                                                                 \n",
      " batch_normalization_91 (Ba  (None, 64, 64, 64)        256       \n",
      " tchNormalization)                                               \n",
      "                                                                 \n",
      " max_pooling2d_30 (MaxPooli  (None, 32, 32, 64)        0         \n",
      " ng2D)                                                           \n",
      "                                                                 \n",
      " conv2d_80 (Conv2D)          (None, 32, 32, 128)       73856     \n",
      "                                                                 \n",
      " batch_normalization_92 (Ba  (None, 32, 32, 128)       512       \n",
      " tchNormalization)                                               \n",
      "                                                                 \n",
      " conv2d_81 (Conv2D)          (None, 32, 32, 128)       147584    \n",
      "                                                                 \n",
      " batch_normalization_93 (Ba  (None, 32, 32, 128)       512       \n",
      " tchNormalization)                                               \n",
      "                                                                 \n",
      " max_pooling2d_31 (MaxPooli  (None, 16, 16, 128)       0         \n",
      " ng2D)                                                           \n",
      "                                                                 \n",
      " conv2d_82 (Conv2D)          (None, 16, 16, 256)       295168    \n",
      "                                                                 \n",
      " batch_normalization_94 (Ba  (None, 16, 16, 256)       1024      \n",
      " tchNormalization)                                               \n",
      "                                                                 \n",
      " conv2d_83 (Conv2D)          (None, 16, 16, 256)       590080    \n",
      "                                                                 \n",
      " batch_normalization_95 (Ba  (None, 16, 16, 256)       1024      \n",
      " tchNormalization)                                               \n",
      "                                                                 \n",
      " conv2d_84 (Conv2D)          (None, 16, 16, 256)       590080    \n",
      "                                                                 \n",
      " batch_normalization_96 (Ba  (None, 16, 16, 256)       1024      \n",
      " tchNormalization)                                               \n",
      "                                                                 \n",
      " max_pooling2d_32 (MaxPooli  (None, 8, 8, 256)         0         \n",
      " ng2D)                                                           \n",
      "                                                                 \n",
      " conv2d_85 (Conv2D)          (None, 8, 8, 512)         1180160   \n",
      "                                                                 \n",
      " batch_normalization_97 (Ba  (None, 8, 8, 512)         2048      \n",
      " tchNormalization)                                               \n",
      "                                                                 \n",
      " conv2d_86 (Conv2D)          (None, 8, 8, 512)         2359808   \n",
      "                                                                 \n",
      " batch_normalization_98 (Ba  (None, 8, 8, 512)         2048      \n",
      " tchNormalization)                                               \n",
      "                                                                 \n",
      " conv2d_87 (Conv2D)          (None, 8, 8, 512)         2359808   \n",
      "                                                                 \n",
      " batch_normalization_99 (Ba  (None, 8, 8, 512)         2048      \n",
      " tchNormalization)                                               \n",
      "                                                                 \n",
      " max_pooling2d_33 (MaxPooli  (None, 4, 4, 512)         0         \n",
      " ng2D)                                                           \n",
      "                                                                 \n",
      " conv2d_88 (Conv2D)          (None, 4, 4, 512)         2359808   \n",
      "                                                                 \n",
      " batch_normalization_100 (B  (None, 4, 4, 512)         2048      \n",
      " atchNormalization)                                              \n",
      "                                                                 \n",
      " conv2d_89 (Conv2D)          (None, 4, 4, 512)         2359808   \n",
      "                                                                 \n",
      " batch_normalization_101 (B  (None, 4, 4, 512)         2048      \n",
      " atchNormalization)                                              \n",
      "                                                                 \n",
      " conv2d_90 (Conv2D)          (None, 4, 4, 512)         2359808   \n",
      "                                                                 \n",
      " batch_normalization_102 (B  (None, 4, 4, 512)         2048      \n",
      " atchNormalization)                                              \n",
      "                                                                 \n",
      " max_pooling2d_34 (MaxPooli  (None, 2, 2, 512)         0         \n",
      " ng2D)                                                           \n",
      "                                                                 \n",
      " flatten (Flatten)           (None, 2048)              0         \n",
      "                                                                 \n",
      " dense_18 (Dense)            (None, 256)               524544    \n",
      "                                                                 \n",
      " batch_normalization_103 (B  (None, 256)               1024      \n",
      " atchNormalization)                                              \n",
      "                                                                 \n",
      " dropout_12 (Dropout)        (None, 256)               0         \n",
      "                                                                 \n",
      " dense_19 (Dense)            (None, 128)               32896     \n",
      "                                                                 \n",
      " batch_normalization_104 (B  (None, 128)               512       \n",
      " atchNormalization)                                              \n",
      "                                                                 \n",
      " dropout_13 (Dropout)        (None, 128)               0         \n",
      "                                                                 \n",
      " dense_20 (Dense)            (None, 20)                2580      \n",
      "                                                                 \n",
      "=================================================================\n",
      "Total params: 15293140 (58.34 MB)\n",
      "Trainable params: 15283924 (58.30 MB)\n",
      "Non-trainable params: 9216 (36.00 KB)\n",
      "_________________________________________________________________\n"
     ]
    }
   ],
   "source": [
    "import tensorflow as tf\n",
    "\n",
    "# Create Architecture Vgg16\n",
    "def create_vgg16_model(input_shape=(64, 64, 3), num_classes=NUM_CLASSES):\n",
    "    model = Sequential()\n",
    "\n",
    "    # Blok 1\n",
    "    model.add(Conv2D(filters=64, kernel_size=(3, 3), padding='same', activation='relu', input_shape=input_shape))\n",
    "    model.add(BatchNormalization())\n",
    "    model.add(Conv2D(filters=64, kernel_size=(3, 3), padding='same', activation='relu'))\n",
    "    model.add(BatchNormalization())\n",
    "    model.add(MaxPooling2D((2, 2), strides=(2, 2)))\n",
    "\n",
    "    # Blok 2\n",
    "    model.add(Conv2D(filters=128, kernel_size=(3, 3), padding='same', activation='relu'))\n",
    "    model.add(BatchNormalization())\n",
    "    model.add(Conv2D(filters=128, kernel_size=(3, 3), padding='same', activation='relu'))\n",
    "    model.add(BatchNormalization())\n",
    "    model.add(MaxPooling2D((2, 2), strides=(2, 2)))\n",
    "\n",
    "    # Blok 3\n",
    "    model.add(Conv2D(filters=256, kernel_size=(3, 3), padding='same', activation='relu'))\n",
    "    model.add(BatchNormalization())\n",
    "    model.add(Conv2D(filters=256, kernel_size=(3, 3), padding='same', activation='relu'))\n",
    "    model.add(BatchNormalization())\n",
    "    model.add(Conv2D(filters=256, kernel_size=(3, 3), padding='same', activation='relu'))\n",
    "    model.add(BatchNormalization())\n",
    "    model.add(MaxPooling2D((2, 2), strides=(2, 2)))\n",
    "\n",
    "    # Blok 4\n",
    "    model.add(Conv2D(filters=512, kernel_size=(3, 3), padding='same', activation='relu'))\n",
    "    model.add(BatchNormalization())\n",
    "    model.add(Conv2D(filters=512, kernel_size=(3, 3), padding='same', activation='relu'))\n",
    "    model.add(BatchNormalization())\n",
    "    model.add(Conv2D(filters=512, kernel_size=(3, 3), padding='same', activation='relu'))\n",
    "    model.add(BatchNormalization())\n",
    "    model.add(MaxPooling2D((2, 2), strides=(2, 2)))\n",
    "\n",
    "    # Blok 5\n",
    "    model.add(Conv2D(filters=512, kernel_size=(3, 3), padding='same', activation='relu'))\n",
    "    model.add(BatchNormalization())\n",
    "    model.add(Conv2D(filters=512, kernel_size=(3, 3), padding='same', activation='relu'))\n",
    "    model.add(BatchNormalization())\n",
    "    model.add(Conv2D(filters=512, kernel_size=(3, 3), padding='same', activation='relu'))\n",
    "    model.add(BatchNormalization())\n",
    "    model.add(MaxPooling2D((2, 2), strides=(2, 2)))\n",
    "    \n",
    "    # Fully connected layers\n",
    "    model.add(Flatten(name='flatten'))\n",
    "\n",
    "    # lapisan Dense 1\n",
    "    model.add(Dense(256, activation='relu', kernel_regularizer=regularizers.l2(1e-4)))\n",
    "    model.add(BatchNormalization())\n",
    "    model.add(Dropout(0.75))\n",
    "\n",
    "    # lapisan Dense 2\n",
    "    model.add(Dense(128, activation='relu', kernel_regularizer=regularizers.l2(1e-4)))\n",
    "    model.add(BatchNormalization())\n",
    "    model.add(Dropout(0.75))\n",
    "\n",
    "    model.add(Dense(num_classes, activation='softmax'))\n",
    "\n",
    "    # Adam optimizer with learning rate scheduling and gradient clipping\n",
    "    opt = Adam(learning_rate=0.1, clipvalue=0.5)  # Gradient clipping\n",
    "    \n",
    "    model.compile(optimizer=opt, \n",
    "                  loss='categorical_crossentropy', \n",
    "                  metrics=['accuracy'])\n",
    "\n",
    "    return model\n",
    "\n",
    "# Membuat model VGG16\n",
    "model = create_vgg16_model()\n",
    "\n",
    "# Menampilkan ringkasan model\n",
    "model.summary()"
   ]
  },
  {
   "cell_type": "code",
   "execution_count": 91,
   "metadata": {
    "id": "wvaUJsgYvdFc",
    "tags": []
   },
   "outputs": [],
   "source": [
    "# Fungsi untuk menetapkan learning rate secara dinamis\n",
    "def lr_scheduler(epoch, lr):\n",
    "    if epoch % 50 == 0 and epoch > 0:\n",
    "        lr = lr * 0.9  # Contoh: Mengurangi learning rate setiap 10 epoch\n",
    "    return lr\n",
    "\n",
    "# Fungsi untuk menghentikan pelatihan jika akurasi mencapai 95%\n",
    "# class AccuracyThreshold(tf.keras.callbacks.Callback):\n",
    "#     def on_epoch_end(self, epoch, logs=None):\n",
    "#         if logs.get('accuracy') > 0.99:\n",
    "#             print(\"\\nAkurasi mencapai 95%! Menghentikan pelatihan.\")\n",
    "#             self.model.stop_training = True\n",
    "\n",
    "# Menambahkan learning rate scheduler dan early stopping\n",
    "lr_schedule = LearningRateScheduler(lr_scheduler)\n",
    "# accuracy_threshold = AccuracyThreshold()\n",
    "# callbacks_list = [lr_schedule, accuracy_threshold]\n",
    "callbacks_list = [lr_schedule]"
   ]
  },
  {
   "cell_type": "code",
   "execution_count": 93,
   "metadata": {
    "colab": {
     "base_uri": "https://localhost:8080/"
    },
    "id": "tFSUIniOvgeq",
    "outputId": "4d090d23-9d5f-4f77-cf8e-df8445a57e82",
    "tags": []
   },
   "outputs": [
    {
     "name": "stdout",
     "output_type": "stream",
     "text": [
      "Epoch 1/100\n",
      "241/241 [==============================] - 1585s 7s/step - loss: 20.4584 - accuracy: 0.0622 - lr: 0.1000\n",
      "Epoch 2/100\n",
      "241/241 [==============================] - 1164s 5s/step - loss: 16.8799 - accuracy: 0.0656 - lr: 0.1000\n",
      "Epoch 3/100\n",
      "241/241 [==============================] - 1021s 4s/step - loss: 11.4276 - accuracy: 0.0899 - lr: 0.1000\n",
      "Epoch 4/100\n",
      "241/241 [==============================] - 1729s 7s/step - loss: 8.8423 - accuracy: 0.1142 - lr: 0.1000\n",
      "Epoch 5/100\n",
      "241/241 [==============================] - 1849s 8s/step - loss: 10.9811 - accuracy: 0.1122 - lr: 0.1000\n",
      "Epoch 6/100\n",
      "241/241 [==============================] - 1587s 7s/step - loss: 11.0337 - accuracy: 0.1218 - lr: 0.1000\n",
      "Epoch 7/100\n",
      "241/241 [==============================] - 1194s 5s/step - loss: 11.3088 - accuracy: 0.1161 - lr: 0.1000\n",
      "Epoch 8/100\n",
      "241/241 [==============================] - 1166s 5s/step - loss: 11.5767 - accuracy: 0.1031 - lr: 0.1000\n",
      "Epoch 9/100\n",
      "241/241 [==============================] - 1170s 5s/step - loss: 9.8572 - accuracy: 0.1127 - lr: 0.1000\n",
      "Epoch 10/100\n",
      "241/241 [==============================] - 1167s 5s/step - loss: 9.3127 - accuracy: 0.1248 - lr: 0.1000\n",
      "Epoch 11/100\n",
      "241/241 [==============================] - 1165s 5s/step - loss: 10.1873 - accuracy: 0.1261 - lr: 0.1000\n",
      "Epoch 12/100\n",
      "241/241 [==============================] - 1171s 5s/step - loss: 11.5137 - accuracy: 0.1283 - lr: 0.1000\n",
      "Epoch 13/100\n",
      "241/241 [==============================] - 1177s 5s/step - loss: 12.4611 - accuracy: 0.1366 - lr: 0.1000\n",
      "Epoch 14/100\n",
      "241/241 [==============================] - 1172s 5s/step - loss: 11.3700 - accuracy: 0.1313 - lr: 0.1000\n",
      "Epoch 15/100\n",
      "241/241 [==============================] - 1181s 5s/step - loss: 12.7742 - accuracy: 0.1383 - lr: 0.1000\n",
      "Epoch 16/100\n",
      "241/241 [==============================] - 1175s 5s/step - loss: 12.7227 - accuracy: 0.1360 - lr: 0.1000\n",
      "Epoch 17/100\n",
      "241/241 [==============================] - 1530s 6s/step - loss: 13.9110 - accuracy: 0.1299 - lr: 0.1000\n",
      "Epoch 18/100\n",
      " 74/241 [========>.....................] - ETA: 16:55 - loss: 16.0066 - accuracy: 0.1246"
     ]
    },
    {
     "ename": "AbortedError",
     "evalue": "Graph execution error:\n\nDetected at node sequential_6/conv2d_82/Relu defined at (most recent call last):\n  File \"c:\\Users\\wawn1\\AppData\\Local\\Programs\\Python\\Python310\\lib\\runpy.py\", line 196, in _run_module_as_main\n\n  File \"c:\\Users\\wawn1\\AppData\\Local\\Programs\\Python\\Python310\\lib\\runpy.py\", line 86, in _run_code\n\n  File \"C:\\Users\\wawn1\\AppData\\Roaming\\Python\\Python310\\site-packages\\ipykernel_launcher.py\", line 17, in <module>\n\n  File \"C:\\Users\\wawn1\\AppData\\Roaming\\Python\\Python310\\site-packages\\traitlets\\config\\application.py\", line 1053, in launch_instance\n\n  File \"C:\\Users\\wawn1\\AppData\\Roaming\\Python\\Python310\\site-packages\\ipykernel\\kernelapp.py\", line 736, in start\n\n  File \"C:\\Users\\wawn1\\AppData\\Roaming\\Python\\Python310\\site-packages\\tornado\\platform\\asyncio.py\", line 195, in start\n\n  File \"c:\\Users\\wawn1\\AppData\\Local\\Programs\\Python\\Python310\\lib\\asyncio\\base_events.py\", line 600, in run_forever\n\n  File \"c:\\Users\\wawn1\\AppData\\Local\\Programs\\Python\\Python310\\lib\\asyncio\\base_events.py\", line 1896, in _run_once\n\n  File \"c:\\Users\\wawn1\\AppData\\Local\\Programs\\Python\\Python310\\lib\\asyncio\\events.py\", line 80, in _run\n\n  File \"C:\\Users\\wawn1\\AppData\\Roaming\\Python\\Python310\\site-packages\\ipykernel\\kernelbase.py\", line 516, in dispatch_queue\n\n  File \"C:\\Users\\wawn1\\AppData\\Roaming\\Python\\Python310\\site-packages\\ipykernel\\kernelbase.py\", line 505, in process_one\n\n  File \"C:\\Users\\wawn1\\AppData\\Roaming\\Python\\Python310\\site-packages\\ipykernel\\kernelbase.py\", line 412, in dispatch_shell\n\n  File \"C:\\Users\\wawn1\\AppData\\Roaming\\Python\\Python310\\site-packages\\ipykernel\\kernelbase.py\", line 740, in execute_request\n\n  File \"C:\\Users\\wawn1\\AppData\\Roaming\\Python\\Python310\\site-packages\\ipykernel\\ipkernel.py\", line 422, in do_execute\n\n  File \"C:\\Users\\wawn1\\AppData\\Roaming\\Python\\Python310\\site-packages\\ipykernel\\zmqshell.py\", line 546, in run_cell\n\n  File \"C:\\Users\\wawn1\\AppData\\Roaming\\Python\\Python310\\site-packages\\IPython\\core\\interactiveshell.py\", line 3024, in run_cell\n\n  File \"C:\\Users\\wawn1\\AppData\\Roaming\\Python\\Python310\\site-packages\\IPython\\core\\interactiveshell.py\", line 3079, in _run_cell\n\n  File \"C:\\Users\\wawn1\\AppData\\Roaming\\Python\\Python310\\site-packages\\IPython\\core\\async_helpers.py\", line 129, in _pseudo_sync_runner\n\n  File \"C:\\Users\\wawn1\\AppData\\Roaming\\Python\\Python310\\site-packages\\IPython\\core\\interactiveshell.py\", line 3284, in run_cell_async\n\n  File \"C:\\Users\\wawn1\\AppData\\Roaming\\Python\\Python310\\site-packages\\IPython\\core\\interactiveshell.py\", line 3466, in run_ast_nodes\n\n  File \"C:\\Users\\wawn1\\AppData\\Roaming\\Python\\Python310\\site-packages\\IPython\\core\\interactiveshell.py\", line 3526, in run_code\n\n  File \"C:\\Users\\wawn1\\AppData\\Local\\Temp\\ipykernel_9360\\2267529345.py\", line 4, in <module>\n\n  File \"c:\\Users\\wawn1\\AppData\\Local\\Programs\\Python\\Python310\\lib\\site-packages\\keras\\src\\utils\\traceback_utils.py\", line 65, in error_handler\n\n  File \"c:\\Users\\wawn1\\AppData\\Local\\Programs\\Python\\Python310\\lib\\site-packages\\keras\\src\\engine\\training.py\", line 1807, in fit\n\n  File \"c:\\Users\\wawn1\\AppData\\Local\\Programs\\Python\\Python310\\lib\\site-packages\\keras\\src\\engine\\training.py\", line 1401, in train_function\n\n  File \"c:\\Users\\wawn1\\AppData\\Local\\Programs\\Python\\Python310\\lib\\site-packages\\keras\\src\\engine\\training.py\", line 1384, in step_function\n\n  File \"c:\\Users\\wawn1\\AppData\\Local\\Programs\\Python\\Python310\\lib\\site-packages\\keras\\src\\engine\\training.py\", line 1373, in run_step\n\n  File \"c:\\Users\\wawn1\\AppData\\Local\\Programs\\Python\\Python310\\lib\\site-packages\\keras\\src\\engine\\training.py\", line 1150, in train_step\n\n  File \"c:\\Users\\wawn1\\AppData\\Local\\Programs\\Python\\Python310\\lib\\site-packages\\keras\\src\\utils\\traceback_utils.py\", line 65, in error_handler\n\n  File \"c:\\Users\\wawn1\\AppData\\Local\\Programs\\Python\\Python310\\lib\\site-packages\\keras\\src\\engine\\training.py\", line 590, in __call__\n\n  File \"c:\\Users\\wawn1\\AppData\\Local\\Programs\\Python\\Python310\\lib\\site-packages\\keras\\src\\utils\\traceback_utils.py\", line 65, in error_handler\n\n  File \"c:\\Users\\wawn1\\AppData\\Local\\Programs\\Python\\Python310\\lib\\site-packages\\keras\\src\\engine\\base_layer.py\", line 1149, in __call__\n\n  File \"c:\\Users\\wawn1\\AppData\\Local\\Programs\\Python\\Python310\\lib\\site-packages\\keras\\src\\utils\\traceback_utils.py\", line 96, in error_handler\n\n  File \"c:\\Users\\wawn1\\AppData\\Local\\Programs\\Python\\Python310\\lib\\site-packages\\keras\\src\\engine\\sequential.py\", line 398, in call\n\n  File \"c:\\Users\\wawn1\\AppData\\Local\\Programs\\Python\\Python310\\lib\\site-packages\\keras\\src\\engine\\functional.py\", line 515, in call\n\n  File \"c:\\Users\\wawn1\\AppData\\Local\\Programs\\Python\\Python310\\lib\\site-packages\\keras\\src\\engine\\functional.py\", line 672, in _run_internal_graph\n\n  File \"c:\\Users\\wawn1\\AppData\\Local\\Programs\\Python\\Python310\\lib\\site-packages\\keras\\src\\utils\\traceback_utils.py\", line 65, in error_handler\n\n  File \"c:\\Users\\wawn1\\AppData\\Local\\Programs\\Python\\Python310\\lib\\site-packages\\keras\\src\\engine\\base_layer.py\", line 1149, in __call__\n\n  File \"c:\\Users\\wawn1\\AppData\\Local\\Programs\\Python\\Python310\\lib\\site-packages\\keras\\src\\utils\\traceback_utils.py\", line 96, in error_handler\n\n  File \"c:\\Users\\wawn1\\AppData\\Local\\Programs\\Python\\Python310\\lib\\site-packages\\keras\\src\\layers\\convolutional\\base_conv.py\", line 321, in call\n\n  File \"c:\\Users\\wawn1\\AppData\\Local\\Programs\\Python\\Python310\\lib\\site-packages\\keras\\src\\activations.py\", line 306, in relu\n\n  File \"c:\\Users\\wawn1\\AppData\\Local\\Programs\\Python\\Python310\\lib\\site-packages\\keras\\src\\backend.py\", line 5395, in relu\n\nOperation received an exception:Status: 1, message: could not create a memory object, in file tensorflow/core/kernels/mkl/mkl_conv_ops.cc:1093\n\t [[{{node sequential_6/conv2d_82/Relu}}]] [Op:__inference_train_function_73601]",
     "output_type": "error",
     "traceback": [
      "\u001b[1;31m---------------------------------------------------------------------------\u001b[0m",
      "\u001b[1;31mAbortedError\u001b[0m                              Traceback (most recent call last)",
      "Cell \u001b[1;32mIn[93], line 4\u001b[0m\n\u001b[0;32m      1\u001b[0m \u001b[38;5;28;01mimport\u001b[39;00m \u001b[38;5;21;01mtensorflow\u001b[39;00m \u001b[38;5;28;01mas\u001b[39;00m \u001b[38;5;21;01mtf\u001b[39;00m\n\u001b[0;32m      3\u001b[0m \u001b[38;5;66;03m# Melatih Model\u001b[39;00m\n\u001b[1;32m----> 4\u001b[0m history \u001b[38;5;241m=\u001b[39m \u001b[43mmodel\u001b[49m\u001b[38;5;241;43m.\u001b[39;49m\u001b[43mfit\u001b[49m\u001b[43m(\u001b[49m\n\u001b[0;32m      5\u001b[0m \u001b[43m    \u001b[49m\u001b[43mtrain_generator\u001b[49m\u001b[43m,\u001b[49m\n\u001b[0;32m      6\u001b[0m \u001b[43m    \u001b[49m\u001b[38;5;66;43;03m# steps_per_epoch=train_generator.samples // BATCH_SIZE,\u001b[39;49;00m\n\u001b[0;32m      7\u001b[0m \u001b[43m    \u001b[49m\u001b[43mbatch_size\u001b[49m\u001b[38;5;241;43m=\u001b[39;49m\u001b[43mBATCH_SIZE\u001b[49m\u001b[43m,\u001b[49m\n\u001b[0;32m      8\u001b[0m \u001b[43m    \u001b[49m\u001b[43mepochs\u001b[49m\u001b[38;5;241;43m=\u001b[39;49m\u001b[38;5;241;43m100\u001b[39;49m\u001b[43m,\u001b[49m\n\u001b[0;32m      9\u001b[0m \u001b[43m    \u001b[49m\u001b[38;5;66;43;03m# verbose=1,\u001b[39;49;00m\n\u001b[0;32m     10\u001b[0m \u001b[43m    \u001b[49m\u001b[43mclass_weight\u001b[49m\u001b[38;5;241;43m=\u001b[39;49m\u001b[43mclass_weight\u001b[49m\u001b[43m,\u001b[49m\u001b[43m \u001b[49m\n\u001b[0;32m     11\u001b[0m \u001b[43m    \u001b[49m\u001b[43mcallbacks\u001b[49m\u001b[38;5;241;43m=\u001b[39;49m\u001b[43mcallbacks_list\u001b[49m\n\u001b[0;32m     12\u001b[0m \u001b[43m)\u001b[49m\n",
      "File \u001b[1;32mc:\\Users\\wawn1\\AppData\\Local\\Programs\\Python\\Python310\\lib\\site-packages\\keras\\src\\utils\\traceback_utils.py:70\u001b[0m, in \u001b[0;36mfilter_traceback.<locals>.error_handler\u001b[1;34m(*args, **kwargs)\u001b[0m\n\u001b[0;32m     67\u001b[0m     filtered_tb \u001b[38;5;241m=\u001b[39m _process_traceback_frames(e\u001b[38;5;241m.\u001b[39m__traceback__)\n\u001b[0;32m     68\u001b[0m     \u001b[38;5;66;03m# To get the full stack trace, call:\u001b[39;00m\n\u001b[0;32m     69\u001b[0m     \u001b[38;5;66;03m# `tf.debugging.disable_traceback_filtering()`\u001b[39;00m\n\u001b[1;32m---> 70\u001b[0m     \u001b[38;5;28;01mraise\u001b[39;00m e\u001b[38;5;241m.\u001b[39mwith_traceback(filtered_tb) \u001b[38;5;28;01mfrom\u001b[39;00m \u001b[38;5;28;01mNone\u001b[39;00m\n\u001b[0;32m     71\u001b[0m \u001b[38;5;28;01mfinally\u001b[39;00m:\n\u001b[0;32m     72\u001b[0m     \u001b[38;5;28;01mdel\u001b[39;00m filtered_tb\n",
      "File \u001b[1;32mc:\\Users\\wawn1\\AppData\\Local\\Programs\\Python\\Python310\\lib\\site-packages\\tensorflow\\python\\eager\\execute.py:53\u001b[0m, in \u001b[0;36mquick_execute\u001b[1;34m(op_name, num_outputs, inputs, attrs, ctx, name)\u001b[0m\n\u001b[0;32m     51\u001b[0m \u001b[38;5;28;01mtry\u001b[39;00m:\n\u001b[0;32m     52\u001b[0m   ctx\u001b[38;5;241m.\u001b[39mensure_initialized()\n\u001b[1;32m---> 53\u001b[0m   tensors \u001b[38;5;241m=\u001b[39m pywrap_tfe\u001b[38;5;241m.\u001b[39mTFE_Py_Execute(ctx\u001b[38;5;241m.\u001b[39m_handle, device_name, op_name,\n\u001b[0;32m     54\u001b[0m                                       inputs, attrs, num_outputs)\n\u001b[0;32m     55\u001b[0m \u001b[38;5;28;01mexcept\u001b[39;00m core\u001b[38;5;241m.\u001b[39m_NotOkStatusException \u001b[38;5;28;01mas\u001b[39;00m e:\n\u001b[0;32m     56\u001b[0m   \u001b[38;5;28;01mif\u001b[39;00m name \u001b[38;5;129;01mis\u001b[39;00m \u001b[38;5;129;01mnot\u001b[39;00m \u001b[38;5;28;01mNone\u001b[39;00m:\n",
      "\u001b[1;31mAbortedError\u001b[0m: Graph execution error:\n\nDetected at node sequential_6/conv2d_82/Relu defined at (most recent call last):\n  File \"c:\\Users\\wawn1\\AppData\\Local\\Programs\\Python\\Python310\\lib\\runpy.py\", line 196, in _run_module_as_main\n\n  File \"c:\\Users\\wawn1\\AppData\\Local\\Programs\\Python\\Python310\\lib\\runpy.py\", line 86, in _run_code\n\n  File \"C:\\Users\\wawn1\\AppData\\Roaming\\Python\\Python310\\site-packages\\ipykernel_launcher.py\", line 17, in <module>\n\n  File \"C:\\Users\\wawn1\\AppData\\Roaming\\Python\\Python310\\site-packages\\traitlets\\config\\application.py\", line 1053, in launch_instance\n\n  File \"C:\\Users\\wawn1\\AppData\\Roaming\\Python\\Python310\\site-packages\\ipykernel\\kernelapp.py\", line 736, in start\n\n  File \"C:\\Users\\wawn1\\AppData\\Roaming\\Python\\Python310\\site-packages\\tornado\\platform\\asyncio.py\", line 195, in start\n\n  File \"c:\\Users\\wawn1\\AppData\\Local\\Programs\\Python\\Python310\\lib\\asyncio\\base_events.py\", line 600, in run_forever\n\n  File \"c:\\Users\\wawn1\\AppData\\Local\\Programs\\Python\\Python310\\lib\\asyncio\\base_events.py\", line 1896, in _run_once\n\n  File \"c:\\Users\\wawn1\\AppData\\Local\\Programs\\Python\\Python310\\lib\\asyncio\\events.py\", line 80, in _run\n\n  File \"C:\\Users\\wawn1\\AppData\\Roaming\\Python\\Python310\\site-packages\\ipykernel\\kernelbase.py\", line 516, in dispatch_queue\n\n  File \"C:\\Users\\wawn1\\AppData\\Roaming\\Python\\Python310\\site-packages\\ipykernel\\kernelbase.py\", line 505, in process_one\n\n  File \"C:\\Users\\wawn1\\AppData\\Roaming\\Python\\Python310\\site-packages\\ipykernel\\kernelbase.py\", line 412, in dispatch_shell\n\n  File \"C:\\Users\\wawn1\\AppData\\Roaming\\Python\\Python310\\site-packages\\ipykernel\\kernelbase.py\", line 740, in execute_request\n\n  File \"C:\\Users\\wawn1\\AppData\\Roaming\\Python\\Python310\\site-packages\\ipykernel\\ipkernel.py\", line 422, in do_execute\n\n  File \"C:\\Users\\wawn1\\AppData\\Roaming\\Python\\Python310\\site-packages\\ipykernel\\zmqshell.py\", line 546, in run_cell\n\n  File \"C:\\Users\\wawn1\\AppData\\Roaming\\Python\\Python310\\site-packages\\IPython\\core\\interactiveshell.py\", line 3024, in run_cell\n\n  File \"C:\\Users\\wawn1\\AppData\\Roaming\\Python\\Python310\\site-packages\\IPython\\core\\interactiveshell.py\", line 3079, in _run_cell\n\n  File \"C:\\Users\\wawn1\\AppData\\Roaming\\Python\\Python310\\site-packages\\IPython\\core\\async_helpers.py\", line 129, in _pseudo_sync_runner\n\n  File \"C:\\Users\\wawn1\\AppData\\Roaming\\Python\\Python310\\site-packages\\IPython\\core\\interactiveshell.py\", line 3284, in run_cell_async\n\n  File \"C:\\Users\\wawn1\\AppData\\Roaming\\Python\\Python310\\site-packages\\IPython\\core\\interactiveshell.py\", line 3466, in run_ast_nodes\n\n  File \"C:\\Users\\wawn1\\AppData\\Roaming\\Python\\Python310\\site-packages\\IPython\\core\\interactiveshell.py\", line 3526, in run_code\n\n  File \"C:\\Users\\wawn1\\AppData\\Local\\Temp\\ipykernel_9360\\2267529345.py\", line 4, in <module>\n\n  File \"c:\\Users\\wawn1\\AppData\\Local\\Programs\\Python\\Python310\\lib\\site-packages\\keras\\src\\utils\\traceback_utils.py\", line 65, in error_handler\n\n  File \"c:\\Users\\wawn1\\AppData\\Local\\Programs\\Python\\Python310\\lib\\site-packages\\keras\\src\\engine\\training.py\", line 1807, in fit\n\n  File \"c:\\Users\\wawn1\\AppData\\Local\\Programs\\Python\\Python310\\lib\\site-packages\\keras\\src\\engine\\training.py\", line 1401, in train_function\n\n  File \"c:\\Users\\wawn1\\AppData\\Local\\Programs\\Python\\Python310\\lib\\site-packages\\keras\\src\\engine\\training.py\", line 1384, in step_function\n\n  File \"c:\\Users\\wawn1\\AppData\\Local\\Programs\\Python\\Python310\\lib\\site-packages\\keras\\src\\engine\\training.py\", line 1373, in run_step\n\n  File \"c:\\Users\\wawn1\\AppData\\Local\\Programs\\Python\\Python310\\lib\\site-packages\\keras\\src\\engine\\training.py\", line 1150, in train_step\n\n  File \"c:\\Users\\wawn1\\AppData\\Local\\Programs\\Python\\Python310\\lib\\site-packages\\keras\\src\\utils\\traceback_utils.py\", line 65, in error_handler\n\n  File \"c:\\Users\\wawn1\\AppData\\Local\\Programs\\Python\\Python310\\lib\\site-packages\\keras\\src\\engine\\training.py\", line 590, in __call__\n\n  File \"c:\\Users\\wawn1\\AppData\\Local\\Programs\\Python\\Python310\\lib\\site-packages\\keras\\src\\utils\\traceback_utils.py\", line 65, in error_handler\n\n  File \"c:\\Users\\wawn1\\AppData\\Local\\Programs\\Python\\Python310\\lib\\site-packages\\keras\\src\\engine\\base_layer.py\", line 1149, in __call__\n\n  File \"c:\\Users\\wawn1\\AppData\\Local\\Programs\\Python\\Python310\\lib\\site-packages\\keras\\src\\utils\\traceback_utils.py\", line 96, in error_handler\n\n  File \"c:\\Users\\wawn1\\AppData\\Local\\Programs\\Python\\Python310\\lib\\site-packages\\keras\\src\\engine\\sequential.py\", line 398, in call\n\n  File \"c:\\Users\\wawn1\\AppData\\Local\\Programs\\Python\\Python310\\lib\\site-packages\\keras\\src\\engine\\functional.py\", line 515, in call\n\n  File \"c:\\Users\\wawn1\\AppData\\Local\\Programs\\Python\\Python310\\lib\\site-packages\\keras\\src\\engine\\functional.py\", line 672, in _run_internal_graph\n\n  File \"c:\\Users\\wawn1\\AppData\\Local\\Programs\\Python\\Python310\\lib\\site-packages\\keras\\src\\utils\\traceback_utils.py\", line 65, in error_handler\n\n  File \"c:\\Users\\wawn1\\AppData\\Local\\Programs\\Python\\Python310\\lib\\site-packages\\keras\\src\\engine\\base_layer.py\", line 1149, in __call__\n\n  File \"c:\\Users\\wawn1\\AppData\\Local\\Programs\\Python\\Python310\\lib\\site-packages\\keras\\src\\utils\\traceback_utils.py\", line 96, in error_handler\n\n  File \"c:\\Users\\wawn1\\AppData\\Local\\Programs\\Python\\Python310\\lib\\site-packages\\keras\\src\\layers\\convolutional\\base_conv.py\", line 321, in call\n\n  File \"c:\\Users\\wawn1\\AppData\\Local\\Programs\\Python\\Python310\\lib\\site-packages\\keras\\src\\activations.py\", line 306, in relu\n\n  File \"c:\\Users\\wawn1\\AppData\\Local\\Programs\\Python\\Python310\\lib\\site-packages\\keras\\src\\backend.py\", line 5395, in relu\n\nOperation received an exception:Status: 1, message: could not create a memory object, in file tensorflow/core/kernels/mkl/mkl_conv_ops.cc:1093\n\t [[{{node sequential_6/conv2d_82/Relu}}]] [Op:__inference_train_function_73601]"
     ]
    }
   ],
   "source": [
    "import tensorflow as tf\n",
    "\n",
    "# Melatih Model\n",
    "history = model.fit(\n",
    "    train_generator,\n",
    "    # steps_per_epoch=train_generator.samples // BATCH_SIZE,\n",
    "    batch_size=BATCH_SIZE,\n",
    "    epochs=100,\n",
    "    # verbose=1,\n",
    "    class_weight=class_weight, \n",
    "    callbacks=callbacks_list\n",
    ")"
   ]
  },
  {
   "cell_type": "code",
   "execution_count": null,
   "metadata": {
    "id": "S8In9hHv-Wwr"
   },
   "outputs": [],
   "source": [
    "# Menampilkan grafik training dan validation accuracy\n",
    "import matplotlib.pyplot as plt\n",
    "\n",
    "acc = history.history['accuracy']\n",
    "val_acc = history.history['val_accuracy']\n",
    "\n",
    "loss = history.history['loss']\n",
    "\n",
    "val_loss = history.history['val_loss']\n",
    "\n",
    "epochs_range = range(len(acc))\n",
    "\n",
    "plt.figure(figsize=(12, 4))\n",
    "\n",
    "plt.subplot(1, 2, 1)\n",
    "plt.plot(epochs_range, acc, label='Training Accuracy')\n",
    "plt.plot(epochs_range, val_acc, label='Validation Accuracy')\n",
    "plt.title('Training and Validation Accuracy')\n",
    "plt.xlabel('Epoch')\n",
    "plt.ylabel('Accuracy')\n",
    "plt.legend(loc='lower right')\n",
    "\n",
    "\n",
    "plt.subplot(1, 2, 2)\n",
    "plt.plot(epochs_range, loss, label='Training Loss')\n",
    "plt.plot(epochs_range, val_loss, label='Validation Loss')\n",
    "plt.title('Training and Validation Loss')\n",
    "plt.xlabel('Epoch')\n",
    "plt.ylabel('Loss')\n",
    "plt.legend(loc='upper right')\n",
    "\n",
    "plt.tight_layout()\n",
    "plt.show()"
   ]
  },
  {
   "cell_type": "code",
   "execution_count": null,
   "metadata": {
    "id": "NUdS5RzZv5OS"
   },
   "outputs": [],
   "source": [
    "# Evaluasi model pada data uji\n",
    "evaluation = model.evaluate(test_generator)\n",
    "print(f\"Test Accuracy: {evaluation[1] * 100:.2f}%\")"
   ]
  },
  {
   "cell_type": "code",
   "execution_count": null,
   "metadata": {
    "id": "ysYBOgwI-mBs"
   },
   "outputs": [],
   "source": [
    "# Menyimpan Model\n",
    "model.save('../models/aksarajawa_cnn_model.h5')"
   ]
  },
  {
   "cell_type": "code",
   "execution_count": null,
   "metadata": {
    "id": "7DZyrd5x9Q-h"
   },
   "outputs": [],
   "source": [
    "# Import the necessary modules\n",
    "from sklearn import metrics\n",
    "import math\n",
    "\n",
    "# Buat generator data untuk data uji\n",
    "test_datagen = ImageDataGenerator(rescale=1./255)\n",
    "\n",
    "test_generator = test_datagen.flow_from_directory(\n",
    "    val_dir,\n",
    "    shuffle=False,\n",
    "    batch_size=32,\n",
    "    color_mode=\"rgb\",\n",
    "    target_size=(150, 150),\n",
    "    class_mode='categorical'\n",
    ")\n",
    "\n",
    "# Ganti np.math dengan math\n",
    "test_steps_per_epoch = math.ceil(test_generator.samples / test_generator.batch_size)\n",
    "\n",
    "# Gunakan Model.predict alih-alih Model.predict_generator\n",
    "predictions = model.predict(test_generator, steps=test_steps_per_epoch)\n",
    "\n",
    "# Dapatkan kelas yang paling mungkin\n",
    "predicted_classes = np.argmax(predictions, axis=1)\n",
    "\n",
    "true_classes = test_generator.classes\n",
    "class_labels = list(test_generator.class_indices.keys())"
   ]
  },
  {
   "cell_type": "code",
   "execution_count": null,
   "metadata": {
    "id": "kedOAT21Rh3D"
   },
   "outputs": [],
   "source": [
    "# Lakukan import untuk metrics\n",
    "from sklearn import metrics\n",
    "\n",
    "# Hitung dan tampilkan classification report\n",
    "report = metrics.classification_report(true_classes,\n",
    "                                       predicted_classes,\n",
    "                                       target_names = class_labels)\n",
    "print(report)\n",
    "\n",
    "# Hitung dan tampilkan confusion matrix\n",
    "confusion_matrix = metrics.confusion_matrix(true_classes, predicted_classes)\n",
    "print(confusion_matrix)"
   ]
  },
  {
   "cell_type": "code",
   "execution_count": null,
   "metadata": {
    "id": "JEGcRkBkTDRN"
   },
   "outputs": [],
   "source": [
    "import pandas as pd\n",
    "import seaborn as sn\n",
    "\n",
    "# Buat DataFrame untuk confusion matrix\n",
    "df_cm = pd.DataFrame(confusion_matrix,\n",
    "                     index=[i for i in (\"ba\", \"ca\", \"da\", \"dha\", \"ga\", \"ha\", \"ja\", \"ka\", \"la\", \"ma\",\n",
    "                                        \"na\", \"nga\", \"nya\", \"pa\", \"ra\", \"sa\", \"ta\", \"tha\", \"wa\", \"ya\")],\n",
    "\n",
    "                     columns=[i for i in (\"ba\", \"ca\", \"da\", \"dha\", \"ga\", \"ha\", \"ja\", \"ka\", \"la\", \"ma\",\n",
    "                                          \"na\", \"nga\", \"nya\", \"pa\", \"ra\", \"sa\", \"ta\", \"tha\", \"wa\", \"ya\")])\n",
    "# Tampilkan heatmap\n",
    "plt.figure(figsize=(15, 15))\n",
    "sn.heatmap(df_cm, annot=True)"
   ]
  },
  {
   "cell_type": "code",
   "execution_count": null,
   "metadata": {
    "id": "g1gXV9Smwiij"
   },
   "outputs": [],
   "source": [
    "# Menguji Model\n",
    "model = load_model('../models/aksarajawa_cnn_model.h5')\n",
    "test_image_path = '../data/databyPhiard_original/prediction/ba17.png'\n",
    "img = image.load_img(test_image_path, target_size=(150, 150))\n",
    "img_array = image.img_to_array(img)\n",
    "img_array = np.expand_dims(img_array, axis=0)\n",
    "img_array /= 255.0\n",
    "\n",
    "img = imread(test_image_path)\n",
    "plt.imshow(img)\n",
    "\n",
    "# Perform the prediction\n",
    "predictions = model.predict(img_array)\n",
    "predicted_class_index = np.argmax(predictions)\n",
    "class_labels = list(train_generator.class_indices.keys())\n",
    "predicted_class_name = class_labels[predicted_class_index]\n",
    "\n",
    "# Print the result\n",
    "print(\"Predicted class:\", predicted_class_name)"
   ]
  },
  {
   "cell_type": "code",
   "execution_count": null,
   "metadata": {
    "id": "ypgcwar5NUQo"
   },
   "outputs": [],
   "source": [
    "# Menguji Model\n",
    "test_image_path2 = '../data/databyPhiard_original/prediction/ba49.mine2.png'\n",
    "img = image.load_img(test_image_path2, target_size=(150, 150))\n",
    "img_array = image.img_to_array(img)\n",
    "img_array = np.expand_dims(img_array, axis=0)\n",
    "img_array /= 255.0\n",
    "\n",
    "img = imread(test_image_path2)\n",
    "plt.imshow(img)\n",
    "\n",
    "# Perform the prediction\n",
    "predictions = model.predict(img_array)\n",
    "predicted_class_index = np.argmax(predictions)\n",
    "class_labels = list(train_generator.class_indices.keys())\n",
    "predicted_class_name = class_labels[predicted_class_index]\n",
    "\n",
    "# Print the result\n",
    "print(\"Predicted class:\", predicted_class_name)"
   ]
  },
  {
   "cell_type": "code",
   "execution_count": null,
   "metadata": {
    "id": "sGDStm9STzAw"
   },
   "outputs": [],
   "source": [
    "# Menguji Model\n",
    "test_image_path3 = '../data/databyPhiard_original/prediction/ca2.png'\n",
    "img = image.load_img(test_image_path3, target_size=(150, 150))\n",
    "img_array = image.img_to_array(img)\n",
    "img_array = np.expand_dims(img_array, axis=0)\n",
    "img_array /= 255.0\n",
    "\n",
    "img = imread(test_image_path3)\n",
    "plt.imshow(img)\n",
    "\n",
    "# Perform the prediction\n",
    "predictions = model.predict(img_array)\n",
    "predicted_class_index = np.argmax(predictions)\n",
    "class_labels = list(train_generator.class_indices.keys())\n",
    "predicted_class_name = class_labels[predicted_class_index]\n",
    "\n",
    "# Print the result\n",
    "print(\"Predicted class:\", predicted_class_name)"
   ]
  },
  {
   "cell_type": "code",
   "execution_count": null,
   "metadata": {
    "id": "mpnMnSwu0bVk"
   },
   "outputs": [],
   "source": [
    "# Menguji Model\n",
    "test_image_path4 = '../data/databyPhiard_original/prediction/da5.png'\n",
    "img = image.load_img(test_image_path4, target_size=(150, 150))\n",
    "img_array = image.img_to_array(img)\n",
    "img_array = np.expand_dims(img_array, axis=0)\n",
    "img_array /= 255.0\n",
    "\n",
    "img = imread(test_image_path4)\n",
    "plt.imshow(img)\n",
    "\n",
    "# Perform the prediction\n",
    "predictions = model.predict(img_array)\n",
    "predicted_class_index = np.argmax(predictions)\n",
    "class_labels = list(train_generator.class_indices.keys())\n",
    "predicted_class_name = class_labels[predicted_class_index]\n",
    "\n",
    "# Print the result\n",
    "print(\"Predicted class:\", predicted_class_name)"
   ]
  },
  {
   "cell_type": "code",
   "execution_count": null,
   "metadata": {
    "id": "fHpe7eSe0mq2"
   },
   "outputs": [],
   "source": [
    "# Menguji Model\n",
    "test_image_path5 = '../data/databyPhiard_original/prediction/dha11.png'\n",
    "img = image.load_img(test_image_path5, target_size=(150, 150))\n",
    "img_array = image.img_to_array(img)\n",
    "img_array = np.expand_dims(img_array, axis=0)\n",
    "img_array /= 255.0\n",
    "\n",
    "img = imread(test_image_path5)\n",
    "plt.imshow(img)\n",
    "\n",
    "# Perform the prediction\n",
    "predictions = model.predict(img_array)\n",
    "predicted_class_index = np.argmax(predictions)\n",
    "class_labels = list(train_generator.class_indices.keys())\n",
    "predicted_class_name = class_labels[predicted_class_index]\n",
    "\n",
    "# Print the result\n",
    "print(\"Predicted class:\", predicted_class_name)"
   ]
  },
  {
   "cell_type": "code",
   "execution_count": null,
   "metadata": {
    "id": "GhKIubrh2G8Y"
   },
   "outputs": [],
   "source": [
    "# Menguji Model\n",
    "test_image_path6 = '../data/databyPhiard_original/prediction/ga16.png'\n",
    "img = image.load_img(test_image_path6, target_size=(150, 150))\n",
    "img_array = image.img_to_array(img)\n",
    "img_array = np.expand_dims(img_array, axis=0)\n",
    "img_array /= 255.0\n",
    "\n",
    "img = imread(test_image_path6)\n",
    "plt.imshow(img)\n",
    "\n",
    "# Perform the prediction\n",
    "predictions = model.predict(img_array)\n",
    "predicted_class_index = np.argmax(predictions)\n",
    "class_labels = list(train_generator.class_indices.keys())\n",
    "predicted_class_name = class_labels[predicted_class_index]\n",
    "\n",
    "# Print the result\n",
    "print(\"Predicted class:\", predicted_class_name)"
   ]
  },
  {
   "cell_type": "code",
   "execution_count": null,
   "metadata": {
    "id": "UBHQ1s4O3y8D"
   },
   "outputs": [],
   "source": [
    "# Menguji Model\n",
    "test_image_path7 = '../data/databyPhiard_original/prediction/ha0.png'\n",
    "img = image.load_img(test_image_path7, target_size=(150, 150))\n",
    "img_array = image.img_to_array(img)\n",
    "img_array = np.expand_dims(img_array, axis=0)\n",
    "img_array /= 255.0\n",
    "\n",
    "img = imread(test_image_path7)\n",
    "plt.imshow(img)\n",
    "\n",
    "# Perform the prediction\n",
    "predictions = model.predict(img_array)\n",
    "predicted_class_index = np.argmax(predictions)\n",
    "class_labels = list(train_generator.class_indices.keys())\n",
    "predicted_class_name = class_labels[predicted_class_index]\n",
    "\n",
    "# Print the result\n",
    "print(\"Predicted class:\", predicted_class_name)"
   ]
  },
  {
   "cell_type": "code",
   "execution_count": null,
   "metadata": {
    "id": "H-7YZ8gA4A3n"
   },
   "outputs": [],
   "source": [
    "# Menguji Model\n",
    "test_image_path8 = '../data/databyPhiard_original/prediction/ja12.png'\n",
    "img = image.load_img(test_image_path8, target_size=(150, 150))\n",
    "img_array = image.img_to_array(img)\n",
    "img_array = np.expand_dims(img_array, axis=0)\n",
    "img_array /= 255.0\n",
    "\n",
    "img = imread(test_image_path8)\n",
    "plt.imshow(img)\n",
    "\n",
    "# Perform the prediction\n",
    "predictions = model.predict(img_array)\n",
    "predicted_class_index = np.argmax(predictions)\n",
    "class_labels = list(train_generator.class_indices.keys())\n",
    "predicted_class_name = class_labels[predicted_class_index]\n",
    "\n",
    "# Print the result\n",
    "print(\"Predicted class:\", predicted_class_name)"
   ]
  },
  {
   "cell_type": "code",
   "execution_count": null,
   "metadata": {
    "id": "HuDNDVmw4ODw"
   },
   "outputs": [],
   "source": [
    "# Menguji Model\n",
    "test_image_path9 = '../data/databyPhiard_original/prediction/ka4.png'\n",
    "img = image.load_img(test_image_path9, target_size=(150, 150))\n",
    "img_array = image.img_to_array(img)\n",
    "img_array = np.expand_dims(img_array, axis=0)\n",
    "img_array /= 255.0\n",
    "\n",
    "img = imread(test_image_path9)\n",
    "plt.imshow(img)\n",
    "\n",
    "# Perform the prediction\n",
    "predictions = model.predict(img_array)\n",
    "predicted_class_index = np.argmax(predictions)\n",
    "class_labels = list(train_generator.class_indices.keys())\n",
    "predicted_class_name = class_labels[predicted_class_index]\n",
    "\n",
    "# Print the result\n",
    "print(\"Predicted class:\", predicted_class_name)"
   ]
  },
  {
   "cell_type": "code",
   "execution_count": null,
   "metadata": {
    "id": "6bCuWl1k4WpV"
   },
   "outputs": [],
   "source": [
    "# Menguji Model\n",
    "test_image_path10 = '../data/databyPhiard_original/prediction/la9.png'\n",
    "img = image.load_img(test_image_path10, target_size=(150, 150))\n",
    "img_array = image.img_to_array(img)\n",
    "img_array = np.expand_dims(img_array, axis=0)\n",
    "img_array /= 255.0\n",
    "\n",
    "img = imread(test_image_path10)\n",
    "plt.imshow(img)\n",
    "\n",
    "# Perform the prediction\n",
    "predictions = model.predict(img_array)\n",
    "predicted_class_index = np.argmax(predictions)\n",
    "class_labels = list(train_generator.class_indices.keys())\n",
    "predicted_class_name = class_labels[predicted_class_index]\n",
    "\n",
    "# Print the result\n",
    "print(\"Predicted class:\", predicted_class_name)"
   ]
  },
  {
   "cell_type": "code",
   "execution_count": null,
   "metadata": {
    "id": "c1Z3NyR34m2x"
   },
   "outputs": [],
   "source": [
    "# Menguji Model\n",
    "test_image_path11 = '../data/databyPhiard_original/prediction/ma.0.jpg'\n",
    "img = image.load_img(test_image_path11, target_size=(150, 150))\n",
    "img_array = image.img_to_array(img)\n",
    "img_array = np.expand_dims(img_array, axis=0)\n",
    "img_array /= 255.0\n",
    "\n",
    "img = imread(test_image_path11)\n",
    "plt.imshow(img)\n",
    "\n",
    "# Perform the prediction\n",
    "predictions = model.predict(img_array)\n",
    "predicted_class_index = np.argmax(predictions)\n",
    "class_labels = list(train_generator.class_indices.keys())\n",
    "predicted_class_name = class_labels[predicted_class_index]\n",
    "\n",
    "# Print the result\n",
    "print(\"Predicted class:\", predicted_class_name)"
   ]
  },
  {
   "cell_type": "code",
   "execution_count": null,
   "metadata": {
    "id": "q-dQA6XH4wRB"
   },
   "outputs": [],
   "source": [
    "# Menguji Model\n",
    "test_image_path12 = '../data/databyPhiard_original/prediction/ma.1.jpg'\n",
    "img = image.load_img(test_image_path12, target_size=(150, 150))\n",
    "img_array = image.img_to_array(img)\n",
    "img_array = np.expand_dims(img_array, axis=0)\n",
    "img_array /= 255.0\n",
    "\n",
    "img = imread(test_image_path12)\n",
    "plt.imshow(img)\n",
    "\n",
    "# Perform the prediction\n",
    "predictions = model.predict(img_array)\n",
    "predicted_class_index = np.argmax(predictions)\n",
    "class_labels = list(train_generator.class_indices.keys())\n",
    "predicted_class_name = class_labels[predicted_class_index]\n",
    "\n",
    "# Print the result\n",
    "print(\"Predicted class:\", predicted_class_name)"
   ]
  },
  {
   "cell_type": "code",
   "execution_count": null,
   "metadata": {
    "id": "Cxdo2m3V49Fq"
   },
   "outputs": [],
   "source": [
    "# Menguji Model\n",
    "test_image_path13 = '../data/databyPhiard_original/prediction/ma15.png'\n",
    "img = image.load_img(test_image_path13, target_size=(150, 150))\n",
    "img_array = image.img_to_array(img)\n",
    "img_array = np.expand_dims(img_array, axis=0)\n",
    "img_array /= 255.0\n",
    "\n",
    "img = imread(test_image_path13)\n",
    "plt.imshow(img)\n",
    "\n",
    "# Perform the prediction\n",
    "predictions = model.predict(img_array)\n",
    "predicted_class_index = np.argmax(predictions)\n",
    "class_labels = list(train_generator.class_indices.keys())\n",
    "predicted_class_name = class_labels[predicted_class_index]\n",
    "\n",
    "# Print the result\n",
    "print(\"Predicted class:\", predicted_class_name)"
   ]
  },
  {
   "cell_type": "code",
   "execution_count": null,
   "metadata": {
    "id": "GMdJy8sz5GWr"
   },
   "outputs": [],
   "source": [
    "# Menguji Model\n",
    "test_image_path14 = '../data/databyPhiard_original/prediction/na1.png'\n",
    "img = image.load_img(test_image_path14, target_size=(150, 150))\n",
    "img_array = image.img_to_array(img)\n",
    "img_array = np.expand_dims(img_array, axis=0)\n",
    "img_array /= 255.0\n",
    "\n",
    "img = imread(test_image_path14)\n",
    "plt.imshow(img)\n",
    "\n",
    "# Perform the prediction\n",
    "predictions = model.predict(img_array)\n",
    "predicted_class_index = np.argmax(predictions)\n",
    "class_labels = list(train_generator.class_indices.keys())\n",
    "predicted_class_name = class_labels[predicted_class_index]\n",
    "\n",
    "# Print the result\n",
    "print(\"Predicted class:\", predicted_class_name)"
   ]
  },
  {
   "cell_type": "code",
   "execution_count": null,
   "metadata": {
    "id": "quqSHie75eVT"
   },
   "outputs": [],
   "source": [
    "# Menguji Model\n",
    "test_image_path15 = '../data/databyPhiard_original/prediction/nga19.png'\n",
    "img = image.load_img(test_image_path15, target_size=(150, 150))\n",
    "img_array = image.img_to_array(img)\n",
    "img_array = np.expand_dims(img_array, axis=0)\n",
    "img_array /= 255.0\n",
    "\n",
    "img = imread(test_image_path15)\n",
    "plt.imshow(img)\n",
    "\n",
    "# Perform the prediction\n",
    "predictions = model.predict(img_array)\n",
    "predicted_class_index = np.argmax(predictions)\n",
    "class_labels = list(train_generator.class_indices.keys())\n",
    "predicted_class_name = class_labels[predicted_class_index]\n",
    "\n",
    "# Print the result\n",
    "print(\"Predicted class:\", predicted_class_name)"
   ]
  },
  {
   "cell_type": "code",
   "execution_count": null,
   "metadata": {
    "id": "eZmpNQu15j0i"
   },
   "outputs": [],
   "source": [
    "# Menguji Model\n",
    "test_image_path16 = '../data/databyPhiard_original/prediction/nga220.pred.png'\n",
    "img = image.load_img(test_image_path16, target_size=(150, 150))\n",
    "img_array = image.img_to_array(img)\n",
    "img_array = np.expand_dims(img_array, axis=0)\n",
    "img_array /= 255.0\n",
    "\n",
    "img = imread(test_image_path16)\n",
    "plt.imshow(img)\n",
    "\n",
    "# Perform the prediction\n",
    "predictions = model.predict(img_array)\n",
    "predicted_class_index = np.argmax(predictions)\n",
    "class_labels = list(train_generator.class_indices.keys())\n",
    "predicted_class_name = class_labels[predicted_class_index]\n",
    "\n",
    "# Print the result\n",
    "print(\"Predicted class:\", predicted_class_name)"
   ]
  },
  {
   "cell_type": "code",
   "execution_count": null,
   "metadata": {
    "id": "xahjGy_J5rIo"
   },
   "outputs": [],
   "source": [
    "# Menguji Model\n",
    "test_image_path17 = '../data/databyPhiard_original/prediction/nya14.png'\n",
    "img = image.load_img(test_image_path17, target_size=(150, 150))\n",
    "img_array = image.img_to_array(img)\n",
    "img_array = np.expand_dims(img_array, axis=0)\n",
    "img_array /= 255.0\n",
    "\n",
    "img = imread(test_image_path17)\n",
    "plt.imshow(img)\n",
    "\n",
    "# Perform the prediction\n",
    "predictions = model.predict(img_array)\n",
    "predicted_class_index = np.argmax(predictions)\n",
    "class_labels = list(train_generator.class_indices.keys())\n",
    "predicted_class_name = class_labels[predicted_class_index]\n",
    "\n",
    "# Print the result\n",
    "print(\"Predicted class:\", predicted_class_name)"
   ]
  },
  {
   "cell_type": "code",
   "execution_count": null,
   "metadata": {
    "id": "VKEOuiN95yyG"
   },
   "outputs": [],
   "source": [
    "# Menguji Model\n",
    "test_image_path18 = '../data/databyPhiard_original/prediction/pa10.png'\n",
    "img = image.load_img(test_image_path18, target_size=(150, 150))\n",
    "img_array = image.img_to_array(img)\n",
    "img_array = np.expand_dims(img_array, axis=0)\n",
    "img_array /= 255.0\n",
    "\n",
    "img = imread(test_image_path18)\n",
    "plt.imshow(img)\n",
    "\n",
    "# Perform the prediction\n",
    "predictions = model.predict(img_array)\n",
    "predicted_class_index = np.argmax(predictions)\n",
    "class_labels = list(train_generator.class_indices.keys())\n",
    "predicted_class_name = class_labels[predicted_class_index]\n",
    "\n",
    "# Print the result\n",
    "print(\"Predicted class:\", predicted_class_name)"
   ]
  },
  {
   "cell_type": "code",
   "execution_count": null,
   "metadata": {
    "id": "WpoShXpj56rD"
   },
   "outputs": [],
   "source": [
    "# Menguji Model\n",
    "test_image_path19 = '../data/databyPhiard_original/prediction/ra164.pred.png'\n",
    "img = image.load_img(test_image_path19, target_size=(150, 150))\n",
    "img_array = image.img_to_array(img)\n",
    "img_array = np.expand_dims(img_array, axis=0)\n",
    "img_array /= 255.0\n",
    "\n",
    "img = imread(test_image_path19)\n",
    "plt.imshow(img)\n",
    "\n",
    "# Perform the prediction\n",
    "predictions = model.predict(img_array)\n",
    "predicted_class_index = np.argmax(predictions)\n",
    "class_labels = list(train_generator.class_indices.keys())\n",
    "predicted_class_name = class_labels[predicted_class_index]\n",
    "\n",
    "# Print the result\n",
    "print(\"Predicted class:\", predicted_class_name)"
   ]
  },
  {
   "cell_type": "code",
   "execution_count": null,
   "metadata": {
    "id": "cfP7uyAV6FoZ"
   },
   "outputs": [],
   "source": [
    "# Menguji Model\n",
    "test_image_path20 = '../data/databyPhiard_original/prediction/ra3.png'\n",
    "img = image.load_img(test_image_path20, target_size=(150, 150))\n",
    "img_array = image.img_to_array(img)\n",
    "img_array = np.expand_dims(img_array, axis=0)\n",
    "img_array /= 255.0\n",
    "\n",
    "img = imread(test_image_path20)\n",
    "plt.imshow(img)\n",
    "\n",
    "# Perform the prediction\n",
    "predictions = model.predict(img_array)\n",
    "predicted_class_index = np.argmax(predictions)\n",
    "class_labels = list(train_generator.class_indices.keys())\n",
    "predicted_class_name = class_labels[predicted_class_index]\n",
    "\n",
    "# Print the result\n",
    "print(\"Predicted class:\", predicted_class_name)"
   ]
  },
  {
   "cell_type": "code",
   "execution_count": null,
   "metadata": {
    "id": "-LltVPlt6O9p"
   },
   "outputs": [],
   "source": [
    "# Menguji Model\n",
    "test_image_path21 = '../data/databyPhiard_original/prediction/sa7.png'\n",
    "img = image.load_img(test_image_path21, target_size=(150, 150))\n",
    "img_array = image.img_to_array(img)\n",
    "img_array = np.expand_dims(img_array, axis=0)\n",
    "img_array /= 255.0\n",
    "\n",
    "img = imread(test_image_path21)\n",
    "plt.imshow(img)\n",
    "\n",
    "# Perform the prediction\n",
    "predictions = model.predict(img_array)\n",
    "predicted_class_index = np.argmax(predictions)\n",
    "class_labels = list(train_generator.class_indices.keys())\n",
    "predicted_class_name = class_labels[predicted_class_index]\n",
    "\n",
    "# Print the result\n",
    "print(\"Predicted class:\", predicted_class_name)"
   ]
  },
  {
   "cell_type": "code",
   "execution_count": null,
   "metadata": {
    "id": "UYI5ipbv6aG-"
   },
   "outputs": [],
   "source": [
    "# Menguji Model\n",
    "test_image_path22 = '../data/databyPhiard_original/prediction/ta6.png'\n",
    "img = image.load_img(test_image_path22, target_size=(150, 150))\n",
    "img_array = image.img_to_array(img)\n",
    "img_array = np.expand_dims(img_array, axis=0)\n",
    "img_array /= 255.0\n",
    "\n",
    "img = imread(test_image_path22)\n",
    "plt.imshow(img)\n",
    "\n",
    "# Perform the prediction\n",
    "predictions = model.predict(img_array)\n",
    "predicted_class_index = np.argmax(predictions)\n",
    "class_labels = list(train_generator.class_indices.keys())\n",
    "predicted_class_name = class_labels[predicted_class_index]\n",
    "\n",
    "# Print the result\n",
    "print(\"Predicted class:\", predicted_class_name)"
   ]
  },
  {
   "cell_type": "code",
   "execution_count": null,
   "metadata": {
    "id": "_CNJB2gq6ljo"
   },
   "outputs": [],
   "source": [
    "# Menguji Model\n",
    "test_image_path23 = '../data/databyPhiard_original/prediction/tha18.png'\n",
    "img = image.load_img(test_image_path23, target_size=(150, 150))\n",
    "img_array = image.img_to_array(img)\n",
    "img_array = np.expand_dims(img_array, axis=0)\n",
    "img_array /= 255.0\n",
    "\n",
    "img = imread(test_image_path23)\n",
    "plt.imshow(img)\n",
    "\n",
    "# Perform the prediction\n",
    "predictions = model.predict(img_array)\n",
    "predicted_class_index = np.argmax(predictions)\n",
    "class_labels = list(train_generator.class_indices.keys())\n",
    "predicted_class_name = class_labels[predicted_class_index]\n",
    "\n",
    "# Print the result\n",
    "print(\"Predicted class:\", predicted_class_name)"
   ]
  },
  {
   "cell_type": "code",
   "execution_count": null,
   "metadata": {
    "id": "-hnrPRy06xYd"
   },
   "outputs": [],
   "source": [
    "# Menguji Model\n",
    "test_image_path24 = '../data/databyPhiard_original/prediction/wa8.png'\n",
    "img = image.load_img(test_image_path24, target_size=(150, 150))\n",
    "img_array = image.img_to_array(img)\n",
    "img_array = np.expand_dims(img_array, axis=0)\n",
    "img_array /= 255.0\n",
    "\n",
    "img = imread(test_image_path24)\n",
    "plt.imshow(img)\n",
    "\n",
    "# Perform the prediction\n",
    "predictions = model.predict(img_array)\n",
    "predicted_class_index = np.argmax(predictions)\n",
    "class_labels = list(train_generator.class_indices.keys())\n",
    "predicted_class_name = class_labels[predicted_class_index]\n",
    "\n",
    "# Print the result\n",
    "print(\"Predicted class:\", predicted_class_name)"
   ]
  },
  {
   "cell_type": "code",
   "execution_count": null,
   "metadata": {
    "id": "gPHeTGID6248"
   },
   "outputs": [],
   "source": [
    "# Menguji Model\n",
    "test_image_path25 = '../data/databyPhiard_original/prediction/ya13.png'\n",
    "img = image.load_img(test_image_path25, target_size=(150, 150))\n",
    "img_array = image.img_to_array(img)\n",
    "img_array = np.expand_dims(img_array, axis=0)\n",
    "img_array /= 255.0\n",
    "\n",
    "img = imread(test_image_path25)\n",
    "plt.imshow(img)\n",
    "\n",
    "# Perform the prediction\n",
    "predictions = model.predict(img_array)\n",
    "predicted_class_index = np.argmax(predictions)\n",
    "class_labels = list(train_generator.class_indices.keys())\n",
    "predicted_class_name = class_labels[predicted_class_index]\n",
    "\n",
    "# Print the result\n",
    "print(\"Predicted class:\", predicted_class_name)"
   ]
  },
  {
   "cell_type": "code",
   "execution_count": null,
   "metadata": {},
   "outputs": [],
   "source": [
    "# Menguji Model\n",
    "test_image_path26 = '../data/databyPhiard_original/prediction/nya_01.png'\n",
    "img = image.load_img(test_image_path26, target_size=(150, 150))\n",
    "img_array = image.img_to_array(img)\n",
    "img_array = np.expand_dims(img_array, axis=0)\n",
    "img_array /= 255.0\n",
    "\n",
    "img = imread(test_image_path26)\n",
    "plt.imshow(img)\n",
    "\n",
    "# Perform the prediction\n",
    "predictions = model.predict(img_array)\n",
    "predicted_class_index = np.argmax(predictions)\n",
    "class_labels = list(train_generator.class_indices.keys())\n",
    "predicted_class_name = class_labels[predicted_class_index]\n",
    "\n",
    "# Print the result\n",
    "print(\"Predicted class:\", predicted_class_name)"
   ]
  },
  {
   "cell_type": "code",
   "execution_count": null,
   "metadata": {},
   "outputs": [],
   "source": [
    "# Menguji Model\n",
    "test_image_path26 = '../data/databyPhiard_original/prediction/sa_01.png'\n",
    "img = image.load_img(test_image_path26, target_size=(150, 150))\n",
    "img_array = image.img_to_array(img)\n",
    "img_array = np.expand_dims(img_array, axis=0)\n",
    "img_array /= 255.0\n",
    "\n",
    "img = imread(test_image_path26)\n",
    "plt.imshow(img)\n",
    "\n",
    "# Perform the prediction\n",
    "predictions = model.predict(img_array)\n",
    "predicted_class_index = np.argmax(predictions)\n",
    "class_labels = list(train_generator.class_indices.keys())\n",
    "predicted_class_name = class_labels[predicted_class_index]\n",
    "\n",
    "# Print the result\n",
    "print(\"Predicted class:\", predicted_class_name)"
   ]
  },
  {
   "cell_type": "code",
   "execution_count": null,
   "metadata": {},
   "outputs": [],
   "source": [
    "# Menguji Model\n",
    "test_image_path26 = '../data/databyPhiard_original/prediction/ha201.png'\n",
    "img = image.load_img(test_image_path26, target_size=(150, 150))\n",
    "img_array = image.img_to_array(img)\n",
    "img_array = np.expand_dims(img_array, axis=0)\n",
    "img_array /= 255.0\n",
    "\n",
    "img = imread(test_image_path26)\n",
    "plt.imshow(img)\n",
    "\n",
    "# Perform the prediction\n",
    "predictions = model.predict(img_array)\n",
    "predicted_class_index = np.argmax(predictions)\n",
    "class_labels = list(train_generator.class_indices.keys())\n",
    "predicted_class_name = class_labels[predicted_class_index]\n",
    "\n",
    "# Print the result\n",
    "print(\"Predicted class:\", predicted_class_name)"
   ]
  },
  {
   "cell_type": "code",
   "execution_count": null,
   "metadata": {},
   "outputs": [],
   "source": []
  }
 ],
 "metadata": {
  "colab": {
   "provenance": []
  },
  "kernelspec": {
   "display_name": "Python 3 (ipykernel)",
   "language": "python",
   "name": "python3"
  },
  "language_info": {
   "codemirror_mode": {
    "name": "ipython",
    "version": 3
   },
   "file_extension": ".py",
   "mimetype": "text/x-python",
   "name": "python",
   "nbconvert_exporter": "python",
   "pygments_lexer": "ipython3",
   "version": "3.10.5"
  }
 },
 "nbformat": 4,
 "nbformat_minor": 4
}
