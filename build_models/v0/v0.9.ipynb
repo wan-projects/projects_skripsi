{
 "cells": [
  {
   "cell_type": "code",
   "execution_count": 9,
   "id": "e2a974d7-de63-4930-8516-5c261eea0352",
   "metadata": {},
   "outputs": [
    {
     "name": "stdout",
     "output_type": "stream",
     "text": [
      "Dataset berhasil digabungkan.\n"
     ]
    }
   ],
   "source": [
    "import os\n",
    "import shutil\n",
    "\n",
    "# Tentukan path ke dataset\n",
    "dataset_path = '../TA/datasetV2'\n",
    "\n",
    "# Tentukan path ke direktori hasil penggabungan\n",
    "merged_dataset_path = '../TA/merged_dataset'\n",
    "\n",
    "# Buat direktori untuk dataset hasil penggabungan\n",
    "os.makedirs(merged_dataset_path, exist_ok=True)\n",
    "\n",
    "# Gabungkan dataset dari setiap sumber\n",
    "for source_folder in os.listdir(dataset_path):\n",
    "    source_path = os.path.join(dataset_path, source_folder)\n",
    "    if os.path.isdir(source_path):\n",
    "        for class_folder in os.listdir(source_path):\n",
    "            class_path = os.path.join(source_path, class_folder)\n",
    "            if os.path.isdir(class_path):\n",
    "                destination_folder = os.path.join(merged_dataset_path, class_folder)\n",
    "                os.makedirs(destination_folder, exist_ok=True)\n",
    "                # Salin gambar ke direktori hasil penggabungan\n",
    "                for image_file in os.listdir(class_path):\n",
    "                    source_image_path = os.path.join(class_path, image_file)\n",
    "                    destination_image_path = os.path.join(destination_folder, image_file)\n",
    "                    shutil.copyfile(source_image_path, destination_image_path)\n",
    "\n",
    "print(\"Dataset berhasil digabungkan.\")"
   ]
  },
  {
   "cell_type": "code",
   "execution_count": 10,
   "id": "be06ae57-4584-4970-8c04-27a631ff1555",
   "metadata": {
    "tags": []
   },
   "outputs": [
    {
     "name": "stdout",
     "output_type": "stream",
     "text": [
      "Kelas ba: 193 gambar\n",
      "Kelas ca: 187 gambar\n",
      "Kelas da: 187 gambar\n",
      "Kelas dha: 187 gambar\n",
      "Kelas ga: 187 gambar\n",
      "Kelas ha: 181 gambar\n",
      "Kelas ja: 187 gambar\n",
      "Kelas ka: 187 gambar\n",
      "Kelas la: 187 gambar\n",
      "Kelas ma: 187 gambar\n",
      "Kelas na: 187 gambar\n",
      "Kelas nga: 181 gambar\n",
      "Kelas nya: 187 gambar\n",
      "Kelas pa: 187 gambar\n",
      "Kelas ra: 186 gambar\n",
      "Kelas sa: 187 gambar\n",
      "Kelas ta: 187 gambar\n",
      "Kelas tha: 187 gambar\n",
      "Kelas wa: 187 gambar\n",
      "Kelas ya: 187 gambar\n"
     ]
    }
   ],
   "source": [
    "import os\n",
    "\n",
    "# Path ke direktori yang berisi folder kelas\n",
    "path_to_dataset = '../TA/merged_dataset'\n",
    "\n",
    "# Membuat dictionary untuk menyimpan jumlah gambar per kelas\n",
    "jumlah_per_kelas = {}\n",
    "\n",
    "# Iterasi melalui setiap folder kelas\n",
    "for kelas in os.listdir(path_to_dataset):\n",
    "    # Menghitung jumlah file gambar PNG dalam setiap folder kelas\n",
    "    path_kelas = os.path.join(path_to_dataset, kelas)\n",
    "    if os.path.isdir(path_kelas):\n",
    "        jumlah_gambar = len([file for file in os.listdir(path_kelas) if file.endswith('.png')])\n",
    "        jumlah_per_kelas[kelas] = jumlah_gambar\n",
    "\n",
    "# Menampilkan hasil\n",
    "for kelas, jumlah in jumlah_per_kelas.items():\n",
    "    print(f'Kelas {kelas}: {jumlah} gambar')"
   ]
  },
  {
   "cell_type": "code",
   "execution_count": 11,
   "id": "369360ef-a20f-4e36-984b-4b0353d80674",
   "metadata": {
    "tags": []
   },
   "outputs": [
    {
     "name": "stdout",
     "output_type": "stream",
     "text": [
      "Error opening 4696038101413220221_base64_32.png: cannot identify image file '../TA/merged_dataset\\\\dha\\\\4696038101413220221_base64_32.png'\n",
      "Error opening 4697111846216686148_base64_32.png: cannot identify image file '../TA/merged_dataset\\\\dha\\\\4697111846216686148_base64_32.png'\n",
      "Error opening 4696394596413810473_base64_43.png: cannot identify image file '../TA/merged_dataset\\\\ga\\\\4696394596413810473_base64_43.png'\n",
      "Error opening 4694803355817399930_base64_5.png: cannot identify image file '../TA/merged_dataset\\\\ha\\\\4694803355817399930_base64_5.png'\n",
      "Error opening 4694023059412567494_base64_34.png: cannot identify image file '../TA/merged_dataset\\\\ja\\\\4694023059412567494_base64_34.png'\n",
      "Error opening 4695952290615665559_base64_27.png: cannot identify image file '../TA/merged_dataset\\\\la\\\\4695952290615665559_base64_27.png'\n",
      "Error opening 4695963539838682931_base64_38.png: cannot identify image file '../TA/merged_dataset\\\\nya\\\\4695963539838682931_base64_38.png'\n",
      "Error opening 4694579845264951891_base64_30.png: cannot identify image file '../TA/merged_dataset\\\\pa\\\\4694579845264951891_base64_30.png'\n",
      "Error opening 4696000994938205989_base64_30.png: cannot identify image file '../TA/merged_dataset\\\\pa\\\\4696000994938205989_base64_30.png'\n",
      "Error opening 4694221966812671068_base64_14.png: cannot identify image file '../TA/merged_dataset\\\\ra\\\\4694221966812671068_base64_14.png'\n",
      "Error opening 4695660931512476490_base64_14.png: cannot identify image file '../TA/merged_dataset\\\\ra\\\\4695660931512476490_base64_14.png'\n",
      "Error opening 4695874552811358083_base64_14.png: cannot identify image file '../TA/merged_dataset\\\\ra\\\\4695874552811358083_base64_14.png'\n",
      "Error opening 4693403521314974166_base64_21.png: cannot identify image file '../TA/merged_dataset\\\\ta\\\\4693403521314974166_base64_21.png'\n",
      "Error opening 4694044299313201617_base64_21.png: cannot identify image file '../TA/merged_dataset\\\\ta\\\\4694044299313201617_base64_21.png'\n",
      "Error opening 4694584611982169565_base64_21.png: cannot identify image file '../TA/merged_dataset\\\\ta\\\\4694584611982169565_base64_21.png'\n",
      "Error opening 4695963539838682931_base64_47.png: cannot identify image file '../TA/merged_dataset\\\\tha\\\\4695963539838682931_base64_47.png'\n",
      "Error opening 4696273780025212257_base64_47.png: cannot identify image file '../TA/merged_dataset\\\\tha\\\\4696273780025212257_base64_47.png'\n"
     ]
    }
   ],
   "source": [
    "from PIL import Image\n",
    "import os\n",
    "\n",
    "dataset_path = '../TA/merged_dataset'\n",
    "\n",
    "for root, dirs, files in os.walk(dataset_path):\n",
    "    for file in files:\n",
    "        if file.endswith(\".png\"):\n",
    "            try:\n",
    "                image_path = os.path.join(root, file)\n",
    "                image = Image.open(image_path)\n",
    "                # Lanjutkan pemrosesan gambar jika berhasil dibuka\n",
    "            except Exception as e:\n",
    "                print(f\"Error opening {file}: {e}\")\n",
    "                # Tindakan penanganan kesalahan lainnya jika diperlukan\n"
   ]
  },
  {
   "cell_type": "code",
   "execution_count": 12,
   "id": "d00c674f-b999-4ade-b2cb-7c714187caba",
   "metadata": {
    "tags": []
   },
   "outputs": [
    {
     "name": "stdout",
     "output_type": "stream",
     "text": [
      "Error reading 4696038101413220221_base64_32.png with OpenCV\n",
      "Error reading 4697111846216686148_base64_32.png with OpenCV\n",
      "Error reading 4696394596413810473_base64_43.png with OpenCV\n",
      "Error reading 4694803355817399930_base64_5.png with OpenCV\n",
      "Error reading 4694023059412567494_base64_34.png with OpenCV\n",
      "Error reading 4695952290615665559_base64_27.png with OpenCV\n",
      "Error reading 4695963539838682931_base64_38.png with OpenCV\n",
      "Error reading 4694579845264951891_base64_30.png with OpenCV\n",
      "Error reading 4696000994938205989_base64_30.png with OpenCV\n",
      "Error reading 4694221966812671068_base64_14.png with OpenCV\n",
      "Error reading 4695660931512476490_base64_14.png with OpenCV\n",
      "Error reading 4695874552811358083_base64_14.png with OpenCV\n",
      "Error reading 4693403521314974166_base64_21.png with OpenCV\n",
      "Error reading 4694044299313201617_base64_21.png with OpenCV\n",
      "Error reading 4694584611982169565_base64_21.png with OpenCV\n",
      "Error reading 4695963539838682931_base64_47.png with OpenCV\n",
      "Error reading 4696273780025212257_base64_47.png with OpenCV\n"
     ]
    }
   ],
   "source": [
    "import cv2\n",
    "\n",
    "for root, dirs, files in os.walk(dataset_path):\n",
    "    for file in files:\n",
    "        if file.endswith(\".png\"):\n",
    "            try:\n",
    "                image_path = os.path.join(root, file)\n",
    "                image = cv2.imread(image_path)\n",
    "                if image is None:\n",
    "                    print(f\"Error reading {file} with OpenCV\")\n",
    "                    # Tindakan penanganan kesalahan lainnya jika diperlukan\n",
    "            except Exception as e:\n",
    "                print(f\"Error: {e}\")\n",
    "                # Tindakan penanganan kesalahan lainnya jika diperlukan\n"
   ]
  },
  {
   "cell_type": "code",
   "execution_count": 13,
   "id": "86cbdb30-3e99-409d-b1a5-c51b7dfc6728",
   "metadata": {
    "tags": []
   },
   "outputs": [
    {
     "name": "stdout",
     "output_type": "stream",
     "text": [
      "Invalid image: ../TA/merged_dataset\\dha\\4696038101413220221_base64_32.png - cannot identify image file '../TA/merged_dataset\\\\dha\\\\4696038101413220221_base64_32.png'\n",
      "Removed invalid image: ../TA/merged_dataset\\dha\\4696038101413220221_base64_32.png\n",
      "Invalid image: ../TA/merged_dataset\\dha\\4697111846216686148_base64_32.png - cannot identify image file '../TA/merged_dataset\\\\dha\\\\4697111846216686148_base64_32.png'\n",
      "Removed invalid image: ../TA/merged_dataset\\dha\\4697111846216686148_base64_32.png\n",
      "Invalid image: ../TA/merged_dataset\\ga\\4696394596413810473_base64_43.png - cannot identify image file '../TA/merged_dataset\\\\ga\\\\4696394596413810473_base64_43.png'\n",
      "Removed invalid image: ../TA/merged_dataset\\ga\\4696394596413810473_base64_43.png\n",
      "Invalid image: ../TA/merged_dataset\\ha\\4694803355817399930_base64_5.png - cannot identify image file '../TA/merged_dataset\\\\ha\\\\4694803355817399930_base64_5.png'\n",
      "Removed invalid image: ../TA/merged_dataset\\ha\\4694803355817399930_base64_5.png\n",
      "Invalid image: ../TA/merged_dataset\\ja\\4694023059412567494_base64_34.png - cannot identify image file '../TA/merged_dataset\\\\ja\\\\4694023059412567494_base64_34.png'\n",
      "Removed invalid image: ../TA/merged_dataset\\ja\\4694023059412567494_base64_34.png\n",
      "Invalid image: ../TA/merged_dataset\\la\\4695952290615665559_base64_27.png - cannot identify image file '../TA/merged_dataset\\\\la\\\\4695952290615665559_base64_27.png'\n",
      "Removed invalid image: ../TA/merged_dataset\\la\\4695952290615665559_base64_27.png\n",
      "Invalid image: ../TA/merged_dataset\\nya\\4695963539838682931_base64_38.png - cannot identify image file '../TA/merged_dataset\\\\nya\\\\4695963539838682931_base64_38.png'\n",
      "Removed invalid image: ../TA/merged_dataset\\nya\\4695963539838682931_base64_38.png\n",
      "Invalid image: ../TA/merged_dataset\\pa\\4694579845264951891_base64_30.png - cannot identify image file '../TA/merged_dataset\\\\pa\\\\4694579845264951891_base64_30.png'\n",
      "Removed invalid image: ../TA/merged_dataset\\pa\\4694579845264951891_base64_30.png\n",
      "Invalid image: ../TA/merged_dataset\\pa\\4696000994938205989_base64_30.png - cannot identify image file '../TA/merged_dataset\\\\pa\\\\4696000994938205989_base64_30.png'\n",
      "Removed invalid image: ../TA/merged_dataset\\pa\\4696000994938205989_base64_30.png\n",
      "Invalid image: ../TA/merged_dataset\\ra\\4694221966812671068_base64_14.png - cannot identify image file '../TA/merged_dataset\\\\ra\\\\4694221966812671068_base64_14.png'\n",
      "Removed invalid image: ../TA/merged_dataset\\ra\\4694221966812671068_base64_14.png\n",
      "Invalid image: ../TA/merged_dataset\\ra\\4695660931512476490_base64_14.png - cannot identify image file '../TA/merged_dataset\\\\ra\\\\4695660931512476490_base64_14.png'\n",
      "Removed invalid image: ../TA/merged_dataset\\ra\\4695660931512476490_base64_14.png\n",
      "Invalid image: ../TA/merged_dataset\\ra\\4695874552811358083_base64_14.png - cannot identify image file '../TA/merged_dataset\\\\ra\\\\4695874552811358083_base64_14.png'\n",
      "Removed invalid image: ../TA/merged_dataset\\ra\\4695874552811358083_base64_14.png\n",
      "Invalid image: ../TA/merged_dataset\\ta\\4693403521314974166_base64_21.png - cannot identify image file '../TA/merged_dataset\\\\ta\\\\4693403521314974166_base64_21.png'\n",
      "Removed invalid image: ../TA/merged_dataset\\ta\\4693403521314974166_base64_21.png\n",
      "Invalid image: ../TA/merged_dataset\\ta\\4694044299313201617_base64_21.png - cannot identify image file '../TA/merged_dataset\\\\ta\\\\4694044299313201617_base64_21.png'\n",
      "Removed invalid image: ../TA/merged_dataset\\ta\\4694044299313201617_base64_21.png\n",
      "Invalid image: ../TA/merged_dataset\\ta\\4694584611982169565_base64_21.png - cannot identify image file '../TA/merged_dataset\\\\ta\\\\4694584611982169565_base64_21.png'\n",
      "Removed invalid image: ../TA/merged_dataset\\ta\\4694584611982169565_base64_21.png\n",
      "Invalid image: ../TA/merged_dataset\\tha\\4695963539838682931_base64_47.png - cannot identify image file '../TA/merged_dataset\\\\tha\\\\4695963539838682931_base64_47.png'\n",
      "Removed invalid image: ../TA/merged_dataset\\tha\\4695963539838682931_base64_47.png\n",
      "Invalid image: ../TA/merged_dataset\\tha\\4696273780025212257_base64_47.png - cannot identify image file '../TA/merged_dataset\\\\tha\\\\4696273780025212257_base64_47.png'\n",
      "Removed invalid image: ../TA/merged_dataset\\tha\\4696273780025212257_base64_47.png\n"
     ]
    }
   ],
   "source": [
    "from PIL import Image\n",
    "import os\n",
    "\n",
    "def is_image_valid(image_path):\n",
    "    try:\n",
    "        Image.open(image_path)\n",
    "        return True\n",
    "    except Exception as e:\n",
    "        print(f\"Invalid image: {image_path} - {e}\")\n",
    "        return False\n",
    "\n",
    "def remove_invalid_images(dataset_path):\n",
    "    for root, dirs, files in os.walk(dataset_path):\n",
    "        for file in files:\n",
    "            if file.endswith(\".png\"):\n",
    "                image_path = os.path.join(root, file)\n",
    "                if not is_image_valid(image_path):\n",
    "                    try:\n",
    "                        os.remove(image_path)\n",
    "                        print(f\"Removed invalid image: {image_path}\")\n",
    "                    except Exception as e:\n",
    "                        print(f\"Error removing image: {image_path} - {e}\")\n",
    "\n",
    "# Ganti \"path_to_dataset\" dengan path dataset Anda\n",
    "dataset_path = '../TA/merged_dataset'\n",
    "\n",
    "# Panggil fungsi untuk menghapus gambar yang tidak dapat dibuka\n",
    "remove_invalid_images(dataset_path)"
   ]
  },
  {
   "cell_type": "code",
   "execution_count": 14,
   "id": "6f3c34ff-dccf-499a-bd62-f8383ee55e53",
   "metadata": {
    "tags": []
   },
   "outputs": [
    {
     "name": "stdout",
     "output_type": "stream",
     "text": [
      "All images in the dataset are valid.\n"
     ]
    }
   ],
   "source": [
    "from PIL import Image\n",
    "import os\n",
    "\n",
    "def is_image_valid(image_path):\n",
    "    try:\n",
    "        Image.open(image_path)\n",
    "        return True\n",
    "    except Exception as e:\n",
    "        print(f\"Invalid image: {image_path} - {e}\")\n",
    "        return False\n",
    "\n",
    "def check_dataset_validity(dataset_path):\n",
    "    for root, dirs, files in os.walk(dataset_path):\n",
    "        for file in files:\n",
    "            if file.endswith(\".png\"):\n",
    "                image_path = os.path.join(root, file)\n",
    "                if not is_image_valid(image_path):\n",
    "                    print(f\"Dataset still contains invalid images after removal.\")\n",
    "                    return\n",
    "    print(\"All images in the dataset are valid.\")\n",
    "\n",
    "# Ganti \"path_to_dataset\" dengan path dataset Anda\n",
    "dataset_path = '../TA/merged_dataset'\n",
    "\n",
    "# Panggil fungsi untuk memeriksa kembali keberlanjutan dataset\n",
    "check_dataset_validity(dataset_path)"
   ]
  },
  {
   "cell_type": "code",
   "execution_count": 15,
   "id": "df018173-aa81-455c-982f-63ea5f4c794c",
   "metadata": {
    "tags": []
   },
   "outputs": [
    {
     "name": "stdout",
     "output_type": "stream",
     "text": [
      "Class: ba, Number of Images: 193\n",
      "Class: ca, Number of Images: 187\n",
      "Class: da, Number of Images: 187\n",
      "Class: dha, Number of Images: 185\n",
      "Class: ga, Number of Images: 186\n",
      "Class: ha, Number of Images: 180\n",
      "Class: ja, Number of Images: 186\n",
      "Class: ka, Number of Images: 187\n",
      "Class: la, Number of Images: 186\n",
      "Class: ma, Number of Images: 187\n",
      "Class: na, Number of Images: 187\n",
      "Class: nga, Number of Images: 181\n",
      "Class: nya, Number of Images: 186\n",
      "Class: pa, Number of Images: 185\n",
      "Class: ra, Number of Images: 183\n",
      "Class: sa, Number of Images: 187\n",
      "Class: ta, Number of Images: 184\n",
      "Class: tha, Number of Images: 185\n",
      "Class: wa, Number of Images: 187\n",
      "Class: ya, Number of Images: 187\n"
     ]
    }
   ],
   "source": [
    "import os\n",
    "\n",
    "def count_images_per_class(dataset_path):\n",
    "    class_counts = {}\n",
    "\n",
    "    for root, dirs, files in os.walk(dataset_path):\n",
    "        for dir_name in dirs:\n",
    "            class_path = os.path.join(root, dir_name)\n",
    "            num_images = len([f for f in os.listdir(class_path) if f.endswith('.png')])\n",
    "            class_counts[dir_name] = num_images\n",
    "\n",
    "    return class_counts\n",
    "\n",
    "# Ganti \"path_to_dataset\" dengan path dataset Anda\n",
    "dataset_path = '../TA/merged_dataset'\n",
    "\n",
    "# Panggil fungsi untuk menghitung jumlah gambar per kelas\n",
    "counts_per_class = count_images_per_class(dataset_path)\n",
    "\n",
    "# Cetak hasil\n",
    "for class_name, count in counts_per_class.items():\n",
    "    print(f\"Class: {class_name}, Number of Images: {count}\")\n"
   ]
  },
  {
   "cell_type": "markdown",
   "id": "d8c18738-4d3a-4f43-b332-e22250bae46f",
   "metadata": {
    "tags": []
   },
   "source": [
    "# Augmentasi "
   ]
  },
  {
   "cell_type": "code",
   "execution_count": 1,
   "id": "5790c176-971b-42f9-9827-c0daaab2e8a0",
   "metadata": {
    "tags": []
   },
   "outputs": [
    {
     "ename": "OSError",
     "evalue": "image file is truncated",
     "output_type": "error",
     "traceback": [
      "\u001b[1;31m---------------------------------------------------------------------------\u001b[0m",
      "\u001b[1;31merror\u001b[0m                                     Traceback (most recent call last)",
      "File \u001b[1;32m~\\anaconda3\\Lib\\site-packages\\PIL\\ImageFile.py:249\u001b[0m, in \u001b[0;36mImageFile.load\u001b[1;34m(self)\u001b[0m\n\u001b[0;32m    248\u001b[0m \u001b[38;5;28;01mtry\u001b[39;00m:\n\u001b[1;32m--> 249\u001b[0m     s \u001b[38;5;241m=\u001b[39m read(\u001b[38;5;28mself\u001b[39m\u001b[38;5;241m.\u001b[39mdecodermaxblock)\n\u001b[0;32m    250\u001b[0m \u001b[38;5;28;01mexcept\u001b[39;00m (\u001b[38;5;167;01mIndexError\u001b[39;00m, struct\u001b[38;5;241m.\u001b[39merror) \u001b[38;5;28;01mas\u001b[39;00m e:\n\u001b[0;32m    251\u001b[0m     \u001b[38;5;66;03m# truncated png/gif\u001b[39;00m\n",
      "File \u001b[1;32m~\\anaconda3\\Lib\\site-packages\\PIL\\PngImagePlugin.py:957\u001b[0m, in \u001b[0;36mPngImageFile.load_read\u001b[1;34m(self, read_bytes)\u001b[0m\n\u001b[0;32m    955\u001b[0m \u001b[38;5;28mself\u001b[39m\u001b[38;5;241m.\u001b[39mfp\u001b[38;5;241m.\u001b[39mread(\u001b[38;5;241m4\u001b[39m)  \u001b[38;5;66;03m# CRC\u001b[39;00m\n\u001b[1;32m--> 957\u001b[0m cid, pos, length \u001b[38;5;241m=\u001b[39m \u001b[38;5;28mself\u001b[39m\u001b[38;5;241m.\u001b[39mpng\u001b[38;5;241m.\u001b[39mread()\n\u001b[0;32m    959\u001b[0m \u001b[38;5;28;01mif\u001b[39;00m cid \u001b[38;5;129;01mnot\u001b[39;00m \u001b[38;5;129;01min\u001b[39;00m [\u001b[38;5;124mb\u001b[39m\u001b[38;5;124m\"\u001b[39m\u001b[38;5;124mIDAT\u001b[39m\u001b[38;5;124m\"\u001b[39m, \u001b[38;5;124mb\u001b[39m\u001b[38;5;124m\"\u001b[39m\u001b[38;5;124mDDAT\u001b[39m\u001b[38;5;124m\"\u001b[39m, \u001b[38;5;124mb\u001b[39m\u001b[38;5;124m\"\u001b[39m\u001b[38;5;124mfdAT\u001b[39m\u001b[38;5;124m\"\u001b[39m]:\n",
      "File \u001b[1;32m~\\anaconda3\\Lib\\site-packages\\PIL\\PngImagePlugin.py:179\u001b[0m, in \u001b[0;36mChunkStream.read\u001b[1;34m(self)\u001b[0m\n\u001b[0;32m    178\u001b[0m     pos \u001b[38;5;241m=\u001b[39m \u001b[38;5;28mself\u001b[39m\u001b[38;5;241m.\u001b[39mfp\u001b[38;5;241m.\u001b[39mtell()\n\u001b[1;32m--> 179\u001b[0m     length \u001b[38;5;241m=\u001b[39m i32(s)\n\u001b[0;32m    181\u001b[0m \u001b[38;5;28;01mif\u001b[39;00m \u001b[38;5;129;01mnot\u001b[39;00m is_cid(cid):\n",
      "File \u001b[1;32m~\\anaconda3\\Lib\\site-packages\\PIL\\_binary.py:85\u001b[0m, in \u001b[0;36mi32be\u001b[1;34m(c, o)\u001b[0m\n\u001b[0;32m     84\u001b[0m \u001b[38;5;28;01mdef\u001b[39;00m \u001b[38;5;21mi32be\u001b[39m(c, o\u001b[38;5;241m=\u001b[39m\u001b[38;5;241m0\u001b[39m):\n\u001b[1;32m---> 85\u001b[0m     \u001b[38;5;28;01mreturn\u001b[39;00m unpack_from(\u001b[38;5;124m\"\u001b[39m\u001b[38;5;124m>I\u001b[39m\u001b[38;5;124m\"\u001b[39m, c, o)[\u001b[38;5;241m0\u001b[39m]\n",
      "\u001b[1;31merror\u001b[0m: unpack_from requires a buffer of at least 4 bytes for unpacking 4 bytes at offset 0 (actual buffer size is 0)",
      "\nThe above exception was the direct cause of the following exception:\n",
      "\u001b[1;31mOSError\u001b[0m                                   Traceback (most recent call last)",
      "Cell \u001b[1;32mIn[1], line 38\u001b[0m\n\u001b[0;32m     35\u001b[0m img_path \u001b[38;5;241m=\u001b[39m os\u001b[38;5;241m.\u001b[39mpath\u001b[38;5;241m.\u001b[39mjoin(class_path, filename)\n\u001b[0;32m     37\u001b[0m \u001b[38;5;66;03m# Load gambar dan ubah menjadi array numpy\u001b[39;00m\n\u001b[1;32m---> 38\u001b[0m img \u001b[38;5;241m=\u001b[39m image\u001b[38;5;241m.\u001b[39mload_img(img_path, target_size\u001b[38;5;241m=\u001b[39m(\u001b[38;5;241m150\u001b[39m, \u001b[38;5;241m150\u001b[39m))\n\u001b[0;32m     39\u001b[0m x \u001b[38;5;241m=\u001b[39m image\u001b[38;5;241m.\u001b[39mimg_to_array(img)\n\u001b[0;32m     40\u001b[0m x \u001b[38;5;241m=\u001b[39m x\u001b[38;5;241m.\u001b[39mreshape((\u001b[38;5;241m1\u001b[39m,) \u001b[38;5;241m+\u001b[39m x\u001b[38;5;241m.\u001b[39mshape)\n",
      "File \u001b[1;32m~\\anaconda3\\Lib\\site-packages\\keras\\src\\utils\\image_utils.py:439\u001b[0m, in \u001b[0;36mload_img\u001b[1;34m(path, grayscale, color_mode, target_size, interpolation, keep_aspect_ratio)\u001b[0m\n\u001b[0;32m    437\u001b[0m \u001b[38;5;28;01melif\u001b[39;00m color_mode \u001b[38;5;241m==\u001b[39m \u001b[38;5;124m\"\u001b[39m\u001b[38;5;124mrgb\u001b[39m\u001b[38;5;124m\"\u001b[39m:\n\u001b[0;32m    438\u001b[0m     \u001b[38;5;28;01mif\u001b[39;00m img\u001b[38;5;241m.\u001b[39mmode \u001b[38;5;241m!=\u001b[39m \u001b[38;5;124m\"\u001b[39m\u001b[38;5;124mRGB\u001b[39m\u001b[38;5;124m\"\u001b[39m:\n\u001b[1;32m--> 439\u001b[0m         img \u001b[38;5;241m=\u001b[39m img\u001b[38;5;241m.\u001b[39mconvert(\u001b[38;5;124m\"\u001b[39m\u001b[38;5;124mRGB\u001b[39m\u001b[38;5;124m\"\u001b[39m)\n\u001b[0;32m    440\u001b[0m \u001b[38;5;28;01melse\u001b[39;00m:\n\u001b[0;32m    441\u001b[0m     \u001b[38;5;28;01mraise\u001b[39;00m \u001b[38;5;167;01mValueError\u001b[39;00m(\u001b[38;5;124m'\u001b[39m\u001b[38;5;124mcolor_mode must be \u001b[39m\u001b[38;5;124m\"\u001b[39m\u001b[38;5;124mgrayscale\u001b[39m\u001b[38;5;124m\"\u001b[39m\u001b[38;5;124m, \u001b[39m\u001b[38;5;124m\"\u001b[39m\u001b[38;5;124mrgb\u001b[39m\u001b[38;5;124m\"\u001b[39m\u001b[38;5;124m, or \u001b[39m\u001b[38;5;124m\"\u001b[39m\u001b[38;5;124mrgba\u001b[39m\u001b[38;5;124m\"\u001b[39m\u001b[38;5;124m'\u001b[39m)\n",
      "File \u001b[1;32m~\\anaconda3\\Lib\\site-packages\\PIL\\Image.py:937\u001b[0m, in \u001b[0;36mImage.convert\u001b[1;34m(self, mode, matrix, dither, palette, colors)\u001b[0m\n\u001b[0;32m    889\u001b[0m \u001b[38;5;28;01mdef\u001b[39;00m \u001b[38;5;21mconvert\u001b[39m(\n\u001b[0;32m    890\u001b[0m     \u001b[38;5;28mself\u001b[39m, mode\u001b[38;5;241m=\u001b[39m\u001b[38;5;28;01mNone\u001b[39;00m, matrix\u001b[38;5;241m=\u001b[39m\u001b[38;5;28;01mNone\u001b[39;00m, dither\u001b[38;5;241m=\u001b[39m\u001b[38;5;28;01mNone\u001b[39;00m, palette\u001b[38;5;241m=\u001b[39mPalette\u001b[38;5;241m.\u001b[39mWEB, colors\u001b[38;5;241m=\u001b[39m\u001b[38;5;241m256\u001b[39m\n\u001b[0;32m    891\u001b[0m ):\n\u001b[0;32m    892\u001b[0m \u001b[38;5;250m    \u001b[39m\u001b[38;5;124;03m\"\"\"\u001b[39;00m\n\u001b[0;32m    893\u001b[0m \u001b[38;5;124;03m    Returns a converted copy of this image. For the \"P\" mode, this\u001b[39;00m\n\u001b[0;32m    894\u001b[0m \u001b[38;5;124;03m    method translates pixels through the palette.  If mode is\u001b[39;00m\n\u001b[1;32m   (...)\u001b[0m\n\u001b[0;32m    934\u001b[0m \u001b[38;5;124;03m    :returns: An :py:class:`~PIL.Image.Image` object.\u001b[39;00m\n\u001b[0;32m    935\u001b[0m \u001b[38;5;124;03m    \"\"\"\u001b[39;00m\n\u001b[1;32m--> 937\u001b[0m     \u001b[38;5;28mself\u001b[39m\u001b[38;5;241m.\u001b[39mload()\n\u001b[0;32m    939\u001b[0m     has_transparency \u001b[38;5;241m=\u001b[39m \u001b[38;5;28mself\u001b[39m\u001b[38;5;241m.\u001b[39minfo\u001b[38;5;241m.\u001b[39mget(\u001b[38;5;124m\"\u001b[39m\u001b[38;5;124mtransparency\u001b[39m\u001b[38;5;124m\"\u001b[39m) \u001b[38;5;129;01mis\u001b[39;00m \u001b[38;5;129;01mnot\u001b[39;00m \u001b[38;5;28;01mNone\u001b[39;00m\n\u001b[0;32m    940\u001b[0m     \u001b[38;5;28;01mif\u001b[39;00m \u001b[38;5;129;01mnot\u001b[39;00m mode \u001b[38;5;129;01mand\u001b[39;00m \u001b[38;5;28mself\u001b[39m\u001b[38;5;241m.\u001b[39mmode \u001b[38;5;241m==\u001b[39m \u001b[38;5;124m\"\u001b[39m\u001b[38;5;124mP\u001b[39m\u001b[38;5;124m\"\u001b[39m:\n\u001b[0;32m    941\u001b[0m         \u001b[38;5;66;03m# determine default mode\u001b[39;00m\n",
      "File \u001b[1;32m~\\anaconda3\\Lib\\site-packages\\PIL\\ImageFile.py:256\u001b[0m, in \u001b[0;36mImageFile.load\u001b[1;34m(self)\u001b[0m\n\u001b[0;32m    254\u001b[0m     \u001b[38;5;28;01melse\u001b[39;00m:\n\u001b[0;32m    255\u001b[0m         msg \u001b[38;5;241m=\u001b[39m \u001b[38;5;124m\"\u001b[39m\u001b[38;5;124mimage file is truncated\u001b[39m\u001b[38;5;124m\"\u001b[39m\n\u001b[1;32m--> 256\u001b[0m         \u001b[38;5;28;01mraise\u001b[39;00m \u001b[38;5;167;01mOSError\u001b[39;00m(msg) \u001b[38;5;28;01mfrom\u001b[39;00m \u001b[38;5;21;01me\u001b[39;00m\n\u001b[0;32m    258\u001b[0m \u001b[38;5;28;01mif\u001b[39;00m \u001b[38;5;129;01mnot\u001b[39;00m s:  \u001b[38;5;66;03m# truncated jpeg\u001b[39;00m\n\u001b[0;32m    259\u001b[0m     \u001b[38;5;28;01mif\u001b[39;00m LOAD_TRUNCATED_IMAGES:\n",
      "\u001b[1;31mOSError\u001b[0m: image file is truncated"
     ]
    }
   ],
   "source": [
    "from keras.preprocessing.image import ImageDataGenerator\n",
    "from keras.preprocessing import image\n",
    "import os\n",
    "\n",
    "# Ganti \"path_to_dataset\" dengan path dataset Anda\n",
    "dataset_path = '../TA/merged_dataset'\n",
    "\n",
    "# Ganti \"path_to_save\" dengan path tempat menyimpan gambar hasil augmentasi\n",
    "output_path = '../TA/exmAug'\n",
    "\n",
    "# Membuat instance ImageDataGenerator\n",
    "datagen = ImageDataGenerator(\n",
    "    rotation_range=40,\n",
    "    width_shift_range=0.2,\n",
    "    height_shift_range=0.2,\n",
    "    shear_range=0.2,\n",
    "    zoom_range=0.2,\n",
    "    horizontal_flip=True,\n",
    "    fill_mode='nearest'\n",
    ")\n",
    "\n",
    "# Mendapatkan daftar kelas dari direktori dataset\n",
    "class_names = os.listdir(dataset_path)\n",
    "\n",
    "# Menggunakan ImageDataGenerator untuk setiap kelas\n",
    "for class_name in class_names:\n",
    "    class_path = os.path.join(dataset_path, class_name)\n",
    "\n",
    "    # Membuat direktori untuk hasil augmentasi jika belum ada\n",
    "    output_class_path = os.path.join(output_path, class_name)\n",
    "    os.makedirs(output_class_path, exist_ok=True)\n",
    "\n",
    "    # Mengiterasi melalui setiap gambar dalam kelas\n",
    "    for filename in os.listdir(class_path):\n",
    "        img_path = os.path.join(class_path, filename)\n",
    "\n",
    "        # Load gambar dan ubah menjadi array numpy\n",
    "        img = image.load_img(img_path, target_size=(150, 150))\n",
    "        x = image.img_to_array(img)\n",
    "        x = x.reshape((1,) + x.shape)\n",
    "\n",
    "        # Generate augmented images\n",
    "        i = 0\n",
    "        for batch in datagen.flow(x, batch_size=1, save_to_dir=output_class_path, save_prefix='aug', save_format='png'):\n",
    "            i += 1\n",
    "            if i > 4:  # Hanya menyimpan 5 gambar yang telah di-augmentasi per gambar asli\n",
    "                break\n"
   ]
  },
  {
   "cell_type": "code",
   "execution_count": null,
   "id": "45c37d7d-8461-4ffd-9fba-2da47cd16e4e",
   "metadata": {},
   "outputs": [],
   "source": []
  }
 ],
 "metadata": {
  "kernelspec": {
   "display_name": "Python 3 (ipykernel)",
   "language": "python",
   "name": "python3"
  },
  "language_info": {
   "codemirror_mode": {
    "name": "ipython",
    "version": 3
   },
   "file_extension": ".py",
   "mimetype": "text/x-python",
   "name": "python",
   "nbconvert_exporter": "python",
   "pygments_lexer": "ipython3",
   "version": "3.11.5"
  }
 },
 "nbformat": 4,
 "nbformat_minor": 5
}
