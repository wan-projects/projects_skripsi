{
 "cells": [
  {
   "cell_type": "markdown",
   "id": "bea8f3a3-3bf6-40eb-a0aa-01ab83f288ba",
   "metadata": {
    "id": "y7m-VPGjrNag",
    "jp-MarkdownHeadingCollapsed": true,
    "tags": []
   },
   "source": [
    "# Import Dataset "
   ]
  },
  {
   "cell_type": "code",
   "execution_count": 9,
   "id": "8621b764",
   "metadata": {},
   "outputs": [
    {
     "name": "stdout",
     "output_type": "stream",
     "text": [
      "Requirement already satisfied: kaggle in c:\\users\\wawn1\\anaconda3\\lib\\site-packages (1.5.16)\n",
      "Requirement already satisfied: six>=1.10 in c:\\users\\wawn1\\anaconda3\\lib\\site-packages (from kaggle) (1.16.0)\n",
      "Requirement already satisfied: certifi in c:\\users\\wawn1\\anaconda3\\lib\\site-packages (from kaggle) (2023.7.22)\n",
      "Requirement already satisfied: python-dateutil in c:\\users\\wawn1\\anaconda3\\lib\\site-packages (from kaggle) (2.8.2)\n",
      "Requirement already satisfied: requests in c:\\users\\wawn1\\anaconda3\\lib\\site-packages (from kaggle) (2.31.0)\n",
      "Requirement already satisfied: tqdm in c:\\users\\wawn1\\anaconda3\\lib\\site-packages (from kaggle) (4.65.0)\n",
      "Requirement already satisfied: python-slugify in c:\\users\\wawn1\\anaconda3\\lib\\site-packages (from kaggle) (5.0.2)\n",
      "Requirement already satisfied: urllib3 in c:\\users\\wawn1\\anaconda3\\lib\\site-packages (from kaggle) (1.26.16)\n",
      "Requirement already satisfied: bleach in c:\\users\\wawn1\\anaconda3\\lib\\site-packages (from kaggle) (4.1.0)\n",
      "Requirement already satisfied: packaging in c:\\users\\wawn1\\anaconda3\\lib\\site-packages (from bleach->kaggle) (23.1)\n",
      "Requirement already satisfied: webencodings in c:\\users\\wawn1\\anaconda3\\lib\\site-packages (from bleach->kaggle) (0.5.1)\n",
      "Requirement already satisfied: text-unidecode>=1.3 in c:\\users\\wawn1\\anaconda3\\lib\\site-packages (from python-slugify->kaggle) (1.3)\n",
      "Requirement already satisfied: charset-normalizer<4,>=2 in c:\\users\\wawn1\\anaconda3\\lib\\site-packages (from requests->kaggle) (2.0.4)\n",
      "Requirement already satisfied: idna<4,>=2.5 in c:\\users\\wawn1\\anaconda3\\lib\\site-packages (from requests->kaggle) (3.4)\n",
      "Requirement already satisfied: colorama in c:\\users\\wawn1\\anaconda3\\lib\\site-packages (from tqdm->kaggle) (0.4.6)\n"
     ]
    }
   ],
   "source": [
    "# Install the Kaggle library\n",
    "!pip install kaggle"
   ]
  },
  {
   "cell_type": "code",
   "execution_count": 10,
   "id": "f6d3975f-6d6c-4c40-b24b-55d3eaa1fb7d",
   "metadata": {},
   "outputs": [],
   "source": [
    "# Memindahkan File Konfigurasi Kaggle ke Direktori yang Sesuai\n",
    "!mv kaggle.json ~/.kaggle/"
   ]
  },
  {
   "cell_type": "code",
   "execution_count": 11,
   "id": "652c9052-80da-4d9f-b59b-d1f35f5f52ba",
   "metadata": {},
   "outputs": [],
   "source": [
    "# Konfigurasi Hak Akses File Kaggle\n",
    "!chmod 600 ~/.kaggle/kaggle.json"
   ]
  },
  {
   "cell_type": "code",
   "execution_count": 12,
   "id": "27575706-2fe0-43b6-81b9-ce49ed34894f",
   "metadata": {},
   "outputs": [
    {
     "name": "stdout",
     "output_type": "stream",
     "text": [
      "Downloading javanese-script-aksara-jawa-augmented.zip to C:\\Users\\wawn1\\TA\n",
      "\n"
     ]
    },
    {
     "name": "stderr",
     "output_type": "stream",
     "text": [
      "\n",
      "  0%|          | 0.00/132M [00:00<?, ?B/s]\n",
      "  1%|          | 1.00M/132M [00:02<05:33, 412kB/s]\n",
      "  2%|1         | 2.00M/132M [00:12<15:07, 150kB/s]\n",
      "  2%|2         | 3.00M/132M [00:18<14:05, 160kB/s]\n",
      "  3%|3         | 4.00M/132M [00:25<14:39, 153kB/s]\n",
      "  4%|3         | 5.00M/132M [00:31<13:21, 166kB/s]\n",
      "  5%|4         | 6.00M/132M [00:43<17:10, 128kB/s]\n",
      "  5%|5         | 7.00M/132M [00:51<17:14, 127kB/s]\n",
      "  6%|6         | 8.00M/132M [00:53<13:08, 165kB/s]\n",
      "  7%|6         | 9.00M/132M [01:01<14:02, 153kB/s]\n",
      "  8%|7         | 10.0M/132M [01:02<10:15, 208kB/s]\n",
      "  8%|8         | 11.0M/132M [01:06<09:17, 228kB/s]\n",
      "  9%|9         | 12.0M/132M [01:08<07:35, 277kB/s]\n",
      " 10%|9         | 13.0M/132M [01:12<07:43, 270kB/s]\n",
      " 11%|#         | 14.0M/132M [01:14<06:46, 305kB/s]\n",
      " 11%|#1        | 15.0M/132M [01:16<05:46, 355kB/s]\n",
      " 12%|#2        | 16.0M/132M [01:18<04:58, 408kB/s]\n",
      " 13%|#2        | 17.0M/132M [01:19<04:20, 464kB/s]\n",
      " 14%|#3        | 18.0M/132M [01:21<04:04, 491kB/s]\n",
      " 14%|#4        | 19.0M/132M [01:22<03:27, 571kB/s]\n",
      " 15%|#5        | 20.0M/132M [01:24<03:06, 632kB/s]\n",
      " 16%|#5        | 21.0M/132M [01:24<02:27, 789kB/s]\n",
      " 17%|#6        | 22.0M/132M [01:25<02:13, 865kB/s]\n",
      " 17%|#7        | 23.0M/132M [01:26<01:50, 1.04MB/s]\n",
      " 18%|#8        | 24.0M/132M [01:26<01:44, 1.09MB/s]\n",
      " 19%|#8        | 25.0M/132M [01:27<01:39, 1.12MB/s]\n",
      " 20%|#9        | 26.0M/132M [01:28<01:31, 1.22MB/s]\n",
      " 20%|##        | 27.0M/132M [01:29<01:31, 1.20MB/s]\n",
      " 21%|##1       | 28.0M/132M [01:30<01:22, 1.32MB/s]\n",
      " 22%|##1       | 29.0M/132M [01:31<01:31, 1.18MB/s]\n",
      " 23%|##2       | 30.0M/132M [01:32<01:35, 1.13MB/s]\n",
      " 23%|##3       | 31.0M/132M [01:33<01:35, 1.11MB/s]\n",
      " 24%|##4       | 32.0M/132M [01:34<01:46, 988kB/s] \n",
      " 25%|##4       | 33.0M/132M [01:35<01:46, 977kB/s]\n",
      " 26%|##5       | 34.0M/132M [01:36<01:51, 927kB/s]\n",
      " 26%|##6       | 35.0M/132M [01:37<01:44, 976kB/s]\n",
      " 27%|##7       | 36.0M/132M [01:45<04:57, 340kB/s]\n",
      " 28%|##7       | 37.0M/132M [01:48<04:38, 359kB/s]\n",
      " 29%|##8       | 38.0M/132M [01:51<04:49, 341kB/s]\n",
      " 30%|##9       | 39.0M/132M [01:59<07:10, 227kB/s]\n",
      " 30%|###       | 40.0M/132M [02:01<05:54, 273kB/s]\n",
      " 31%|###1      | 41.0M/132M [02:04<05:06, 312kB/s]\n",
      " 32%|###1      | 42.0M/132M [02:06<04:35, 344kB/s]\n",
      " 33%|###2      | 43.0M/132M [02:09<04:47, 325kB/s]\n",
      " 33%|###3      | 44.0M/132M [02:11<04:02, 381kB/s]\n",
      " 34%|###4      | 45.0M/132M [02:13<03:47, 402kB/s]\n",
      " 35%|###4      | 46.0M/132M [02:16<03:33, 423kB/s]\n",
      " 36%|###5      | 47.0M/132M [02:18<03:21, 443kB/s]\n",
      " 36%|###6      | 48.0M/132M [02:19<02:51, 514kB/s]\n",
      " 37%|###7      | 49.0M/132M [02:21<02:58, 490kB/s]\n",
      " 38%|###7      | 50.0M/132M [02:24<03:14, 443kB/s]\n",
      " 39%|###8      | 51.0M/132M [02:27<03:16, 433kB/s]\n",
      " 39%|###9      | 52.0M/132M [02:29<02:58, 472kB/s]\n",
      " 40%|####      | 53.0M/132M [02:31<03:10, 436kB/s]\n",
      " 41%|####      | 54.0M/132M [02:35<03:38, 374kB/s]\n",
      " 42%|####1     | 55.0M/132M [02:39<03:54, 345kB/s]\n",
      " 42%|####2     | 56.0M/132M [02:41<03:30, 379kB/s]\n",
      " 43%|####3     | 57.0M/132M [02:43<03:05, 426kB/s]\n",
      " 44%|####3     | 58.0M/132M [02:45<02:53, 448kB/s]\n",
      " 45%|####4     | 59.0M/132M [02:47<02:57, 433kB/s]\n",
      " 45%|####5     | 60.0M/132M [02:50<02:56, 428kB/s]\n",
      " 46%|####6     | 61.0M/132M [02:52<02:50, 437kB/s]\n",
      " 47%|####6     | 62.0M/132M [02:55<02:50, 431kB/s]\n",
      " 48%|####7     | 63.0M/132M [02:57<02:40, 453kB/s]\n",
      " 48%|####8     | 64.0M/132M [02:58<02:16, 525kB/s]\n",
      " 49%|####9     | 65.0M/132M [02:59<01:55, 611kB/s]\n",
      " 50%|####9     | 66.0M/132M [03:00<01:43, 669kB/s]\n",
      " 51%|#####     | 67.0M/132M [03:01<01:31, 747kB/s]\n",
      " 51%|#####1    | 68.0M/132M [03:03<01:32, 727kB/s]\n",
      " 52%|#####2    | 69.0M/132M [03:04<01:19, 837kB/s]\n",
      " 53%|#####2    | 70.0M/132M [03:04<01:05, 1.00MB/s]\n",
      " 54%|#####3    | 71.0M/132M [03:05<01:06, 969kB/s] \n",
      " 54%|#####4    | 72.0M/132M [03:06<01:04, 986kB/s]\n",
      " 55%|#####5    | 73.0M/132M [03:07<00:56, 1.09MB/s]\n",
      " 56%|#####5    | 74.0M/132M [03:08<00:57, 1.06MB/s]\n",
      " 57%|#####6    | 75.0M/132M [03:09<00:48, 1.23MB/s]\n",
      " 57%|#####7    | 76.0M/132M [03:10<00:49, 1.18MB/s]\n",
      " 58%|#####8    | 77.0M/132M [03:15<02:11, 442kB/s] \n",
      " 58%|#####8    | 77.0M/132M [03:30<02:11, 442kB/s]\n",
      " 59%|#####9    | 78.0M/132M [03:31<05:40, 167kB/s]\n",
      " 59%|#####9    | 78.0M/132M [03:50<05:40, 167kB/s]\n",
      " 60%|#####9    | 79.0M/132M [03:50<09:08, 102kB/s]\n",
      " 60%|#####9    | 79.0M/132M [04:10<09:08, 102kB/s]\n",
      " 61%|######    | 80.0M/132M [04:10<11:22, 80.2kB/s]\n",
      " 61%|######1   | 81.0M/132M [04:13<08:31, 105kB/s] \n",
      " 62%|######2   | 82.0M/132M [04:17<06:48, 129kB/s]\n",
      " 63%|######2   | 83.0M/132M [04:28<07:28, 115kB/s]\n",
      " 64%|######3   | 84.0M/132M [04:30<05:31, 153kB/s]\n",
      " 64%|######4   | 85.0M/132M [04:31<04:03, 204kB/s]\n",
      " 65%|######5   | 86.0M/132M [04:32<02:58, 271kB/s]\n",
      " 66%|######5   | 87.0M/132M [04:33<02:21, 336kB/s]\n",
      " 67%|######6   | 88.0M/132M [04:44<03:54, 197kB/s]\n",
      " 67%|######7   | 89.0M/132M [04:47<03:29, 216kB/s]\n",
      " 68%|######8   | 90.0M/132M [04:51<03:07, 236kB/s]\n",
      " 69%|######8   | 91.0M/132M [04:55<03:06, 232kB/s]\n",
      " 70%|######9   | 92.0M/132M [04:59<02:43, 257kB/s]\n",
      " 70%|#######   | 93.0M/132M [05:03<02:40, 256kB/s]\n",
      " 71%|#######1  | 94.0M/132M [05:06<02:28, 269kB/s]\n",
      " 72%|#######1  | 95.0M/132M [05:12<02:48, 232kB/s]\n",
      " 73%|#######2  | 96.0M/132M [05:23<03:48, 166kB/s]\n",
      " 73%|#######3  | 97.0M/132M [05:28<03:30, 176kB/s]\n",
      " 74%|#######4  | 98.0M/132M [05:30<02:46, 215kB/s]\n",
      " 75%|#######4  | 99.0M/132M [05:32<02:11, 265kB/s]\n",
      " 76%|#######5  | 100M/132M [05:33<01:40, 335kB/s] \n",
      " 76%|#######6  | 101M/132M [05:35<01:22, 394kB/s]\n",
      " 77%|#######7  | 102M/132M [05:36<01:08, 460kB/s]\n",
      " 78%|#######7  | 103M/132M [05:41<01:33, 326kB/s]\n",
      " 79%|#######8  | 104M/132M [05:48<01:59, 247kB/s]\n",
      " 79%|#######9  | 105M/132M [05:52<01:54, 249kB/s]\n",
      " 80%|########  | 106M/132M [06:03<02:40, 172kB/s]\n",
      " 81%|########  | 107M/132M [06:04<02:00, 219kB/s]\n",
      " 82%|########1 | 108M/132M [06:07<01:36, 264kB/s]\n",
      " 82%|########2 | 109M/132M [06:09<01:23, 292kB/s]\n",
      " 83%|########3 | 110M/132M [06:11<01:08, 338kB/s]\n",
      " 84%|########3 | 111M/132M [06:13<00:55, 404kB/s]\n",
      " 85%|########4 | 112M/132M [06:14<00:47, 445kB/s]\n",
      " 85%|########5 | 113M/132M [06:25<01:32, 218kB/s]\n",
      " 86%|########6 | 114M/132M [06:27<01:13, 259kB/s]\n",
      " 87%|########6 | 115M/132M [06:35<01:26, 208kB/s]\n",
      " 88%|########7 | 116M/132M [06:42<01:33, 182kB/s]\n",
      " 89%|########8 | 117M/132M [06:50<01:39, 161kB/s]\n",
      " 89%|########9 | 118M/132M [07:00<01:44, 142kB/s]\n",
      " 90%|######### | 119M/132M [07:03<01:21, 169kB/s]\n",
      " 91%|######### | 120M/132M [07:06<01:04, 198kB/s]\n",
      " 92%|#########1| 121M/132M [07:14<01:06, 176kB/s]\n",
      " 92%|#########2| 122M/132M [07:20<01:01, 174kB/s]\n",
      " 93%|#########3| 123M/132M [07:36<01:21, 118kB/s]\n",
      " 94%|#########3| 124M/132M [07:40<01:01, 139kB/s]\n",
      " 95%|#########4| 125M/132M [07:43<00:45, 167kB/s]\n",
      " 95%|#########5| 126M/132M [07:49<00:38, 170kB/s]\n",
      " 95%|#########5| 126M/132M [08:00<00:38, 170kB/s]\n",
      " 96%|#########6| 127M/132M [08:02<00:41, 131kB/s]\n",
      " 97%|#########6| 128M/132M [08:09<00:32, 134kB/s]\n",
      " 97%|#########6| 128M/132M [08:20<00:32, 134kB/s]\n",
      " 98%|#########7| 129M/132M [08:26<00:34, 98.4kB/s]\n",
      " 98%|#########7| 129M/132M [08:40<00:34, 98.4kB/s]\n",
      " 98%|#########8| 130M/132M [08:49<00:31, 74.0kB/s]\n",
      " 98%|#########8| 130M/132M [09:00<00:31, 74.0kB/s]\n",
      " 99%|#########9| 131M/132M [09:02<00:16, 75.8kB/s]\n",
      "100%|#########9| 132M/132M [09:07<00:02, 93.3kB/s]\n",
      "100%|##########| 132M/132M [09:08<00:00, 95.3kB/s]\n",
      "100%|##########| 132M/132M [09:08<00:00, 253kB/s] \n"
     ]
    }
   ],
   "source": [
    "# Unduh Dataset dari Kaggle\n",
    "! kaggle datasets download hannanhunafa/javanese-script-aksara-jawa-augmented --force"
   ]
  },
  {
   "cell_type": "code",
   "execution_count": 14,
   "id": "9d147ae7-a0b0-4d4b-b805-da3e36c966b2",
   "metadata": {},
   "outputs": [
    {
     "name": "stdout",
     "output_type": "stream",
     "text": [
      "Dataset telah diekstrak ke dataset/\n"
     ]
    }
   ],
   "source": [
    "import zipfile\n",
    "\n",
    "# Nama file zip Anda\n",
    "zip_file = 'javanese-script-aksara-jawa-augmented.zip'\n",
    "\n",
    "# Direktori tempat Anda ingin mengekstrak file-file dari zip\n",
    "extracted_dir = 'dataset/'\n",
    "\n",
    "# Membuka file zip\n",
    "with zipfile.ZipFile(zip_file, 'r') as zip_ref:\n",
    "    # Mengekstrak semua file ke dalam direktori tujuan\n",
    "    zip_ref.extractall(extracted_dir)\n",
    "\n",
    "print(f'Dataset telah diekstrak ke {extracted_dir}')"
   ]
  },
  {
   "cell_type": "markdown",
   "id": "d7082acc-e19d-4ed3-9761-2bba326c6255",
   "metadata": {
    "id": "y7m-VPGjrNag",
    "jp-MarkdownHeadingCollapsed": true,
    "tags": []
   },
   "source": [
    "# Preprocessing"
   ]
  },
  {
   "cell_type": "markdown",
   "id": "8cb7ff1e-19e5-431b-8713-2c4336aa36aa",
   "metadata": {
    "id": "y7m-VPGjrNag",
    "jp-MarkdownHeadingCollapsed": true,
    "tags": []
   },
   "source": [
    "# Data Visualization"
   ]
  },
  {
   "cell_type": "code",
   "execution_count": 24,
   "id": "658acf7f-ef27-49f3-83b4-2ea691dbfac3",
   "metadata": {
    "tags": []
   },
   "outputs": [
    {
     "data": {
      "image/png": "[encoded data removed]",
      "text/plain": [
       "<Figure size 640x480 with 1 Axes>"
      ]
     },
     "metadata": {},
     "output_type": "display_data"
    }
   ],
   "source": [
    "import os\n",
    "\n",
    "# Ganti dengan path sesuai dengan struktur dataset Anda\n",
    "train_dir = '../TA/dataset/train'\n",
    "val_dir = '../TA/dataset/val'\n",
    "test_dir = '../TA/dataset/test'\n",
    "\n",
    "# Mendapatkan daftar semua kelas dalam set pelatihan\n",
    "train_classes = os.listdir(train_dir)\n",
    "val_classes = os.listdir(val_dir)\n",
    "test_classes = os.listdir(test_dir)\n",
    "\n",
    "# Inisialisasi variabel untuk menyimpan jumlah sampel\n",
    "num_train = 0\n",
    "num_val = 0\n",
    "num_test = 0\n",
    "\n",
    "# Menghitung jumlah sampel dalam setiap kelas untuk set pelatihan\n",
    "for class_train in train_classes:\n",
    "    class_path_train = os.path.join(train_dir, class_train)\n",
    "    if os.path.isdir(class_path_train):\n",
    "        num_train += len(os.listdir(class_path_train))\n",
    "\n",
    "# Menghitung jumlah sampel dalam setiap kelas untuk set validasi\n",
    "for class_val in val_classes:\n",
    "    class_path_val = os.path.join(val_dir, class_val)\n",
    "    if os.path.isdir(class_path_val):\n",
    "        num_val += len(os.listdir(class_path_val))\n",
    "        \n",
    "# Menghitung jumlah sampel dalam setiap kelas untuk set testing\n",
    "for class_test in test_classes:\n",
    "    class_path_test = os.path.join(test_dir, class_test)\n",
    "    if os.path.isdir(class_path_test):\n",
    "        num_test += len(os.listdir(class_path_test))\n",
    "\n",
    "# Menyiapkan data untuk visualisasi\n",
    "categories = ['Training', 'Validation', 'Testing']\n",
    "sample_counts = [num_train, num_val, num_test]\n",
    "\n",
    "# Membuat grafik batang\n",
    "plt.bar(categories, sample_counts, color=['blue', 'green', 'orange'])\n",
    "plt.xlabel('Dataset')\n",
    "plt.ylabel('Jumlah Sampel')\n",
    "plt.title('Distribusi Sampel dalam Dataset')\n",
    "plt.show()"
   ]
  },
  {
   "cell_type": "code",
   "execution_count": 23,
   "id": "4572dd7a-da2d-4b7c-9bc8-0cbfa7a3cfcf",
   "metadata": {
    "tags": []
   },
   "outputs": [
    {
     "data": {
      "image/png": "[encoded data removed]",
      "text/plain": [
       "<Figure size 640x480 with 1 Axes>"
      ]
     },
     "metadata": {},
     "output_type": "display_data"
    }
   ],
   "source": [
    "import matplotlib.pyplot as plt\n",
    "\n",
    "# Ganti dengan jumlah dataset sesuai dengan proyek Anda\n",
    "num_training_samples = 8400 \n",
    "num_validation_samples = 2400 \n",
    "num_testing_samples = 1200 \n",
    "\n",
    "# Menyiapkan data untuk pie chart\n",
    "labels = ['Training', 'Validation', 'Testing']\n",
    "sizes = [num_training_samples, num_validation_samples, num_testing_samples]\n",
    "colors = ['lightcoral', 'lightskyblue', 'lightgreen']\n",
    "explode = (0, 0, 0)  # Menonjolkan sektor pertama (opsional)\n",
    "\n",
    "# Membuat pie chart\n",
    "plt.pie(sizes, explode=explode, labels=labels, colors=colors, autopct='%1.1f%%', startangle=140)\n",
    "\n",
    "# Menambahkan judul\n",
    "plt.title('Proporsi Dataset Training, Validation, dan Testing')\n",
    "\n",
    "# Menampilkan pie chart\n",
    "plt.axis('equal')  # Memastikan diagram lingkaran berbentuk lingkaran\n",
    "plt.show()"
   ]
  },
  {
   "cell_type": "markdown",
   "id": "5424bf0e-abd4-4834-a766-954d07dca82d",
   "metadata": {
    "jp-MarkdownHeadingCollapsed": true,
    "tags": []
   },
   "source": [
    "# Mode-1"
   ]
  },
  {
   "cell_type": "code",
   "execution_count": 4,
   "id": "c74dd156-3d67-4435-b2b3-e7e46f0da299",
   "metadata": {
    "tags": []
   },
   "outputs": [
    {
     "data": {
      "text/plain": [
       "['predict_test', 'test', 'train', 'val']"
      ]
     },
     "execution_count": 4,
     "metadata": {},
     "output_type": "execute_result"
    }
   ],
   "source": [
    "import os\n",
    "\n",
    "data = './dataset/'\n",
    "os.listdir(data)"
   ]
  },
  {
   "cell_type": "code",
   "execution_count": 5,
   "id": "ae31743f-088c-4833-b014-43c4dad17f81",
   "metadata": {
    "tags": []
   },
   "outputs": [
    {
     "name": "stdout",
     "output_type": "stream",
     "text": [
      "Downloading data from https://storage.googleapis.com/tensorflow/keras-applications/vgg16/vgg16_weights_tf_dim_ordering_tf_kernels_notop.h5\n",
      "58889256/58889256 [==============================] - 31s 1us/step\n",
      "Model: \"sequential_1\"\n",
      "_________________________________________________________________\n",
      " Layer (type)                Output Shape              Param #   \n",
      "=================================================================\n",
      " vgg16 (Functional)          (None, 7, 7, 512)         14714688  \n",
      "                                                                 \n",
      " sequential (Sequential)     (None, 10)                394954    \n",
      "                                                                 \n",
      "=================================================================\n",
      "Total params: 15109642 (57.64 MB)\n",
      "Trainable params: 394954 (1.51 MB)\n",
      "Non-trainable params: 14714688 (56.13 MB)\n",
      "_________________________________________________________________\n"
     ]
    }
   ],
   "source": [
    "from tensorflow.keras.models import Sequential, Model\n",
    "from tensorflow.keras.layers import Conv2D, MaxPooling2D, Flatten, Dense\n",
    "from tensorflow.keras.applications import VGG16\n",
    "\n",
    "# Buat model VGG16\n",
    "base_model = VGG16(weights='imagenet', include_top=False, input_shape=(224, 224, 3))\n",
    "\n",
    "# Bekukan lapisan-lapisan pada base model\n",
    "for layer in base_model.layers:\n",
    "    layer.trainable = False\n",
    "\n",
    "# Tambahkan lapisan-lapisan tambahan untuk tugas klasifikasi khusus Anda\n",
    "additional_model = Sequential([\n",
    "    Conv2D(64, (3, 3), activation='relu', input_shape=(7, 7, 512)),  # Ganti shape sesuai output VGG16\n",
    "    MaxPooling2D((2, 2)),\n",
    "    Flatten(),\n",
    "    Dense(256, activation='relu'),\n",
    "    Dense(128, activation='relu'),\n",
    "    Dense(10, activation='softmax')  # Ganti 10 dengan jumlah kelas Anda\n",
    "])\n",
    "\n",
    "# Gabungkan model VGG16 dengan lapisan-lapisan tambahan\n",
    "model = Sequential([\n",
    "    base_model,\n",
    "    additional_model\n",
    "])\n",
    "\n",
    "# Tampilkan ringkasan arsitektur model\n",
    "model.summary()\n"
   ]
  },
  {
   "cell_type": "code",
   "execution_count": null,
   "id": "dd4e5f74-633c-43d2-bbac-19d64bbab9c1",
   "metadata": {},
   "outputs": [],
   "source": []
  },
  {
   "cell_type": "markdown",
   "id": "070fd7bf-b9c0-423a-b8eb-03610d1e998c",
   "metadata": {
    "tags": []
   },
   "source": [
    "# Model-2\n"
   ]
  },
  {
   "cell_type": "code",
   "execution_count": 24,
   "id": "fd8d6d97-f517-4fd9-b14a-e308dc53802b",
   "metadata": {
    "tags": []
   },
   "outputs": [],
   "source": [
    "# !pip install imutils"
   ]
  },
  {
   "cell_type": "code",
   "execution_count": 4,
   "id": "df2284ac-882b-43dc-9ca8-decdee494e93",
   "metadata": {
    "tags": []
   },
   "outputs": [],
   "source": [
    "from keras.models import Sequential\n",
    "from keras.layers import Conv2D, MaxPooling2D, MaxPool2D, Flatten, Dense, Activation, Dropout\n",
    "from keras.preprocessing.image import ImageDataGenerator\n",
    "# from keras.preprocessing import image as img_\n",
    "# from keras.metrics import categorical_accuracy\n",
    "# from keras.models import Sequential, load_model\n",
    "# from keras.layers import Dense, Conv2D, MaxPool2D, Dropout, Flatten\n",
    "# from keras.callbacks import ModelCheckpoint, EarlyStopping\n",
    "# import matplotlib.pyplot as plt\n",
    "# import cv2\n",
    "# import seaborn as sns\n",
    "# import numpy as np\n",
    "# import os\n",
    "# %matplotlib inline"
   ]
  },
  {
   "cell_type": "code",
   "execution_count": 5,
   "id": "30dde150-5d2f-456b-ac9f-2160e44dd261",
   "metadata": {
    "tags": []
   },
   "outputs": [
    {
     "name": "stdout",
     "output_type": "stream",
     "text": [
      "Found 10500 images belonging to 20 classes.\n",
      "Found 3000 images belonging to 20 classes.\n",
      "Found 1500 images belonging to 20 classes.\n"
     ]
    }
   ],
   "source": [
    "from keras.preprocessing.image import ImageDataGenerator\n",
    "\n",
    "# Generator data gambar dengan rescaling\n",
    "image_generator = ImageDataGenerator(\n",
    "    rescale=1./255,\n",
    ")\n",
    "\n",
    "# Tentukan ukuran gambar\n",
    "size = (224, 224)\n",
    "batch = 32\n",
    "\n",
    "# Tentukan jalur direktori untuk data latih, validasi, dan uji\n",
    "train_dir = '../Oprek/data_split/train'\n",
    "val_dir = '../Oprek/data_split/val'\n",
    "test_dir = '../Oprek/data_split/test'\n",
    "\n",
    "# Alirkan data dari direktori untuk data latih\n",
    "train_data = image_generator.flow_from_directory(\n",
    "    train_dir,\n",
    "    target_size=size,\n",
    "    batch_size=batch,\n",
    "    class_mode='categorical',\n",
    "    color_mode='rgb'\n",
    ")\n",
    "\n",
    "# Alirkan data dari direktori untuk data validasi\n",
    "validation_data = image_generator.flow_from_directory(\n",
    "    val_dir,\n",
    "    target_size=size,\n",
    "    batch_size=batch,\n",
    "    class_mode='categorical',\n",
    "    color_mode='rgb'\n",
    ")\n",
    "\n",
    "# Alirkan data dari direktori untuk data uji\n",
    "test_data = image_generator.flow_from_directory(\n",
    "    test_dir,\n",
    "    target_size=size,\n",
    "    batch_size=batch,\n",
    "    class_mode='categorical',\n",
    "    color_mode='rgb'\n",
    ")"
   ]
  },
  {
   "cell_type": "code",
   "execution_count": 6,
   "id": "9a015572-4e79-4c09-8eaf-7f043398115e",
   "metadata": {
    "tags": []
   },
   "outputs": [
    {
     "name": "stdout",
     "output_type": "stream",
     "text": [
      "{0: 'ba', 1: 'ca', 2: 'da', 3: 'dha', 4: 'ga', 5: 'ha', 6: 'ja', 7: 'ka', 8: 'la', 9: 'ma', 10: 'na', 11: 'nga', 12: 'nya', 13: 'pa', 14: 'ra', 15: 'sa', 16: 'ta', 17: 'tha', 18: 'wa', 19: 'ya'}\n"
     ]
    }
   ],
   "source": [
    "def switch_dict_key_values(this_dict):\n",
    "    return dict((v,k) for k,v in this_dict.items())\n",
    "\n",
    "classes_name = switch_dict_key_values(train_data.class_indices)\n",
    "print(classes_name)"
   ]
  },
  {
   "cell_type": "markdown",
   "id": "8a61c654-9beb-432e-b84a-e1d5e4a7b668",
   "metadata": {
    "tags": []
   },
   "source": [
    "## Create CNN Model Architecture"
   ]
  },
  {
   "cell_type": "code",
   "execution_count": 7,
   "id": "6c757bab-dfc2-4ac3-a546-9763e6374e94",
   "metadata": {
    "tags": []
   },
   "outputs": [
    {
     "name": "stdout",
     "output_type": "stream",
     "text": [
      "Model: \"sequential\"\n",
      "_________________________________________________________________\n",
      " Layer (type)                Output Shape              Param #   \n",
      "=================================================================\n",
      " conv2d (Conv2D)             (None, 222, 222, 32)      896       \n",
      "                                                                 \n",
      " max_pooling2d (MaxPooling2  (None, 111, 111, 32)      0         \n",
      " D)                                                              \n",
      "                                                                 \n",
      " conv2d_1 (Conv2D)           (None, 109, 109, 64)      18496     \n",
      "                                                                 \n",
      " max_pooling2d_1 (MaxPoolin  (None, 54, 54, 64)        0         \n",
      " g2D)                                                            \n",
      "                                                                 \n",
      " conv2d_2 (Conv2D)           (None, 52, 52, 128)       73856     \n",
      "                                                                 \n",
      " max_pooling2d_2 (MaxPoolin  (None, 26, 26, 128)       0         \n",
      " g2D)                                                            \n",
      "                                                                 \n",
      " conv2d_3 (Conv2D)           (None, 24, 24, 256)       295168    \n",
      "                                                                 \n",
      " max_pooling2d_3 (MaxPoolin  (None, 12, 12, 256)       0         \n",
      " g2D)                                                            \n",
      "                                                                 \n",
      " flatten (Flatten)           (None, 36864)             0         \n",
      "                                                                 \n",
      " dense (Dense)               (None, 256)               9437440   \n",
      "                                                                 \n",
      " dropout (Dropout)           (None, 256)               0         \n",
      "                                                                 \n",
      " dense_1 (Dense)             (None, 20)                5140      \n",
      "                                                                 \n",
      "=================================================================\n",
      "Total params: 9830996 (37.50 MB)\n",
      "Trainable params: 9830996 (37.50 MB)\n",
      "Non-trainable params: 0 (0.00 Byte)\n",
      "_________________________________________________________________\n"
     ]
    }
   ],
   "source": [
    "from keras.models import Sequential\n",
    "from keras.layers import Conv2D, MaxPooling2D, Flatten, Dense, Dropout\n",
    "\n",
    "# Jumlah filter pada setiap lapisan Conv2D\n",
    "# filters = 64\n",
    "filters = 32\n",
    "\n",
    "# Ukuran kernel\n",
    "kernel = 3\n",
    "\n",
    "# Membuat model Sequential\n",
    "model = Sequential()\n",
    "\n",
    "# Lapisan Conv2D pertama dengan input shape\n",
    "model.add(Conv2D(filters=filters, kernel_size=kernel, input_shape=(224, 224, 3), activation='relu'))\n",
    "model.add(MaxPooling2D(pool_size=(2, 2)))\n",
    "\n",
    "# Lapisan Conv2D kedua\n",
    "model.add(Conv2D(filters=2 * filters, kernel_size=kernel, activation='relu'))\n",
    "model.add(MaxPooling2D(pool_size=(2, 2)))\n",
    "\n",
    "# Lapisan Conv2D ketiga\n",
    "model.add(Conv2D(filters=4 * filters, kernel_size=kernel, activation='relu'))\n",
    "model.add(MaxPooling2D(pool_size=(2, 2)))\n",
    "\n",
    "# Lapisan Conv2D keempat\n",
    "model.add(Conv2D(filters=8 * filters, kernel_size=kernel, activation='relu'))\n",
    "model.add(MaxPooling2D(pool_size=(2, 2)))\n",
    "\n",
    "# Flatten layer untuk mengubah matriks menjadi vektor\n",
    "model.add(Flatten())\n",
    "\n",
    "# Lapisan Dense (fully connected) pertama\n",
    "model.add(Dense(256, activation='relu'))\n",
    "model.add(Dropout(0.2))\n",
    "\n",
    "# Lapisan Dense terakhir dengan output 20 dan aktivasi softmax\n",
    "model.add(Dense(20, activation='softmax'))\n",
    "\n",
    "# Mengompilasi model dengan categorical crossentropy loss dan SGD optimizer\n",
    "model.compile(loss='categorical_crossentropy', \n",
    "              optimizer='sgd', \n",
    "              metrics=['accuracy'])\n",
    "\n",
    "# Menampilkan ringkasan model\n",
    "model.summary()"
   ]
  },
  {
   "cell_type": "markdown",
   "id": "bd20f5c2-bf50-4fe4-b461-9c6a7861338d",
   "metadata": {},
   "source": [
    "## Training Process"
   ]
  },
  {
   "cell_type": "code",
   "execution_count": 8,
   "id": "7ef168d9-8f23-4d34-9c9b-ece69b28fa1f",
   "metadata": {
    "tags": []
   },
   "outputs": [],
   "source": [
    "# Membuat Callback\n",
    "import tensorflow as tf\n",
    "from tensorflow.keras.callbacks import Callback\n",
    "\n",
    "class Callbacks(tf.keras.callbacks.Callback):\n",
    "    def on_epoch_end(self, epoch, logs={}):\n",
    "        if logs.get('accuracy') >= 0.95:\n",
    "            print(\"\\nMencapai akurasi %2.2f%%, pelatihan dihentikan\" % (logs.get('accuracy') * 100))\n",
    "            self.model.stop_training = True\n",
    "\n",
    "callbacks = Callbacks()"
   ]
  },
  {
   "cell_type": "code",
   "execution_count": null,
   "id": "44913875-ba0d-4142-ac94-9367c2b2664f",
   "metadata": {
    "tags": []
   },
   "outputs": [
    {
     "name": "stdout",
     "output_type": "stream",
     "text": [
      "Epoch 1/5\n",
      "329/329 [==============================] - 1751s 5s/step - loss: 2.9942 - accuracy: 0.0546 - val_loss: 2.9836 - val_accuracy: 0.0510\n",
      "Epoch 2/5\n",
      "329/329 [==============================] - 1685s 5s/step - loss: 2.9372 - accuracy: 0.0981 - val_loss: 2.7773 - val_accuracy: 0.1770\n",
      "Epoch 3/5\n",
      "270/329 [=======================>......] - ETA: 9:34 - loss: 2.6773 - accuracy: 0.1785"
     ]
    }
   ],
   "source": [
    "# Menjalankan pelatihan dengan callback\n",
    "r = model.fit(\n",
    "    train_data, \n",
    "    epochs=5,\n",
    "    validation_data=validation_data,\n",
    "    callbacks = [callbacks]\n",
    ")"
   ]
  },
  {
   "cell_type": "code",
   "execution_count": 44,
   "id": "699b30ec-6281-49e8-8ad1-c7bb038354f4",
   "metadata": {
    "tags": []
   },
   "outputs": [
    {
     "data": {
      "text/plain": [
       "Text(0.5, 1.0, 'Accuracy Evolution')"
      ]
     },
     "execution_count": 44,
     "metadata": {},
     "output_type": "execute_result"
    },
    {
     "data": {
      "image/png": "[encoded data removed]",
      "text/plain": [
       "<Figure size 1200x800 with 2 Axes>"
      ]
     },
     "metadata": {},
     "output_type": "display_data"
    }
   ],
   "source": [
    "# visualisasi hasil data training (Plot accuracy & loss model)\n",
    "import matplotlib.pyplot as plt\n",
    "\n",
    "acc = r.history['accuracy']\n",
    "val_acc = r.history['val_accuracy']\n",
    "\n",
    "loss = r.history['loss']\n",
    "val_loss = r.history['val_loss']\n",
    "\n",
    "epochs_range = range(1, len(acc) + 1)\n",
    "\n",
    "plt.figure(figsize=(15, 5))\n",
    "\n",
    "# Plot Accuracy\n",
    "plt.subplot(1, 2, 1)\n",
    "plt.plot(epochs_range, acc, label='Training Accuracy', marker='o')\n",
    "plt.plot(epochs_range, val_acc, label='Validation Accuracy', marker='o')\n",
    "plt.title('Training and Validation Accuracy')\n",
    "plt.xlabel('Epochs')\n",
    "plt.ylabel('Accuracy')\n",
    "plt.legend()\n",
    "\n",
    "# Plot Loss\n",
    "plt.subplot(1, 2, 2)\n",
    "plt.plot(epochs_range, loss, label='Training Loss', marker='o')\n",
    "plt.plot(epochs_range, val_loss, label='Validation Loss', marker='o')\n",
    "plt.title('Training and Validation Loss')\n",
    "plt.xlabel('Epochs')\n",
    "plt.ylabel('Loss')\n",
    "plt.legend()\n",
    "\n",
    "plt.tight_layout()\n",
    "plt.show()"
   ]
  },
  {
   "cell_type": "code",
   "execution_count": null,
   "id": "7d25ebbb-5c9c-4893-9a6c-0c07ed408c7c",
   "metadata": {},
   "outputs": [],
   "source": []
  }
 ],
 "metadata": {
  "kernelspec": {
   "display_name": "Python 3 (ipykernel)",
   "language": "python",
   "name": "python3"
  },
  "language_info": {
   "codemirror_mode": {
    "name": "ipython",
    "version": 3
   },
   "file_extension": ".py",
   "mimetype": "text/x-python",
   "name": "python",
   "nbconvert_exporter": "python",
   "pygments_lexer": "ipython3",
   "version": "3.11.5"
  },
  "toc-autonumbering": true,
  "toc-showcode": false,
  "toc-showmarkdowntxt": false,
  "toc-showtags": false
 },
 "nbformat": 4,
 "nbformat_minor": 5
}
