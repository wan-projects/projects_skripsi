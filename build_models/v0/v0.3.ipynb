{
 "cells": [
  {
   "cell_type": "code",
   "execution_count": 56,
   "id": "0d05277a-fbb4-4fbd-a50b-79df1aabb0db",
   "metadata": {
    "tags": []
   },
   "outputs": [],
   "source": [
    "import os\n",
    "from keras.preprocessing.image import ImageDataGenerator"
   ]
  },
  {
   "cell_type": "markdown",
   "id": "73246a10-5f6c-4396-960e-b597ffceb583",
   "metadata": {
    "tags": []
   },
   "source": [
    "# Data Preparation"
   ]
  },
  {
   "cell_type": "code",
   "execution_count": 57,
   "id": "052fab2c-9357-4dfe-839c-1e096d40fa3d",
   "metadata": {
    "tags": []
   },
   "outputs": [
    {
     "name": "stdout",
     "output_type": "stream",
     "text": [
      "['ba', 'ca', 'da', 'dha', 'ga', 'ha', 'ja', 'ka', 'la', 'ma', 'na', 'nga', 'nya', 'pa', 'ra', 'sa', 'ta', 'tha', 'wa', 'ya']\n"
     ]
    }
   ],
   "source": [
    "data = \"../Oprek/byPhiard_01/\" \n",
    "file_list = os.listdir(data)\n",
    "\n",
    "print(file_list)"
   ]
  },
  {
   "cell_type": "code",
   "execution_count": 58,
   "id": "c87d4134-c3a5-4429-97de-395af8e0058e",
   "metadata": {
    "tags": []
   },
   "outputs": [],
   "source": [
    "# Tentukan jalur direktori untuk data latih, validasi, dan uji\n",
    "train_data = '../Oprek/data_split/train'\n",
    "test_data = '../Oprek/data_split/test'"
   ]
  },
  {
   "cell_type": "code",
   "execution_count": 59,
   "id": "b34a037c-0141-4621-bde6-fc2996b360e6",
   "metadata": {
    "tags": []
   },
   "outputs": [
    {
     "name": "stdout",
     "output_type": "stream",
     "text": [
      "Found 9100 images belonging to 20 classes.\n",
      "Found 3900 images belonging to 20 classes.\n"
     ]
    }
   ],
   "source": [
    "# Applying Data normalization and Data augmentation\n",
    "train_datagen = ImageDataGenerator(rescale=1./255)\n",
    "\n",
    "validation_datagen = ImageDataGenerator(rescale=1./255)\n",
    "\n",
    "train_generator = train_datagen.flow_from_directory(\n",
    "    train_data,\n",
    "    # directory=train_data,\n",
    "    batch_size=32,\n",
    "    color_mode=\"rgb\",\n",
    "    target_size=(128, 128),\n",
    "    class_mode=\"categorical\"\n",
    ")\n",
    "\n",
    "validation_generator = validation_datagen.flow_from_directory(\n",
    "    test_data,\n",
    "    # directory=test_data,\n",
    "    batch_size=32,\n",
    "    color_mode=\"rgb\",\n",
    "    target_size=(150, 150),\n",
    "    class_mode=\"categorical\"\n",
    ")"
   ]
  },
  {
   "cell_type": "markdown",
   "id": "80f25ce8-54d9-47d1-aeb5-1d4298b484d3",
   "metadata": {},
   "source": [
    "# Model"
   ]
  },
  {
   "cell_type": "code",
   "execution_count": 60,
   "id": "4895bf16-73be-4a43-bc10-3ba711ffe8ac",
   "metadata": {
    "tags": []
   },
   "outputs": [
    {
     "name": "stdout",
     "output_type": "stream",
     "text": [
      "Model: \"sequential_13\"\n",
      "_________________________________________________________________\n",
      " Layer (type)                Output Shape              Param #   \n",
      "=================================================================\n",
      " vgg16 (Functional)          (None, 4, 4, 512)         14714688  \n",
      "                                                                 \n",
      " conv2d_87 (Conv2D)          (None, 4, 4, 64)          294976    \n",
      "                                                                 \n",
      " batch_normalization_75 (Ba  (None, 4, 4, 64)          256       \n",
      " tchNormalization)                                               \n",
      "                                                                 \n",
      " max_pooling2d_32 (MaxPooli  (None, 2, 2, 64)          0         \n",
      " ng2D)                                                           \n",
      "                                                                 \n",
      " flatten_12 (Flatten)        (None, 256)               0         \n",
      "                                                                 \n",
      " dense_31 (Dense)            (None, 64)                16448     \n",
      "                                                                 \n",
      " batch_normalization_76 (Ba  (None, 64)                256       \n",
      " tchNormalization)                                               \n",
      "                                                                 \n",
      " dense_32 (Dense)            (None, 20)                1300      \n",
      "                                                                 \n",
      " batch_normalization_77 (Ba  (None, 20)                80        \n",
      " tchNormalization)                                               \n",
      "                                                                 \n",
      "=================================================================\n",
      "Total params: 15028004 (57.33 MB)\n",
      "Trainable params: 15027708 (57.33 MB)\n",
      "Non-trainable params: 296 (1.16 KB)\n",
      "_________________________________________________________________\n"
     ]
    }
   ],
   "source": [
    "import tensorflow as tf\n",
    "from tensorflow.keras import layers, models\n",
    "from tensorflow.keras.optimizers import Adam\n",
    "from tensorflow.keras.callbacks import LearningRateScheduler\n",
    "from tensorflow.keras import regularizers\n",
    "\n",
    "# Menggunakan VGG16 pre-trained dari Keras Applications\n",
    "# base_model = tf.keras.applications.VGG16(include_top=False, weights='imagenet', input_shape=(224, 224, 3))\n",
    "base_model = tf.keras.applications.VGG16(include_top=False, weights=None, input_shape=(128, 128, 3))\n",
    "\n",
    "\n",
    "# Membuat model baru berdasarkan VGG16\n",
    "model = models.Sequential()\n",
    "\n",
    "# Menambahkan layer VGG16 ke dalam model baru\n",
    "model.add(base_model)\n",
    " \n",
    "# Convolutional Block 1\n",
    "model.add(layers.Conv2D(64, (3, 3), activation='relu', padding='same', kernel_regularizer=regularizers.l2(1e-4)))\n",
    "model.add(layers.BatchNormalization())\n",
    "# model.add(layers.Conv2D(64, (3, 3), activation='relu', padding='same', kernel_regularizer=regularizers.l2(1e-4)))\n",
    "# model.add(layers.MaxPooling2D((2, 2), strides=(2, 2), padding='same'))\n",
    "model.add(layers.MaxPooling2D((2, 2), padding='same'))\n",
    "\n",
    "# Convolutional Block 2\n",
    "# model.add(layers.Conv2D(128, (3, 3), activation='relu', padding='same', kernel_regularizer=regularizers.l2(1e-4)))\n",
    "# model.add(layers.BatchNormalization())\n",
    "# model.add(layers.Conv2D(128, (3, 3), activation='relu', padding='same', kernel_regularizer=regularizers.l2(1e-4)))\n",
    "# model.add(layers.MaxPooling2D((2, 2), strides=(2, 2), padding='same'))\n",
    "\n",
    "# Convolutional Block 3\n",
    "# model.add(layers.Conv2D(256, (3, 3), activation='relu', padding='same', kernel_regularizer=regularizers.l2(1e-4)))\n",
    "# model.add(layers.BatchNormalization())\n",
    "# model.add(layers.Conv2D(256, (3, 3), activation='relu', padding='same', kernel_regularizer=regularizers.l2(1e-4)))\n",
    "# model.add(layers.BatchNormalization())\n",
    "# model.add(layers.Conv2D(256, (3, 3), activation='relu', padding='same', kernel_regularizer=regularizers.l2(1e-4)))\n",
    "# model.add(layers.MaxPooling2D((2, 2), strides=(2, 2), padding='same'))\n",
    "\n",
    "# Convolutional Block 4\n",
    "# model.add(layers.Conv2D(512, (3, 3), activation='relu', padding='same', kernel_regularizer=regularizers.l2(1e-4)))\n",
    "# model.add(layers.BatchNormalization())\n",
    "# model.add(layers.Conv2D(512, (3, 3), activation='relu', padding='same', kernel_regularizer=regularizers.l2(1e-4)))\n",
    "# model.add(layers.BatchNormalization())\n",
    "# model.add(layers.Conv2D(512, (3, 3), activation='relu', padding='same', kernel_regularizer=regularizers.l2(1e-4)))\n",
    "# model.add(layers.MaxPooling2D((2, 2), strides=(2, 2), padding='same'))\n",
    "\n",
    "\n",
    "# Flatten layer\n",
    "model.add(layers.Flatten())\n",
    "\n",
    "# Dense layers untuk klasifikasi dengan Weight Decay\n",
    "# model.add(layers.Dense(512, activation='relu', kernel_regularizer=regularizers.l2(1e-4)))\n",
    "# model.add(layers.BatchNormalization())\n",
    "# model.add(layers.Dense(256, activation='relu', kernel_regularizer=regularizers.l2(1e-4)))\n",
    "# model.add(layers.BatchNormalization())\n",
    "model.add(layers.Dense(64, activation='relu', kernel_regularizer=regularizers.l2(1e-4)))\n",
    "model.add(layers.BatchNormalization())\n",
    "\n",
    "# Output layer dengan 20 kelas\n",
    "model.add(layers.Dense(20, activation='softmax'))\n",
    "\n",
    "# Batch Normalization pada output layer\n",
    "model.add(layers.BatchNormalization())\n",
    "\n",
    "# Compile model dengan Adam Optimizer dan Gradient Clipping\n",
    "adam_optimizer = Adam(learning_rate=0.001, clipvalue=0.5)\n",
    "model.compile(optimizer=adam_optimizer, loss='categorical_crossentropy', metrics=['accuracy'])\n",
    "\n",
    "# Learning Rate Scheduling\n",
    "# def schedule(epoch, lr):\n",
    "#     if epoch < 5:\n",
    "#         return lr\n",
    "#     else:\n",
    "#         return lr * tf.math.exp(-0.1)\n",
    "\n",
    "# lr_scheduler = LearningRateScheduler(schedule)\n",
    "# callbacks = [lr_scheduler]\n",
    "\n",
    "# Menampilkan ringkasan model\n",
    "model.summary()"
   ]
  },
  {
   "cell_type": "markdown",
   "id": "7b6ce17a-7c58-4dd1-b0d1-2a13c8aa5ee0",
   "metadata": {},
   "source": [
    "# Model Fitting"
   ]
  },
  {
   "cell_type": "code",
   "execution_count": 61,
   "id": "a2481c73-d4d4-4f36-96ef-fc71558a80f3",
   "metadata": {
    "tags": []
   },
   "outputs": [
    {
     "name": "stdout",
     "output_type": "stream",
     "text": [
      "Epoch 1/5\n",
      "285/285 [==============================] - 7690s 27s/step - loss: 7.5384 - accuracy: 0.0512 - val_loss: 13.8602 - val_accuracy: 0.0500 - lr: 0.0010\n",
      "Epoch 2/5\n",
      "285/285 [==============================] - 7587s 27s/step - loss: 7.5455 - accuracy: 0.0467 - val_loss: 15.3291 - val_accuracy: 0.0500 - lr: 0.0010\n",
      "Epoch 3/5\n",
      "285/285 [==============================] - 13757s 48s/step - loss: 8.0972 - accuracy: 0.0595 - val_loss: 1.3263 - val_accuracy: 0.0500 - lr: 0.0010\n",
      "Epoch 4/5\n",
      "285/285 [==============================] - 8579s 30s/step - loss: 7.5471 - accuracy: 0.0607 - val_loss: 7.5205 - val_accuracy: 0.0585 - lr: 0.0010\n",
      "Epoch 5/5\n",
      "285/285 [==============================] - 13657s 48s/step - loss: 7.5635 - accuracy: 0.0562 - val_loss: 1.7701 - val_accuracy: 0.0500 - lr: 0.0010\n"
     ]
    }
   ],
   "source": [
    "# Model fitting\n",
    "history = model.fit(\n",
    "    train_generator,\n",
    "    epochs=5,  \n",
    "    validation_data=validation_generator,\n",
    "    callbacks=callbacks\n",
    ")\n"
   ]
  },
  {
   "cell_type": "code",
   "execution_count": 71,
   "id": "b4bbaa8f-6749-4266-b8da-52924e893963",
   "metadata": {
    "tags": []
   },
   "outputs": [
    {
     "data": {
      "image/png": "[encoded data removed]",
      "text/plain": [
       "<Figure size 1200x400 with 2 Axes>"
      ]
     },
     "metadata": {},
     "output_type": "display_data"
    }
   ],
   "source": [
    "# Menampilkan grafik training dan validation accuracy\n",
    "import matplotlib.pyplot as plt\n",
    "\n",
    "acc = history.history['accuracy']\n",
    "val_acc = history.history['val_accuracy']\n",
    "\n",
    "loss = history.history['loss']\n",
    "val_loss = history.history['val_loss']\n",
    "\n",
    "epochs_range = range(len(acc))\n",
    "\n",
    "plt.figure(figsize=(12, 4))\n",
    "\n",
    "plt.subplot(1, 2, 1)\n",
    "plt.plot(epochs_range, acc, label='Training Accuracy', marker='o')\n",
    "plt.plot(epochs_range, val_acc, label='Validation Accuracy', marker='o')\n",
    "plt.title('Training and Validation Accuracy')\n",
    "plt.xlabel('Epoch')\n",
    "plt.ylabel('Accuracy')\n",
    "plt.legend(loc='lower right')\n",
    "\n",
    "\n",
    "plt.subplot(1, 2, 2)\n",
    "plt.plot(epochs_range, loss, label='Training Loss', marker='o')\n",
    "plt.plot(epochs_range, val_loss, label='Validation Loss', marker='o')\n",
    "plt.title('Training and Validation Loss')\n",
    "plt.xlabel('Epoch')\n",
    "plt.ylabel('Loss')\n",
    "plt.legend(loc='upper right')\n",
    "\n",
    "plt.tight_layout()\n",
    "plt.show()"
   ]
  },
  {
   "cell_type": "code",
   "execution_count": null,
   "id": "c262a308-c04c-49ea-b1b6-5952983cf365",
   "metadata": {
    "tags": []
   },
   "outputs": [],
   "source": [
    "# from keras.preprocessing import image\n",
    "# import numpy as np\n",
    "\n",
    "# img = image.load_img(\"../Oprek/Ori_byPhiard/prediction/ba49.mine2.png\",\n",
    "#                      target_size=(128,128), \n",
    "#                      color_mode='grayscale')\n",
    "# img = np.asarray(img)\n",
    "# plt.imshow(img)\n",
    "# img = np.expand_dims(img, axis=2)\n",
    "# img = np.expand_dims(img, axis=0)\n",
    "\n",
    "# from keras.models import load_model\n",
    "# saved_model = load_model(\"model.h5\")\n",
    "# output = saved_model.predict(img)\n",
    "\n",
    "# max = output[0][0]\n",
    "# pos = 0\n",
    "# for i in range(1, 19): \n",
    "#     if output[0][i] > max: \n",
    "#         max = output[0][i]\n",
    "#         pos = i\n",
    "         \n",
    "# print(output)\n",
    "# print(max)\n",
    "\n",
    "# if (pos == 0) :\n",
    "#     print(\"ba\")\n",
    "# elif (pos == 1) :\n",
    "#     print('ca')\n",
    "# elif (pos == 2) :\n",
    "#     print('da')\n",
    "# elif (pos == 3) :\n",
    "#     print('dha')\n",
    "# elif (pos == 4) :\n",
    "#     print('ga')\n",
    "# elif (pos == 5) :\n",
    "#     print('ha')\n",
    "# elif (pos == 6) :\n",
    "#     print('ja')\n",
    "# elif (pos == 7) :\n",
    "#     print('ka')\n",
    "# elif (pos == 8) :\n",
    "#     print('la')\n",
    "# elif (pos == 9) :\n",
    "#     print('ma')\n",
    "# elif (pos == 10) :\n",
    "#     print('na')\n",
    "# elif (pos == 11) :\n",
    "#     print('nga')\n",
    "# elif (pos == 12) :\n",
    "#     print('nya')\n",
    "# elif (pos == 13) :\n",
    "#     print('pa')\n",
    "# elif (pos == 14) :\n",
    "#     print('ra')\n",
    "# elif (pos == 15) :\n",
    "#     print('sa')\n",
    "# elif (pos == 16) :\n",
    "#     print('ta')\n",
    "# elif (pos == 17) :\n",
    "#     print('tha')\n",
    "# elif (pos == 18) :\n",
    "#     print('wa')\n",
    "# elif (pos == 19) :\n",
    "#     print('ya')"
   ]
  },
  {
   "cell_type": "code",
   "execution_count": 74,
   "id": "6e09f678-2adb-408f-9c77-d242eb3e3e28",
   "metadata": {
    "tags": []
   },
   "outputs": [
    {
     "ename": "NameError",
     "evalue": "name 'files' is not defined",
     "output_type": "error",
     "traceback": [
      "\u001b[1;31m---------------------------------------------------------------------------\u001b[0m",
      "\u001b[1;31mNameError\u001b[0m                                 Traceback (most recent call last)",
      "Cell \u001b[1;32mIn[74], line 7\u001b[0m\n\u001b[0;32m      4\u001b[0m \u001b[38;5;28;01mimport\u001b[39;00m \u001b[38;5;21;01mmatplotlib\u001b[39;00m\u001b[38;5;21;01m.\u001b[39;00m\u001b[38;5;21;01mpyplot\u001b[39;00m \u001b[38;5;28;01mas\u001b[39;00m \u001b[38;5;21;01mplt\u001b[39;00m  \u001b[38;5;66;03m# Added import for plt\u001b[39;00m\n\u001b[0;32m      5\u001b[0m get_ipython()\u001b[38;5;241m.\u001b[39mrun_line_magic(\u001b[38;5;124m'\u001b[39m\u001b[38;5;124mmatplotlib\u001b[39m\u001b[38;5;124m'\u001b[39m, \u001b[38;5;124m'\u001b[39m\u001b[38;5;124minline\u001b[39m\u001b[38;5;124m'\u001b[39m)\n\u001b[1;32m----> 7\u001b[0m uploaded \u001b[38;5;241m=\u001b[39m files\u001b[38;5;241m.\u001b[39mupload()\n\u001b[0;32m      9\u001b[0m \u001b[38;5;28;01mfor\u001b[39;00m fn \u001b[38;5;129;01min\u001b[39;00m uploaded\u001b[38;5;241m.\u001b[39mkeys():\n\u001b[0;32m     10\u001b[0m     \u001b[38;5;66;03m# Predicting images\u001b[39;00m\n\u001b[0;32m     11\u001b[0m     path \u001b[38;5;241m=\u001b[39m fn\n",
      "\u001b[1;31mNameError\u001b[0m: name 'files' is not defined"
     ]
    }
   ],
   "source": [
    "# import numpy as np\n",
    "# # from google.colab import files\n",
    "# from tensorflow.keras.preprocessing import image\n",
    "# import matplotlib.pyplot as plt  # Added import for plt\n",
    "# %matplotlib inline\n",
    "\n",
    "# img = image.load_img(\"../Oprek/Ori_byPhiard/prediction/ba49.mine2.png\",\n",
    "#                      target_size=(128,128), \n",
    "#                      color_mode='grayscale')\n",
    "\n",
    "# for fn in uploaded.keys():\n",
    "#     # Predicting images\n",
    "#     path = fn\n",
    "#     img = image.load_img(path, target_size=(150, 150))\n",
    "#     imgplot = plt.imshow(img)\n",
    "#     x = image.img_to_array(img)\n",
    "#     x = np.expand_dims(x, axis=0)\n",
    "\n",
    "#     images = np.vstack([x])\n",
    "#     classes = model.predict(images, batch_size=10)\n",
    "\n",
    "#     print(fn)\n",
    "    \n",
    "#     # Assuming your model has 20 output neurons\n",
    "#     if np.argmax(classes) == 0:\n",
    "#         print('ba')\n",
    "#     elif np.argmax(classes) == 1:\n",
    "#         print('ca')\n",
    "#     elif np.argmax(classes) == 2:\n",
    "#         print('da')\n",
    "#     elif np.argmax(classes) == 3:\n",
    "#         print('dha')\n",
    "#     elif np.argmax(classes) == 4:\n",
    "#         print('ga')\n",
    "#     elif np.argmax(classes) == 5:\n",
    "#         print('ha')\n",
    "#     elif np.argmax(classes) == 6:\n",
    "#         print('ja')\n",
    "#     elif np.argmax(classes) == 7:\n",
    "#         print('ka')\n",
    "#     elif np.argmax(classes) == 8:\n",
    "#         print('la')\n",
    "#     elif np.argmax(classes) == 9:\n",
    "#         print('ma')\n",
    "#     elif np.argmax(classes) == 10:\n",
    "#         print('na')\n",
    "#     elif np.argmax(classes) == 11:\n",
    "#         print('nga')\n",
    "#     elif np.argmax(classes) == 12:\n",
    "#         print('nya')\n",
    "#     elif np.argmax(classes) == 13:\n",
    "#         print('pa')\n",
    "#     elif np.argmax(classes) == 14:\n",
    "#         print('ra')\n",
    "#     elif np.argmax(classes) == 15:\n",
    "#         print('sa')\n",
    "#     elif np.argmax(classes) == 16:\n",
    "#         print('ta')\n",
    "#     elif np.argmax(classes) == 17:\n",
    "#         print('tha')\n",
    "#     elif np.argmax(classes) == 18:\n",
    "#         print('wa')\n",
    "#     elif np.argmax(classes) == 19:\n",
    "#         print('ya')"
   ]
  },
  {
   "cell_type": "code",
   "execution_count": null,
   "id": "22f20f0c-abca-4ed3-bbb6-b221a8982e3b",
   "metadata": {
    "tags": []
   },
   "outputs": [],
   "source": [
    "import numpy as np\n",
    "from tensorflow.keras.preprocessing import image\n",
    "import matplotlib.pyplot as plt  \n",
    "%matplotlib inline\n",
    "\n",
    "# Specify the file path of the image you want to test\n",
    "image_path = \"../Oprek/Ori_byPhiard/prediction/ba49.mine2.png\"\n",
    "\n",
    "# Predicting images\n",
    "img = image.load_img(image_path, target_size=(128, 128))\n",
    "imgplot = plt.imshow(img)\n",
    "x = image.img_to_array(img)\n",
    "x = np.expand_dims(x, axis=0)\n",
    "\n",
    "images = np.vstack([x])\n",
    "classes = model.predict(images, batch_size=32)\n",
    "\n",
    "# Assuming your model has 20 output neurons\n",
    "class_labels = ['ba', 'ca', 'da', 'dha', 'ga', 'ha', 'ja', 'ka', 'la', 'ma',\n",
    "                'na', 'nga', 'nya', 'pa', 'ra', 'sa', 'ta', 'tha', 'wa', 'ya']\n",
    "\n",
    "predicted_class_index = np.argmax(classes)\n",
    "predicted_class = class_labels[predicted_class_index]\n",
    "\n",
    "print(\"Predicted class:\", predicted_class)\n",
    "\n",
    "# Add if-else statements for each class\n",
    "if predicted_class_index == 0:\n",
    "    print('ba')\n",
    "elif predicted_class_index == 1:\n",
    "    print('ca')\n",
    "elif predicted_class_index == 2:\n",
    "    print('da')\n",
    "elif predicted_class_index == 3:\n",
    "    print('dha')\n",
    "elif predicted_class_index == 4:\n",
    "    print('ga')\n",
    "elif predicted_class_index == 5:\n",
    "    print('ha')\n",
    "elif predicted_class_index == 6:\n",
    "    print('ja')\n",
    "elif predicted_class_index == 7:\n",
    "    print('ka')\n",
    "elif predicted_class_index == 8:\n",
    "    print('la')\n",
    "elif predicted_class_index == 9:\n",
    "    print('ma')\n",
    "elif predicted_class_index == 10:\n",
    "    print('na')\n",
    "elif predicted_class_index == 11:\n",
    "    print('nga')\n",
    "elif predicted_class_index == 12:\n",
    "    print('nya')\n",
    "elif predicted_class_index == 13:\n",
    "    print('pa')\n",
    "elif predicted_class_index == 14:\n",
    "    print('ra')\n",
    "elif predicted_class_index == 15:\n",
    "    print('sa')\n",
    "elif predicted_class_index == 16:\n",
    "    print('ta')\n",
    "elif predicted_class_index == 17:\n",
    "    print('tha')\n",
    "elif predicted_class_index == 18:\n",
    "    print('wa')\n",
    "elif predicted_class_index == 19:\n",
    "    print('ya')"
   ]
  },
  {
   "cell_type": "code",
   "execution_count": null,
   "id": "e2c0a8e1-cc23-40a7-94ff-bdbab993923b",
   "metadata": {},
   "outputs": [],
   "source": []
  }
 ],
 "metadata": {
  "kernelspec": {
   "display_name": "Python 3 (ipykernel)",
   "language": "python",
   "name": "python3"
  },
  "language_info": {
   "codemirror_mode": {
    "name": "ipython",
    "version": 3
   },
   "file_extension": ".py",
   "mimetype": "text/x-python",
   "name": "python",
   "nbconvert_exporter": "python",
   "pygments_lexer": "ipython3",
   "version": "3.11.5"
  },
  "toc-autonumbering": false
 },
 "nbformat": 4,
 "nbformat_minor": 5
}
