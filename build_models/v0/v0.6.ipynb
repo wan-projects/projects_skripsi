{
 "cells": [
  {
   "cell_type": "code",
   "execution_count": 1,
   "id": "8d8d7e97-80c4-4f47-ba2e-a9a1a0b3b06e",
   "metadata": {
    "tags": []
   },
   "outputs": [],
   "source": [
    "import os\n",
    "from keras.preprocessing.image import ImageDataGenerator"
   ]
  },
  {
   "cell_type": "code",
   "execution_count": 2,
   "id": "d35f3015-6108-4ca8-be59-1c8ab4815a6f",
   "metadata": {
    "tags": []
   },
   "outputs": [],
   "source": [
    "# Tentukan jalur direktori untuk data latih, validasi, dan uji\n",
    "train_data = \"../Oprek/Ori_Data_Aug/train\" \n",
    "val_data = \"../Oprek/Ori_Data_Aug/val\"\n",
    "test_data = \"../Oprek/Ori_Data_Aug/test\"\n",
    "\n",
    "# train_data = '../Oprek/data_split/train'\n",
    "# test_data = '../Oprek/data_split/test'"
   ]
  },
  {
   "cell_type": "code",
   "execution_count": 3,
   "id": "bc9989d8-f1d8-401a-a81a-093553a2320f",
   "metadata": {
    "tags": []
   },
   "outputs": [
    {
     "name": "stdout",
     "output_type": "stream",
     "text": [
      "Found 8400 images belonging to 20 classes.\n",
      "Found 2400 images belonging to 20 classes.\n",
      "Found 1200 images belonging to 20 classes.\n"
     ]
    }
   ],
   "source": [
    "# Applying Data normalization and Data augmentation\n",
    "img_datagen = ImageDataGenerator(\n",
    "    # rescale=1./255\n",
    ")\n",
    "\n",
    "# validation_datagen = ImageDataGenerator(\n",
    "#     # rescale=1./255\n",
    "# )\n",
    "\n",
    "train_generator = img_datagen.flow_from_directory(\n",
    "    train_data,\n",
    "    batch_size=32,\n",
    "    color_mode=\"rgb\",\n",
    "    target_size=(224, 224),\n",
    "    class_mode=\"categorical\"\n",
    ")\n",
    "\n",
    "validation_generator = img_datagen.flow_from_directory(\n",
    "    val_data,\n",
    "    batch_size=32,\n",
    "    color_mode=\"rgb\",\n",
    "    target_size=(224, 224),\n",
    "    class_mode=\"categorical\"\n",
    ")\n",
    "\n",
    "test_generator = img_datagen.flow_from_directory(\n",
    "    test_data,\n",
    "    batch_size=32,\n",
    "    color_mode=\"rgb\",\n",
    "    target_size=(224, 224),\n",
    "    class_mode=\"categorical\"\n",
    ")"
   ]
  },
  {
   "cell_type": "markdown",
   "id": "b3e7526d-a4c8-4873-a932-0199125f81e4",
   "metadata": {},
   "source": [
    "# Model CNN dengan Tuning Parameter dan Dropout(0.75)"
   ]
  },
  {
   "cell_type": "code",
   "execution_count": 4,
   "id": "d92c865e-a05d-4bba-a116-96259c7bda4b",
   "metadata": {
    "tags": []
   },
   "outputs": [
    {
     "name": "stdout",
     "output_type": "stream",
     "text": [
      "Model: \"sequential\"\n",
      "_________________________________________________________________\n",
      " Layer (type)                Output Shape              Param #   \n",
      "=================================================================\n",
      " conv2d (Conv2D)             (None, 222, 222, 32)      896       \n",
      "                                                                 \n",
      " batch_normalization (Batch  (None, 222, 222, 32)      128       \n",
      " Normalization)                                                  \n",
      "                                                                 \n",
      " max_pooling2d (MaxPooling2  (None, 111, 111, 32)      0         \n",
      " D)                                                              \n",
      "                                                                 \n",
      " dropout (Dropout)           (None, 111, 111, 32)      0         \n",
      "                                                                 \n",
      " conv2d_1 (Conv2D)           (None, 109, 109, 64)      18496     \n",
      "                                                                 \n",
      " batch_normalization_1 (Bat  (None, 109, 109, 64)      256       \n",
      " chNormalization)                                                \n",
      "                                                                 \n",
      " max_pooling2d_1 (MaxPoolin  (None, 54, 54, 64)        0         \n",
      " g2D)                                                            \n",
      "                                                                 \n",
      " dropout_1 (Dropout)         (None, 54, 54, 64)        0         \n",
      "                                                                 \n",
      " conv2d_2 (Conv2D)           (None, 52, 52, 128)       73856     \n",
      "                                                                 \n",
      " batch_normalization_2 (Bat  (None, 52, 52, 128)       512       \n",
      " chNormalization)                                                \n",
      "                                                                 \n",
      " max_pooling2d_2 (MaxPoolin  (None, 26, 26, 128)       0         \n",
      " g2D)                                                            \n",
      "                                                                 \n",
      " dropout_2 (Dropout)         (None, 26, 26, 128)       0         \n",
      "                                                                 \n",
      " conv2d_3 (Conv2D)           (None, 24, 24, 256)       295168    \n",
      "                                                                 \n",
      " batch_normalization_3 (Bat  (None, 24, 24, 256)       1024      \n",
      " chNormalization)                                                \n",
      "                                                                 \n",
      " max_pooling2d_3 (MaxPoolin  (None, 12, 12, 256)       0         \n",
      " g2D)                                                            \n",
      "                                                                 \n",
      " dropout_3 (Dropout)         (None, 12, 12, 256)       0         \n",
      "                                                                 \n",
      " flatten (Flatten)           (None, 36864)             0         \n",
      "                                                                 \n",
      " dense (Dense)               (None, 512)               18874880  \n",
      "                                                                 \n",
      " batch_normalization_4 (Bat  (None, 512)               2048      \n",
      " chNormalization)                                                \n",
      "                                                                 \n",
      " dropout_4 (Dropout)         (None, 512)               0         \n",
      "                                                                 \n",
      " dense_1 (Dense)             (None, 256)               131328    \n",
      "                                                                 \n",
      " batch_normalization_5 (Bat  (None, 256)               1024      \n",
      " chNormalization)                                                \n",
      "                                                                 \n",
      " dropout_5 (Dropout)         (None, 256)               0         \n",
      "                                                                 \n",
      " dense_2 (Dense)             (None, 20)                5140      \n",
      "                                                                 \n",
      "=================================================================\n",
      "Total params: 19404756 (74.02 MB)\n",
      "Trainable params: 19402260 (74.01 MB)\n",
      "Non-trainable params: 2496 (9.75 KB)\n",
      "_________________________________________________________________\n"
     ]
    }
   ],
   "source": [
    "import tensorflow as tf\n",
    "from tensorflow.keras import layers, models, optimizers\n",
    "from tensorflow.keras.callbacks import LearningRateScheduler, EarlyStopping\n",
    "from tensorflow.keras.preprocessing.image import ImageDataGenerator\n",
    "from tensorflow.keras import regularizers\n",
    "\n",
    "# Membuat model CNN dengan Batch Normalization, Regularization, dan Dropout\n",
    "model = models.Sequential()\n",
    "\n",
    "# Blok 1\n",
    "model.add(layers.Conv2D(32, (3, 3), activation='relu', input_shape=(224, 224, 3)))\n",
    "model.add(layers.BatchNormalization())\n",
    "model.add(layers.MaxPooling2D((2, 2)))\n",
    "model.add(layers.Dropout(0.75))  # Menambahkan layer Dropout\n",
    "\n",
    "# Blok 2\n",
    "model.add(layers.Conv2D(64, (3, 3), activation='relu', kernel_regularizer=regularizers.l2(0.001)))\n",
    "model.add(layers.BatchNormalization())\n",
    "model.add(layers.MaxPooling2D((2, 2)))\n",
    "model.add(layers.Dropout(0.75))  \n",
    "\n",
    "# Blok 3\n",
    "model.add(layers.Conv2D(128, (3, 3), activation='relu', kernel_regularizer=regularizers.l2(0.001)))\n",
    "model.add(layers.BatchNormalization())\n",
    "model.add(layers.MaxPooling2D((2, 2)))\n",
    "model.add(layers.Dropout(0.75))  \n",
    "\n",
    "# Blok 4\n",
    "model.add(layers.Conv2D(256, (3, 3), activation='relu', kernel_regularizer=regularizers.l2(0.001)))\n",
    "model.add(layers.BatchNormalization())\n",
    "model.add(layers.MaxPooling2D((2, 2)))\n",
    "model.add(layers.Dropout(0.75))\n",
    "\n",
    "model.add(layers.Flatten())\n",
    "\n",
    "# Dense Layer 1\n",
    "model.add(layers.Dense(512, activation='relu'))\n",
    "model.add(layers.BatchNormalization())\n",
    "model.add(layers.Dropout(0.75))\n",
    "\n",
    "# Dense Layer 2\n",
    "model.add(layers.Dense(256, activation='relu'))\n",
    "model.add(layers.BatchNormalization())\n",
    "model.add(layers.Dropout(0.75))\n",
    "\n",
    "model.add(layers.Dense(20, activation='softmax'))\n",
    "\n",
    "# Compile model dengan pengaturan tambahan\n",
    "opt = optimizers.Adam(learning_rate=0.001, clipvalue=0.5)  # Gradient clipping\n",
    "model.compile(optimizer=opt,\n",
    "              loss='categorical_crossentropy',\n",
    "              metrics=['accuracy'])\n",
    "\n",
    "# Print ringkasan model\n",
    "model.summary()"
   ]
  },
  {
   "cell_type": "code",
   "execution_count": 5,
   "id": "51e542f5-f4cb-48a5-be90-c5e90ac966fd",
   "metadata": {
    "tags": []
   },
   "outputs": [],
   "source": [
    "# Fungsi untuk menetapkan learning rate secara dinamis\n",
    "def lr_scheduler(epoch, lr):\n",
    "    if epoch % 30 == 0 and epoch > 0:\n",
    "        lr = lr * 0.9  # Contoh: Mengurangi learning rate setiap 10 epoch\n",
    "    return lr\n",
    "\n",
    "# Fungsi untuk menghentikan pelatihan jika akurasi mencapai 95%\n",
    "class AccuracyThreshold(tf.keras.callbacks.Callback):\n",
    "    def on_epoch_end(self, epoch, logs=None):\n",
    "        if logs.get('accuracy') > 0.98:\n",
    "            print(\"\\nAkurasi mencapai 95%! Menghentikan pelatihan.\")\n",
    "            self.model.stop_training = True"
   ]
  },
  {
   "cell_type": "code",
   "execution_count": 6,
   "id": "c3f68d3a-fdcc-4552-b51d-fe87a96a988f",
   "metadata": {
    "tags": []
   },
   "outputs": [],
   "source": [
    "# Menambahkan learning rate scheduler dan early stopping\n",
    "lr_schedule = LearningRateScheduler(lr_scheduler)\n",
    "accuracy_threshold = AccuracyThreshold()\n",
    "callbacks_list = [lr_schedule, accuracy_threshold]"
   ]
  },
  {
   "cell_type": "code",
   "execution_count": null,
   "id": "3f833717-3411-4948-bca0-ff434a030c8f",
   "metadata": {
    "tags": []
   },
   "outputs": [
    {
     "name": "stdout",
     "output_type": "stream",
     "text": [
      "Epoch 1/50\n",
      "  1/263 [..............................] - ETA: 5:20:24 - loss: 4.4995 - accuracy: 0.0312"
     ]
    }
   ],
   "source": [
    "# Train the model with EarlyStopping callback\n",
    "history = model.fit(\n",
    "    train_generator,\n",
    "    epochs=50,\n",
    "    validation_data=validation_generator,\n",
    "    callbacks=callbacks_list  # Menggunakan callbacks_list yang sudah termasuk EarlyStopping\n",
    ")"
   ]
  },
  {
   "cell_type": "code",
   "execution_count": null,
   "id": "8e2b234c-65a0-4a6f-9dd6-2784d3f0ea9b",
   "metadata": {
    "tags": []
   },
   "outputs": [],
   "source": [
    "plt.figure(figsize=(12, 8))\n",
    "\n",
    "plt.subplot(2, 2, 1)\n",
    "plt.plot(history.history['loss'], label='Loss')\n",
    "plt.plot(history.history['val_loss'], label='Val_Loss')\n",
    "plt.legend()\n",
    "plt.title('Loss Evolution')\n",
    "\n",
    "plt.subplot(2, 2, 2) \n",
    "plt.plot(history.history['accuracy'], label='Accuracy')\n",
    "plt.plot(history.history['val_accuracy'], label='Val_Accuracy')\n",
    "plt.legend()\n",
    "plt.title('Accuracy Evolution')"
   ]
  },
  {
   "cell_type": "code",
   "execution_count": null,
   "id": "eb556d70-792f-488b-aa2d-0cb434d6b871",
   "metadata": {
    "tags": []
   },
   "outputs": [],
   "source": [
    "# Evaluasi model pada data uji\n",
    "evaluation_result = model.evaluate(test_generator)\n",
    "\n",
    "# Menampilkan hasil evaluasi\n",
    "print(f\"Test Loss: {evaluation_result[0]}\")\n",
    "print(f\"Test Accuracy: {evaluation_result[1]}\")"
   ]
  },
  {
   "cell_type": "markdown",
   "id": "65487d05-9743-4f4b-ad90-d7707cdc2f01",
   "metadata": {},
   "source": [
    "# Testing"
   ]
  },
  {
   "cell_type": "code",
   "execution_count": null,
   "id": "6f8dca88-aa4d-49db-9c84-ea150e632a4a",
   "metadata": {
    "tags": []
   },
   "outputs": [],
   "source": [
    "# Menyimpan model setelah melatih\n",
    "model.save('../Oprek/model_v7.h5')"
   ]
  },
  {
   "cell_type": "code",
   "execution_count": null,
   "id": "d08bd871-e15a-43ec-b247-65bf260efac0",
   "metadata": {
    "tags": []
   },
   "outputs": [],
   "source": [
    "import tensorflow as tf\n",
    "import matplotlib.pyplot as plt\n",
    "\n",
    "# Mengasumsikan Anda memiliki model yang telah dilatih\n",
    "model = tf.keras.models.load_model('../Oprek/model_v7.h5')\n",
    "\n",
    "# Mengasumsikan Anda memiliki gambar yang akan diprediksi\n",
    "path_gambar = '../Oprek/Ori_byPhiard/prediction/ba17.png'\n",
    "\n",
    "# Memuat dan memproses gambar\n",
    "img = tf.keras.preprocessing.image.load_img(path_gambar, target_size=(224, 224))\n",
    "img_array = tf.keras.preprocessing.image.img_to_array(img)\n",
    "img_array = tf.expand_dims(img_array, 0)  # Membuat batch\n",
    "\n",
    "# Memprediksi probabilitas kelas\n",
    "prediksi = model.predict(img_array)\n",
    "kelas_terprediksi = tf.argmax(prediksi, axis=1).numpy()[0]\n",
    "\n",
    "# Mendefinisikan label kelas\n",
    "label_kelas = ['ba', 'ca', 'da', 'dha', 'ga', 'ha', 'ja', 'ka', 'la', 'ma',\n",
    "               'na', 'nga', 'nya', 'pa', 'ra', 'sa', 'ta', 'tha', 'wa', 'ya']\n",
    "\n",
    "# Mencetak label kelas yang diprediksi\n",
    "print(\"Kelas yang diprediksi:\", label_kelas[kelas_terprediksi])\n",
    "\n",
    "# Menampilkan gambar\n",
    "plt.imshow(img)\n",
    "plt.title(f'Predicted Class: {label_kelas[kelas_terprediksi]}')\n",
    "plt.show()"
   ]
  },
  {
   "cell_type": "code",
   "execution_count": null,
   "id": "cd35b29f-4c85-40a4-81d4-4891e0d88021",
   "metadata": {
    "tags": []
   },
   "outputs": [],
   "source": [
    "# import os  \n",
    "# import matplotlib.pyplot as plt\n",
    "# from keras.preprocessing import image\n",
    "# from keras.models import load_model\n",
    "# import numpy as np\n",
    "\n",
    "# # Menyimpan model setelah melatih\n",
    "# # model.save('../Oprek/model_v7.h5')\n",
    "\n",
    "# # Memuat model dari file\n",
    "# # loaded_model = load_model('model_v7a.h5')\n",
    "\n",
    "# # Memuat gambar\n",
    "# img_path = '../Oprek/Ori_byPhiard/prediction/ba17.png'\n",
    "# img = image.load_img(img_path,\n",
    "#                      target_size=(224, 224),\n",
    "#                      color_mode='grayscale')\n",
    "# img = image.img_to_array(img)\n",
    "# img = np.expand_dims(img, axis=0)\n",
    "\n",
    "# # Memuat model menggunakan path absolut (sebaiknya menggunakan path yang benar)\n",
    "# model_path = '../Oprek/model_v7.h5'\n",
    "# saved_model = load_model(model_path)\n",
    "# output = saved_model.predict(img)\n",
    "\n",
    "# # Bagian sisanya dari kode Anda tetap tidak berubah\n",
    "# max_value = np.max(output)\n",
    "# pos = np.argmax(output)\n",
    "\n",
    "# max = output[0][0]\n",
    "# pos = 0\n",
    "# for i in range(1, 19): \n",
    "#     if output[0][i] > max: \n",
    "#         max = output[0][i]\n",
    "#         pos = i\n",
    "         \n",
    "# print(output)\n",
    "# print(max)\n",
    "\n",
    "\n",
    "# if (pos == 0) :\n",
    "#     print(\"ba\")\n",
    "# elif (pos == 1) :\n",
    "#     print('ca')\n",
    "# elif (pos == 2) :\n",
    "#     print('da')\n",
    "# elif (pos == 3) :\n",
    "#     print('dha')\n",
    "# elif (pos == 4) :\n",
    "#     print('ga')\n",
    "# elif (pos == 5) :\n",
    "#     print('ha')\n",
    "# elif (pos == 6) :\n",
    "#     print('ja')\n",
    "# elif (pos == 7) :\n",
    "#     print('ka')\n",
    "# elif (pos == 8) :\n",
    "#     print('la')\n",
    "# elif (pos == 9) :\n",
    "#     print('ma')\n",
    "# elif (pos == 10) :\n",
    "#     print('na')\n",
    "# elif (pos == 11) :\n",
    "#     print('nga')\n",
    "# elif (pos == 12) :\n",
    "#     print('nya')\n",
    "# elif (pos == 13) :\n",
    "#     print('pa')\n",
    "# elif (pos == 14) :\n",
    "#     print('ra')\n",
    "# elif (pos == 15) :\n",
    "#     print('sa')\n",
    "# elif (pos == 16) :\n",
    "#     print('ta')\n",
    "# elif (pos == 17) :\n",
    "#     print('tha')\n",
    "# elif (pos == 18) :\n",
    "#     print('wa')\n",
    "# elif (pos == 19) :\n",
    "#     print('ya')"
   ]
  },
  {
   "cell_type": "code",
   "execution_count": null,
   "id": "2559153e-a1e7-4b0e-8c83-325bf835e045",
   "metadata": {},
   "outputs": [],
   "source": []
  }
 ],
 "metadata": {
  "kernelspec": {
   "display_name": "Python 3 (ipykernel)",
   "language": "python",
   "name": "python3"
  },
  "language_info": {
   "codemirror_mode": {
    "name": "ipython",
    "version": 3
   },
   "file_extension": ".py",
   "mimetype": "text/x-python",
   "name": "python",
   "nbconvert_exporter": "python",
   "pygments_lexer": "ipython3",
   "version": "3.11.5"
  }
 },
 "nbformat": 4,
 "nbformat_minor": 5
}
