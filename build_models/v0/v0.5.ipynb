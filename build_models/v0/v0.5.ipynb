{
 "cells": [
  {
   "cell_type": "code",
   "execution_count": null,
   "id": "e5998351-f328-4a59-9940-c0e64eba3958",
   "metadata": {
    "tags": []
   },
   "outputs": [],
   "source": [
    "import os\n",
    "from keras.preprocessing.image import ImageDataGenerator"
   ]
  },
  {
   "cell_type": "code",
   "execution_count": null,
   "id": "8bfb7593-7956-4ec5-a36e-1d03e8432d08",
   "metadata": {
    "tags": []
   },
   "outputs": [],
   "source": [
    "# Tentukan jalur direktori untuk data latih, validasi, dan uji\n",
    "train_data = \"../Oprek/Ori_Data_Aug/train\" \n",
    "val_data = \"../Oprek/Ori_Data_Aug/val\"\n",
    "test_data = \"../Oprek/Ori_Data_Aug/test\"\n",
    "\n",
    "# train_data = '../Oprek/data_split/train'\n",
    "# test_data = '../Oprek/data_split/test'"
   ]
  },
  {
   "cell_type": "code",
   "execution_count": null,
   "id": "b3261c4f-868a-473e-a7b0-5e25f72e39a6",
   "metadata": {
    "tags": []
   },
   "outputs": [],
   "source": [
    "# Applying Data normalization and Data augmentation\n",
    "img_datagen = ImageDataGenerator(\n",
    "    # rescale=1./255\n",
    ")\n",
    "\n",
    "# validation_datagen = ImageDataGenerator(\n",
    "#     # rescale=1./255\n",
    "# )\n",
    "\n",
    "train_generator = img_datagen.flow_from_directory(\n",
    "    train_data,\n",
    "    batch_size=32,\n",
    "    color_mode=\"rgb\",\n",
    "    target_size=(224, 224),\n",
    "    class_mode=\"categorical\"\n",
    ")\n",
    "\n",
    "validation_generator = img_datagen.flow_from_directory(\n",
    "    val_data,\n",
    "    batch_size=32,\n",
    "    color_mode=\"rgb\",\n",
    "    target_size=(224, 224),\n",
    "    class_mode=\"categorical\"\n",
    ")\n",
    "\n",
    "test_generator = img_datagen.flow_from_directory(\n",
    "    test_data,\n",
    "    batch_size=32,\n",
    "    color_mode=\"rgb\",\n",
    "    target_size=(224, 224),\n",
    "    class_mode=\"categorical\"\n",
    ")"
   ]
  },
  {
   "cell_type": "markdown",
   "id": "5203de26-bf07-4d75-82f8-acf5312c0739",
   "metadata": {},
   "source": [
    "# Model CNN Dengan Arsitekur Vgg16"
   ]
  },
  {
   "cell_type": "code",
   "execution_count": null,
   "id": "7f46df40-cdde-41a8-b9d7-31fac80e822c",
   "metadata": {
    "tags": []
   },
   "outputs": [],
   "source": [
    "from tensorflow.keras.models import Sequential\n",
    "from tensorflow.keras.layers import Conv2D, MaxPooling2D, Flatten, Dense\n",
    "from tensorflow.keras.applications import VGG16\n",
    "from tensorflow.keras.optimizers import Adam\n",
    "from tensorflow.keras.preprocessing.image import ImageDataGenerator\n",
    "\n",
    "# Membuat objek VGG16 tanpa lapisan terakhir (include_top=False)\n",
    "base_model = VGG16(weights=None, include_top=False, input_shape=(224, 224, 3))\n",
    "\n",
    "# Membuat model Sequential\n",
    "model = Sequential()\n",
    "\n",
    "# Menambahkan lapisan-lapisan VGG16 ke dalam model\n",
    "model.add(base_model)\n",
    "\n",
    "# Menambahkan lapisan-lapisan tambahan untuk klasifikasi\n",
    "model.add(Flatten())\n",
    "model.add(Dense(128, activation='relu'))\n",
    "model.add(Dense(64, activation='relu'))\n",
    "model.add(Dense(20, activation='softmax'))  \n",
    "\n",
    "# Mengatur model untuk pembelajaran transfer dengan membekukan lapisan-lapisan VGG16\n",
    "for layer in base_model.layers:\n",
    "    layer.trainable = False\n",
    "\n",
    "# Kompilasi model\n",
    "model.compile(optimizer=Adam(learning_rate=0.0001), loss='categorical_crossentropy', metrics=['accuracy'])\n",
    "\n",
    "# Mencetak ringkasan arsitektur model\n",
    "model.summary()"
   ]
  },
  {
   "cell_type": "code",
   "execution_count": null,
   "id": "1525bab1-5a66-4efd-89b8-f62657572336",
   "metadata": {
    "tags": []
   },
   "outputs": [],
   "source": [
    "from tensorflow.keras.callbacks import EarlyStopping\n",
    "\n",
    "# Define EarlyStopping callback\n",
    "early_stopping_callback = EarlyStopping(\n",
    "    monitor='accuracy', \n",
    "    patience=3, \n",
    "    min_delta=0.01, \n",
    "    baseline=0.98, \n",
    "    mode='max', \n",
    "    verbose=1\n",
    ")"
   ]
  },
  {
   "cell_type": "code",
   "execution_count": null,
   "id": "dc019b50-5c98-425e-ade9-62c5cf686fec",
   "metadata": {
    "tags": []
   },
   "outputs": [],
   "source": [
    "# Train the model with EarlyStopping callback\n",
    "history = model.fit(\n",
    "    train_generator, \n",
    "    epochs=15, \n",
    "    validation_data=validation_generator,  \n",
    "    callbacks=[early_stopping_callback]\n",
    ")"
   ]
  }
 ],
 "metadata": {
  "kernelspec": {
   "display_name": "Python 3 (ipykernel)",
   "language": "python",
   "name": "python3"
  },
  "language_info": {
   "codemirror_mode": {
    "name": "ipython",
    "version": 3
   },
   "file_extension": ".py",
   "mimetype": "text/x-python",
   "name": "python",
   "nbconvert_exporter": "python",
   "pygments_lexer": "ipython3",
   "version": "3.11.5"
  }
 },
 "nbformat": 4,
 "nbformat_minor": 5
}
