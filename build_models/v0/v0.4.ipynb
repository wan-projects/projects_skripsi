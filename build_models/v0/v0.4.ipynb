{
 "cells": [
  {
   "cell_type": "code",
   "execution_count": 1,
   "id": "a5c92220-1a41-41b7-9554-af70f4f24d7f",
   "metadata": {},
   "outputs": [],
   "source": [
    "import os\n",
    "from keras.preprocessing.image import ImageDataGenerator"
   ]
  },
  {
   "cell_type": "code",
   "execution_count": 2,
   "id": "053f5374-9513-4776-86ca-e74d89793176",
   "metadata": {},
   "outputs": [],
   "source": [
    "# Tentukan jalur direktori untuk data latih, validasi, dan uji\n",
    "train_data = \"../Oprek/Ori_Data_Aug/train\" \n",
    "val_data = \"../Oprek/Ori_Data_Aug/val\"\n",
    "test_data = \"../Oprek/Ori_Data_Aug/test\"\n",
    "\n",
    "# train_data = '../Oprek/data_split/train'\n",
    "# test_data = '../Oprek/data_split/test'"
   ]
  },
  {
   "cell_type": "code",
   "execution_count": 3,
   "id": "54997b40-5519-4dd6-8ebc-ac150da14536",
   "metadata": {},
   "outputs": [
    {
     "name": "stdout",
     "output_type": "stream",
     "text": [
      "Found 8400 images belonging to 20 classes.\n",
      "Found 2400 images belonging to 20 classes.\n",
      "Found 1200 images belonging to 20 classes.\n"
     ]
    }
   ],
   "source": [
    "# Applying Data normalization and Data augmentation\n",
    "img_datagen = ImageDataGenerator(\n",
    "    rescale=1./255\n",
    ")\n",
    "\n",
    "# validation_datagen = ImageDataGenerator(\n",
    "#     # rescale=1./255\n",
    "# )\n",
    "\n",
    "train_generator = img_datagen.flow_from_directory(\n",
    "    train_data,\n",
    "    batch_size=32,\n",
    "    color_mode=\"rgb\",\n",
    "    target_size=(64, 64),\n",
    "    class_mode=\"categorical\"\n",
    ")\n",
    "\n",
    "validation_generator = img_datagen.flow_from_directory(\n",
    "    val_data,\n",
    "    batch_size=32,\n",
    "    color_mode=\"rgb\",\n",
    "    target_size=(64, 64),\n",
    "    class_mode=\"categorical\"\n",
    ")\n",
    "\n",
    "test_generator = img_datagen.flow_from_directory(\n",
    "    test_data,\n",
    "    batch_size=32,\n",
    "    color_mode=\"rgb\",\n",
    "    target_size=(64, 64),\n",
    "    class_mode=\"categorical\"\n",
    ")"
   ]
  },
  {
   "cell_type": "markdown",
   "id": "335b37e2-e816-49a6-8cbe-fdf1e980de24",
   "metadata": {},
   "source": [
    "# Model CNN tanpa Arsitekur Vgg16 & Tuning Parameter"
   ]
  },
  {
   "cell_type": "code",
   "execution_count": 4,
   "id": "aa040458-621e-41cc-b46f-ff0fb6e835e9",
   "metadata": {
    "tags": []
   },
   "outputs": [
    {
     "name": "stdout",
     "output_type": "stream",
     "text": [
      "Model: \"sequential\"\n",
      "_________________________________________________________________\n",
      " Layer (type)                Output Shape              Param #   \n",
      "=================================================================\n",
      " conv2d (Conv2D)             (None, 62, 62, 32)        896       \n",
      "                                                                 \n",
      " max_pooling2d (MaxPooling2  (None, 31, 31, 32)        0         \n",
      " D)                                                              \n",
      "                                                                 \n",
      " conv2d_1 (Conv2D)           (None, 29, 29, 64)        18496     \n",
      "                                                                 \n",
      " max_pooling2d_1 (MaxPoolin  (None, 14, 14, 64)        0         \n",
      " g2D)                                                            \n",
      "                                                                 \n",
      " conv2d_2 (Conv2D)           (None, 12, 12, 128)       73856     \n",
      "                                                                 \n",
      " max_pooling2d_2 (MaxPoolin  (None, 6, 6, 128)         0         \n",
      " g2D)                                                            \n",
      "                                                                 \n",
      " flatten (Flatten)           (None, 4608)              0         \n",
      "                                                                 \n",
      " dense (Dense)               (None, 100)               460900    \n",
      "                                                                 \n",
      " dense_1 (Dense)             (None, 20)                2020      \n",
      "                                                                 \n",
      "=================================================================\n",
      "Total params: 556168 (2.12 MB)\n",
      "Trainable params: 556168 (2.12 MB)\n",
      "Non-trainable params: 0 (0.00 Byte)\n",
      "_________________________________________________________________\n"
     ]
    }
   ],
   "source": [
    "from keras.models import Sequential\n",
    "from keras.layers import Conv2D, MaxPooling2D, Flatten, Dense\n",
    "\n",
    "# Membuat model CNN\n",
    "model = Sequential()\n",
    "\n",
    "# Blok 1\n",
    "model.add(Conv2D(32, (3, 3), activation='relu', input_shape=(64, 64, 3)))\n",
    "model.add(MaxPooling2D((2, 2)))\n",
    "\n",
    "# Blok 2\n",
    "model.add(Conv2D(64, (3, 3), activation='relu'))\n",
    "model.add(MaxPooling2D((2, 2)))\n",
    "\n",
    "# Blok 3\n",
    "model.add(Conv2D(128, (3, 3), activation='relu'))\n",
    "model.add(MaxPooling2D((2, 2)))\n",
    "\n",
    "# Mengubah hasil dari layer sebelumnya menjadi vektor\n",
    "model.add(Flatten())\n",
    "\n",
    "# Fully connected layers\n",
    "model.add(Dense(100, activation='relu'))\n",
    "model.add(Dense(20, activation='softmax'))  # Jumlah kelas sesuai dengan dataset Anda\n",
    "\n",
    "# Compile model\n",
    "model.compile(optimizer='adam', loss='categorical_crossentropy', metrics=['accuracy'])\n",
    "\n",
    "# Print ringkasan model\n",
    "model.summary()"
   ]
  },
  {
   "cell_type": "code",
   "execution_count": 5,
   "id": "6fd0a577-4a62-4fdd-81f4-cc86710ce58c",
   "metadata": {},
   "outputs": [],
   "source": [
    "# from keras.callbacks import Callback\n",
    "\n",
    "# class CustomCallback(Callback):\n",
    "#     def on_epoch_end(self, epoch, logs=None):\n",
    "#         if logs is not None:\n",
    "#             print(f\"Epoch {epoch + 1} - Accuracy: {logs['accuracy']:.1%}\")\n",
    "\n",
    "# from tensorflow.keras.callbacks import EarlyStopping\n",
    "\n",
    "# Define EarlyStopping callback\n",
    "# early_stopping_callback = EarlyStopping(\n",
    "    # monitor='accuracy', \n",
    "    # patience=3, \n",
    "    # min_delta=0.01, \n",
    "    # baseline=0.98, \n",
    "    # mode='max' \n",
    "    # verbose=1\n",
    "# )"
   ]
  },
  {
   "cell_type": "code",
   "execution_count": 6,
   "id": "f1ea64ca-ec29-4d5c-bf52-1f1208cde98b",
   "metadata": {
    "tags": []
   },
   "outputs": [],
   "source": [
    "from tensorflow.keras.callbacks import Callback\n",
    "\n",
    "class AccuracyCallback(Callback):\n",
    "    def on_epoch_end(self, epoch, logs=None):\n",
    "        if logs['accuracy'] >= 0.98:\n",
    "            print(\"\\nAkurasi mencapai 95%, menghentikan pelatihan!\")\n",
    "            self.model.stop_training = True\n",
    "\n",
    "# Callback untuk menghentikan pelatihan\n",
    "accuracy_callback = AccuracyCallback()"
   ]
  },
  {
   "cell_type": "code",
   "execution_count": 7,
   "id": "57295733-190b-4b08-905e-3c1561432062",
   "metadata": {
    "tags": []
   },
   "outputs": [
    {
     "name": "stdout",
     "output_type": "stream",
     "text": [
      "Epoch 1/15\n",
      "263/263 [==============================] - 365s 1s/step - loss: 1.2705 - accuracy: 0.6123 - val_loss: 0.8114 - val_accuracy: 0.8067\n",
      "Epoch 2/15\n",
      "263/263 [==============================] - 239s 906ms/step - loss: 0.1160 - accuracy: 0.9662 - val_loss: 0.8295 - val_accuracy: 0.8496\n",
      "Epoch 3/15\n",
      "263/263 [==============================] - ETA: 0s - loss: 0.0262 - accuracy: 0.9935\n",
      "Akurasi mencapai 95%, menghentikan pelatihan!\n",
      "263/263 [==============================] - 205s 779ms/step - loss: 0.0262 - accuracy: 0.9935 - val_loss: 0.7242 - val_accuracy: 0.8621\n"
     ]
    }
   ],
   "source": [
    "# Train the model with EarlyStopping callback\n",
    "history = model.fit(\n",
    "    train_generator, \n",
    "    epochs=15, \n",
    "    validation_data=validation_generator,  \n",
    "    callbacks=[accuracy_callback]\n",
    ")"
   ]
  }
 ],
 "metadata": {
  "kernelspec": {
   "display_name": "Python 3 (ipykernel)",
   "language": "python",
   "name": "python3"
  },
  "language_info": {
   "codemirror_mode": {
    "name": "ipython",
    "version": 3
   },
   "file_extension": ".py",
   "mimetype": "text/x-python",
   "name": "python",
   "nbconvert_exporter": "python",
   "pygments_lexer": "ipython3",
   "version": "3.11.5"
  },
  "toc-showcode": false,
  "toc-showmarkdowntxt": true
 },
 "nbformat": 4,
 "nbformat_minor": 5
}
